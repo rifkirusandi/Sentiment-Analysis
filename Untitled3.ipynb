{
 "cells": [
  {
   "cell_type": "code",
   "execution_count": 1,
   "metadata": {},
   "outputs": [],
   "source": [
    "import requests\n",
    "from bs4 import BeautifulSoup as soup"
   ]
  },
  {
   "cell_type": "code",
   "execution_count": 2,
   "metadata": {},
   "outputs": [
    {
     "data": {
      "text/plain": [
       "200"
      ]
     },
     "execution_count": 2,
     "metadata": {},
     "output_type": "execute_result"
    }
   ],
   "source": [
    "html = requests.get('https://www.tripadvisor.com/Attraction_Review-g469404-d3780963-Reviews-Double_Six_Beach-Seminyak_Kuta_District_Bali.html')\n",
    "html.status_code"
   ]
  },
  {
   "cell_type": "code",
   "execution_count": 3,
   "metadata": {},
   "outputs": [],
   "source": [
    "bsobj = soup(html.content,'lxml')"
   ]
  },
  {
   "cell_type": "code",
   "execution_count": 4,
   "metadata": {},
   "outputs": [],
   "source": [
    "records = []\n",
    "\n",
    "container = soup.find_all('div', {'class': '_2rspOqPP'})\n",
    "    for r in container:\n",
    "        reviews = r.find_all('div', {'class': None})\n",
    "        for review in reviews:\n",
    "            try:\n",
    "                user = review.find('a', {'class': '_7c6GgQ6n _37QDe3gr WullykOU _3WoyIIcL'}).text\n",
    "                country = review.find('div', {'class': country_class}).span.text\n",
    "                date = review.find('div', {'class': '_3JxPDYSx'}).text\n",
    "                content = review.find('div', {'class': 'DrjyGw-P _26S7gyB4 _2nPM5Opx'}).text\n",
    "                records.append((user, country, date, content))\n",
    "            except AttributeError:\n",
    "                pass\n",
    "\n",
    "df = pd.DataFrame(records, columns=['Name', 'Country', 'Date', 'Content'])\n",
    "# df.to_json ('doublesix_data.json', orient='records')\n",
    "# result = df.to_json(orient=\"records\")\n",
    "# parsed = json.loads(result)\n",
    "# json.dumps(parsed, indent=4)\n",
    "df.to_csv('doublesix_.csv', index=False, encoding='utf-8')"
   ]
  },
  {
   "cell_type": "code",
   "execution_count": null,
   "metadata": {},
   "outputs": [],
   "source": [
    "from random import randint\n",
    "from time import sleep\n",
    "\n",
    "reviews = []\n",
    "\n",
    "for link in links:\n",
    "    d = [5,10,15,20,25]\n",
    "    headers = {'User-Agent':'Mozilla/5.0 (Windows NT 10.0; WOW64) AppleWebKit/537.36 (KHTML, like Gecko) Chrome/83.0.4103.97 Safari/537.36'}\n",
    "    html2 = requests.get(link.format(i for i in range(5,1000,5)),headers=headers)\n",
    "    sleep(randint(1,5))\n",
    "    bsobj2 = soup(html2.content,'lxml')\n",
    "    for r in bsobj2.findAll('q'):\n",
    "        reviews.append(r.span.text.strip())\n",
    "        print(r.span.text.strip())"
   ]
  }
 ],
 "metadata": {
  "kernelspec": {
   "display_name": "Python 3",
   "language": "python",
   "name": "python3"
  },
  "language_info": {
   "codemirror_mode": {
    "name": "ipython",
    "version": 3
   },
   "file_extension": ".py",
   "mimetype": "text/x-python",
   "name": "python",
   "nbconvert_exporter": "python",
   "pygments_lexer": "ipython3",
   "version": "3.7.4"
  }
 },
 "nbformat": 4,
 "nbformat_minor": 2
}
