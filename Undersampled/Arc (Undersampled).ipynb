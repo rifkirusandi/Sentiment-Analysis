{
 "cells": [
  {
   "cell_type": "code",
   "execution_count": 1,
   "metadata": {},
   "outputs": [],
   "source": [
    "import matplotlib.pyplot as plt\n",
    "import os\n",
    "import re\n",
    "import shutil\n",
    "import string\n",
    "import tensorflow as tf\n",
    "import warnings\n",
    "import imblearn\n",
    "\n",
    "from collections import Counter\n",
    "\n",
    "from imblearn.over_sampling import SMOTE, RandomOverSampler\n",
    "\n",
    "from tensorflow.keras import regularizers\n",
    "from tensorflow.keras.callbacks import EarlyStopping\n",
    "\n",
    "from tensorflow.keras import layers\n",
    "from tensorflow.keras import losses\n",
    "\n",
    "from keras.callbacks import ModelCheckpoint\n",
    "\n",
    "import pandas as pd\n",
    "import numpy as np\n",
    "\n",
    "from sklearn.feature_extraction.text import TfidfVectorizer\n",
    "\n",
    "from sklearn.preprocessing import LabelEncoder\n",
    "from sklearn.model_selection import train_test_split\n",
    "from sklearn.metrics import classification_report\n",
    "from sklearn.metrics import f1_score\n",
    "from sklearn.metrics import roc_auc_score\n",
    "from sklearn.metrics import roc_curve\n",
    "\n",
    "from tensorflow.keras import preprocessing\n",
    "from tensorflow.keras.preprocessing.text import Tokenizer\n",
    "from tensorflow.keras.preprocessing.sequence import pad_sequences\n",
    "\n",
    "import pydot"
   ]
  },
  {
   "cell_type": "code",
   "execution_count": 2,
   "metadata": {},
   "outputs": [
    {
     "name": "stdout",
     "output_type": "stream",
     "text": [
      "-------Train data--------\n",
      "1    754\n",
      "0    754\n",
      "Name: sentiment, dtype: int64\n",
      "1508\n",
      "-------Test data--------\n",
      "1    443\n",
      "0    222\n",
      "Name: sentiment, dtype: int64\n",
      "665\n",
      "-------------------------\n",
      "Train Max Sentence Length :306\n",
      "Test Max Sentence Length :242\n"
     ]
    }
   ],
   "source": [
    "train_data= pd.read_csv('data_train.csv')\n",
    "train_data.dropna(axis = 0, how ='any',inplace=True) \n",
    "\n",
    "\n",
    "train_data['Num_words_text'] = train_data['review'].apply(lambda x:len(str(x).split())) \n",
    "mask = train_data['Num_words_text'] >2\n",
    "train_data = train_data[mask]\n",
    "\n",
    "print('-------Train data--------')\n",
    "print(train_data['sentiment'].value_counts())\n",
    "print(len(train_data))\n",
    "max_train_sentence_length  = train_data['Num_words_text'].max()\n",
    "\n",
    "test_data= pd.read_csv('data_test.csv')\n",
    "test_data.dropna(axis = 0, how ='any',inplace=True) \n",
    "test_data['Num_words_text'] = test_data['review'].apply(lambda x:len(str(x).split())) \n",
    "\n",
    "max_test_sentence_length  = test_data['Num_words_text'].max()\n",
    "\n",
    "mask = test_data['Num_words_text'] >2\n",
    "test_data = test_data[mask]\n",
    "\n",
    "print('-------Test data--------')\n",
    "print(test_data['sentiment'].value_counts())\n",
    "print(len(test_data))\n",
    "print('-------------------------')\n",
    "\n",
    "print('Train Max Sentence Length :'+str(max_train_sentence_length))\n",
    "print('Test Max Sentence Length :'+str(max_test_sentence_length))\n",
    "\n",
    "#all_sentences = train_data['text'].tolist() + test_data['text'].tolist()"
   ]
  },
  {
   "cell_type": "code",
   "execution_count": 3,
   "metadata": {},
   "outputs": [],
   "source": [
    "corpus = train_data['review'].values.astype('U')\n",
    "# test_data['review'].values.astype('U')"
   ]
  },
  {
   "cell_type": "code",
   "execution_count": 9,
   "metadata": {},
   "outputs": [
    {
     "name": "stdout",
     "output_type": "stream",
     "text": [
      "[[12, 97, 430, 593, 21, 1, 4, 260, 1354, 29, 321, 28, 348, 26]]\n"
     ]
    }
   ],
   "source": [
    "num_words = 20000\n",
    "\n",
    "tokenizer = Tokenizer(num_words=num_words,oov_token=\"unk\")\n",
    "tokenizer.fit_on_texts(corpus.tolist())\n",
    "\n",
    "print(str(tokenizer.texts_to_sequences(['nice spot hang friend see also sunset amazing beside many option restaurant choose along'])))"
   ]
  },
  {
   "cell_type": "code",
   "execution_count": 5,
   "metadata": {},
   "outputs": [
    {
     "name": "stdout",
     "output_type": "stream",
     "text": [
      "  (0, 3253)\t0.20803654478662795\n",
      "  (0, 4896)\t0.17334819711302293\n",
      "  (0, 2588)\t0.10034841201300373\n",
      "  (0, 1698)\t0.16365390345082786\n",
      "  (0, 3432)\t0.14368324439453467\n",
      "  (0, 1794)\t0.18806588573033475\n",
      "  (0, 3612)\t0.15641314001142267\n",
      "  (0, 4468)\t0.15197181678820898\n",
      "  (0, 1559)\t0.15197181678820898\n",
      "  (0, 4469)\t0.10909797937394598\n",
      "  (0, 2723)\t0.19331885616931613\n",
      "  (0, 2521)\t0.13488471938241767\n",
      "  (0, 2677)\t0.20803654478662795\n",
      "  (0, 1204)\t0.18362456250712106\n",
      "  (0, 3634)\t0.19974797239295364\n",
      "  (0, 2970)\t0.16365390345082786\n",
      "  (0, 464)\t0.10818324950516199\n",
      "  (0, 717)\t0.14075072509285802\n",
      "  (0, 3439)\t0.17977731333666044\n",
      "  (0, 3657)\t0.3335518363132237\n",
      "  (0, 3190)\t0.14473105334880385\n",
      "  (0, 2569)\t0.09900809728967562\n",
      "  (0, 4824)\t0.11203049867562262\n",
      "  (0, 4803)\t0.14808049505634005\n",
      "  (0, 2615)\t0.12476039429251064\n",
      "  :\t:\n",
      "  (1505, 4469)\t0.25142281618658574\n",
      "  (1506, 1552)\t0.39159952806683596\n",
      "  (1506, 4413)\t0.25707502169008045\n",
      "  (1506, 1045)\t0.3100617872703011\n",
      "  (1506, 4797)\t0.5995271357098845\n",
      "  (1506, 966)\t0.3047092114788089\n",
      "  (1506, 2880)\t0.18131833520876703\n",
      "  (1506, 947)\t0.17708561055322267\n",
      "  (1506, 3145)\t0.18209472207822722\n",
      "  (1506, 473)\t0.18055110046061235\n",
      "  (1506, 2599)\t0.19011975016238836\n",
      "  (1506, 4803)\t0.16725946085888013\n",
      "  (1506, 523)\t0.19501116486063788\n",
      "  (1507, 965)\t0.4297506521419969\n",
      "  (1507, 2617)\t0.3516288861675903\n",
      "  (1507, 2572)\t0.3162049387303309\n",
      "  (1507, 2449)\t0.32426909229769146\n",
      "  (1507, 3123)\t0.3162049387303309\n",
      "  (1507, 4897)\t0.3162049387303309\n",
      "  (1507, 3601)\t0.2542949039505567\n",
      "  (1507, 3559)\t0.1737226239773895\n",
      "  (1507, 172)\t0.28741841189101\n",
      "  (1507, 625)\t0.22402531935733616\n",
      "  (1507, 473)\t0.15632447123157386\n",
      "  (1507, 592)\t0.18570108662684898\n"
     ]
    }
   ],
   "source": [
    "vec = TfidfVectorizer(stop_words='english')\n",
    "resp = vec.fit_transform(corpus)\n",
    "print(resp)"
   ]
  },
  {
   "cell_type": "code",
   "execution_count": 6,
   "metadata": {},
   "outputs": [
    {
     "name": "stdout",
     "output_type": "stream",
     "text": [
      "Train data len:1206\n",
      "Class distributionCounter({0: 603, 1: 603})\n",
      "Valid data len:302\n",
      "Class distributionCounter({1: 151, 0: 151})\n",
      "[  55  154 4354   88   85  208   31   33  410    2  561    5  410   56\n",
      "  184   60 4355 4356    0    0    0    0    0    0    0    0    0    0\n",
      "    0    0    0    0    0    0    0    0    0    0    0    0    0    0\n",
      "    0    0    0    0    0    0    0    0    0    0    0    0    0    0\n",
      "    0    0    0    0    0    0    0    0    0    0    0    0    0    0\n",
      "    0    0    0    0    0    0    0    0    0    0    0    0    0    0\n",
      "    0    0    0    0    0    0    0    0    0    0    0    0    0    0\n",
      "    0    0    0    0    0    0    0    0    0    0    0    0    0    0\n",
      "    0    0    0    0    0    0    0    0    0    0    0    0    0    0\n",
      "    0    0    0    0    0    0    0    0    0    0    0    0    0    0\n",
      "    0    0    0    0    0    0    0    0    0    0    0    0    0    0\n",
      "    0    0    0    0    0    0    0    0    0    0    0    0    0    0\n",
      "    0    0    0    0    0    0    0    0    0    0    0    0    0    0\n",
      "    0    0    0    0    0    0    0    0    0    0    0    0    0    0\n",
      "    0    0    0    0    0    0    0    0    0    0    0    0    0    0\n",
      "    0    0    0    0    0    0    0    0    0    0    0    0    0    0\n",
      "    0    0    0    0    0    0    0    0    0    0    0    0    0    0\n",
      "    0    0    0    0    0    0    0    0    0    0    0    0    0    0\n",
      "    0    0    0    0    0    0    0    0    0    0    0    0    0    0\n",
      "    0    0    0    0    0    0    0    0    0    0    0    0    0    0\n",
      "    0    0    0    0    0    0    0    0    0    0    0    0    0    0\n",
      "    0    0    0    0    0    0    0    0    0    0    0    0    0    0\n",
      "    0    0    0    0    0    0    0    0    0    0    0    0    0    0\n",
      "    0    0    0    0    0    0    0    0    0    0    0    0    0    0\n",
      "    0    0    0    0    0    0    0    0    0    0    0    0    0    0\n",
      "    0    0    0    0    0    0    0    0    0    0    0    0    0    0\n",
      "    0    0    0    0    0    0    0    0    0    0    0    0    0    0\n",
      "    0    0    0    0    0    0    0    0    0    0    0    0]\n"
     ]
    },
    {
     "name": "stderr",
     "output_type": "stream",
     "text": [
      "E:\\Anaconda3\\lib\\site-packages\\ipykernel_launcher.py:19: VisibleDeprecationWarning: Creating an ndarray from ragged nested sequences (which is a list-or-tuple of lists-or-tuples-or ndarrays with different lengths or shapes) is deprecated. If you meant to do this, you must specify 'dtype=object' when creating the ndarray\n",
      "E:\\Anaconda3\\lib\\site-packages\\ipykernel_launcher.py:20: VisibleDeprecationWarning: Creating an ndarray from ragged nested sequences (which is a list-or-tuple of lists-or-tuples-or ndarrays with different lengths or shapes) is deprecated. If you meant to do this, you must specify 'dtype=object' when creating the ndarray\n",
      "E:\\Anaconda3\\lib\\site-packages\\ipykernel_launcher.py:21: VisibleDeprecationWarning: Creating an ndarray from ragged nested sequences (which is a list-or-tuple of lists-or-tuples-or ndarrays with different lengths or shapes) is deprecated. If you meant to do this, you must specify 'dtype=object' when creating the ndarray\n"
     ]
    }
   ],
   "source": [
    "X_train, X_valid, y_train, y_valid = train_test_split(corpus.tolist(),\\\n",
    "                                                      train_data['sentiment'].tolist(),\\\n",
    "                                                      test_size=0.2,\\\n",
    "                                                      stratify = train_data['sentiment'].tolist(),\\\n",
    "                                                      random_state=0)\n",
    "\n",
    "print('Train data len:'+str(len(X_train)))\n",
    "print('Class distribution'+str(Counter(y_train)))\n",
    "print('Valid data len:'+str(len(X_valid)))\n",
    "print('Class distribution'+ str(Counter(y_valid)))\n",
    "\n",
    "# sm = SMOTE()\n",
    "# try :\n",
    "#     x_train_res, y_train_res = sm.fit_resample(X_train, y_train)\n",
    "# except ValueError:\n",
    "#     pass\n",
    "\n",
    "\n",
    "x_train = np.array( tokenizer.texts_to_sequences(X_train) )\n",
    "x_valid = np.array( tokenizer.texts_to_sequences(X_valid) )\n",
    "x_test  = np.array( tokenizer.texts_to_sequences(test_data['review'].tolist()) )\n",
    "\n",
    "#Normal\n",
    "# x_train = pad_sequences(x_train, padding='post', maxlen=1210)\n",
    "# x_valid = pad_sequences(x_valid, padding='post', maxlen=1210)\n",
    "# x_test = pad_sequences(x_test, padding='post', maxlen=390)\n",
    "\n",
    "#Undersampling\n",
    "x_train = pad_sequences(x_train, padding='post', maxlen=390)\n",
    "x_valid = pad_sequences(x_valid, padding='post', maxlen=390)\n",
    "x_test = pad_sequences(x_test, padding='post', maxlen=390)\n",
    "\n",
    "print(x_train[0])\n",
    "\n",
    "le = LabelEncoder()\n",
    "\n",
    "train_labels = le.fit_transform(y_train)\n",
    "train_labels = np.asarray( tf.keras.utils.to_categorical(train_labels))\n",
    "#print(train_labels)\n",
    "valid_labels = le.transform(y_valid)\n",
    "valid_labels = np.asarray( tf.keras.utils.to_categorical(valid_labels))\n",
    "\n",
    "test_labels = le.transform(test_data['sentiment'].tolist())\n",
    "test_labels = np.asarray(tf.keras.utils.to_categorical(test_labels))\n",
    "list(le.classes_)\n",
    "\n",
    "\n",
    "train_ds = tf.data.Dataset.from_tensor_slices((x_train,train_labels))\n",
    "valid_ds = tf.data.Dataset.from_tensor_slices((x_valid,valid_labels))\n",
    "test_ds = tf.data.Dataset.from_tensor_slices((x_test,test_labels))"
   ]
  },
  {
   "cell_type": "code",
   "execution_count": 7,
   "metadata": {},
   "outputs": [
    {
     "name": "stdout",
     "output_type": "stream",
     "text": [
      "[0, 1, 1, 0, 0, 0, 0, 0, 0, 1]\n",
      "Text to number\n",
      "[0 1 1 0 0 0 0 0 0 1]\n",
      "Number to category\n",
      "[[1. 0.]\n",
      " [0. 1.]\n",
      " [0. 1.]\n",
      " [1. 0.]\n",
      " [1. 0.]\n",
      " [1. 0.]\n",
      " [1. 0.]\n",
      " [1. 0.]\n",
      " [1. 0.]\n",
      " [0. 1.]]\n"
     ]
    }
   ],
   "source": [
    "print(y_train[:10])\n",
    "train_labels = le.fit_transform(y_train)\n",
    "print('Text to number')\n",
    "print(train_labels[:10])\n",
    "train_labels = np.asarray( tf.keras.utils.to_categorical(train_labels))\n",
    "print('Number to category')\n",
    "print(train_labels[:10])"
   ]
  },
  {
   "cell_type": "code",
   "execution_count": 8,
   "metadata": {},
   "outputs": [],
   "source": [
    "# count =0\n",
    "# print('======Train dataset ====')\n",
    "# for value,label in train_ds:\n",
    "#     count += 1\n",
    "#     print(value,label)\n",
    "#     if count==2:\n",
    "#         break\n",
    "# count =0\n",
    "# print('======Validation dataset ====')\n",
    "# for value,label in valid_ds:\n",
    "#     count += 1\n",
    "#     print(value,label)\n",
    "#     if count==2:\n",
    "#         break\n",
    "# print('======Test dataset ====')\n",
    "# for value,label in test_ds:\n",
    "#     count += 1\n",
    "#     print(value,label)\n",
    "#     if count==2:\n",
    "#         break"
   ]
  },
  {
   "cell_type": "code",
   "execution_count": 9,
   "metadata": {},
   "outputs": [
    {
     "name": "stdout",
     "output_type": "stream",
     "text": [
      "Model: \"sequential\"\n",
      "_________________________________________________________________\n",
      "Layer (type)                 Output Shape              Param #   \n",
      "=================================================================\n",
      "embedding (Embedding)        (None, 1210, 64)          1280064   \n",
      "_________________________________________________________________\n",
      "conv1d (Conv1D)              (None, 1209, 64)          8256      \n",
      "_________________________________________________________________\n",
      "global_max_pooling1d (Global (None, 64)                0         \n",
      "_________________________________________________________________\n",
      "flatten (Flatten)            (None, 64)                0         \n",
      "_________________________________________________________________\n",
      "dense (Dense)                (None, 64)                4160      \n",
      "_________________________________________________________________\n",
      "dense_1 (Dense)              (None, 2)                 130       \n",
      "=================================================================\n",
      "Total params: 1,292,610\n",
      "Trainable params: 1,292,610\n",
      "Non-trainable params: 0\n",
      "_________________________________________________________________\n"
     ]
    }
   ],
   "source": [
    "max_features =20000\n",
    "embedding_dim =64\n",
    "sequence_length = 1210\n",
    "\n",
    "model = tf.keras.Sequential()\n",
    "model.add(tf.keras.layers.Embedding(max_features +1, embedding_dim, input_length=sequence_length,\\\n",
    "                                    embeddings_regularizer = regularizers.l2(0.0005)))                                    \n",
    "\n",
    "model.add(tf.keras.layers.Conv1D(64,2, padding='valid', activation='relu',\\\n",
    "                                 kernel_regularizer = regularizers.l2(0.0005),\\\n",
    "                                 bias_regularizer = regularizers.l2(0.0005)))                               \n",
    "\n",
    "\n",
    "model.add(tf.keras.layers.GlobalMaxPooling1D())\n",
    "\n",
    "# model.add(tf.keras.layers.Dropout(0.5))\n",
    "\n",
    "model.add(tf.keras.layers.Flatten())\n",
    "\n",
    "# model.add(tf.keras.layers.Dropout(0.3))\n",
    "\n",
    "model.add(tf.keras.layers.Dense(64, activation='relu',\\\n",
    "                                kernel_regularizer=regularizers.l2(0.001),\\\n",
    "                                bias_regularizer=regularizers.l2(0.001)))\n",
    "\n",
    "# model.add(tf.keras.layers.Dropout(0.5))\n",
    "\n",
    "# model.add(tf.keras.layers.Dense(32, activation='relu',\\\n",
    "#                                 kernel_regularizer=regularizers.l2(0.001),\\\n",
    "#                                 bias_regularizer=regularizers.l2(0.001)))\n",
    "\n",
    "model.add(tf.keras.layers.Dense(2, activation='sigmoid',\\\n",
    "                                kernel_regularizer=regularizers.l2(0.001),\\\n",
    "                                bias_regularizer=regularizers.l2(0.001)))\n",
    "\n",
    "# custom_early_stopping = EarlyStopping(\n",
    "#     monitor='val_loss', \n",
    "#     patience=1, \n",
    "#     min_delta=0.001, \n",
    "#     mode='auto'\n",
    "# )\n",
    "                               \n",
    "\n",
    "model.summary()\n",
    "model.compile(loss=tf.keras.losses.CategoricalCrossentropy(from_logits=True), optimizer='adam', metrics=[\"accuracy\"])"
   ]
  },
  {
   "cell_type": "code",
   "execution_count": 10,
   "metadata": {},
   "outputs": [],
   "source": [
    "import graphviz"
   ]
  },
  {
   "cell_type": "code",
   "execution_count": 11,
   "metadata": {},
   "outputs": [
    {
     "data": {
      "image/png": "[encoded data removed]",
      "text/plain": [
       "<IPython.core.display.Image object>"
      ]
     },
     "execution_count": 11,
     "metadata": {},
     "output_type": "execute_result"
    }
   ],
   "source": [
    "tf.keras.utils.plot_model(model, \"multi_input_and_output_model.png\", show_shapes=True)"
   ]
  },
  {
   "cell_type": "code",
   "execution_count": 12,
   "metadata": {},
   "outputs": [
    {
     "name": "stdout",
     "output_type": "stream",
     "text": [
      "Epoch 1/5\n",
      "WARNING:tensorflow:Model was constructed with shape (None, 1210) for input KerasTensor(type_spec=TensorSpec(shape=(None, 1210), dtype=tf.float32, name='embedding_input'), name='embedding_input', description=\"created by layer 'embedding_input'\"), but it was called on an input with incompatible shape (None, 390).\n"
     ]
    },
    {
     "name": "stderr",
     "output_type": "stream",
     "text": [
      "E:\\Anaconda3\\lib\\site-packages\\tensorflow\\python\\keras\\backend.py:4870: UserWarning: \"`categorical_crossentropy` received `from_logits=True`, but the `output` argument was produced by a sigmoid or softmax activation and thus does not represent logits. Was this intended?\"\n",
      "  '\"`categorical_crossentropy` received `from_logits=True`, but '\n"
     ]
    },
    {
     "name": "stdout",
     "output_type": "stream",
     "text": [
      "WARNING:tensorflow:Model was constructed with shape (None, 1210) for input KerasTensor(type_spec=TensorSpec(shape=(None, 1210), dtype=tf.float32, name='embedding_input'), name='embedding_input', description=\"created by layer 'embedding_input'\"), but it was called on an input with incompatible shape (None, 390).\n",
      "WARNING:tensorflow:Model was constructed with shape (None, 1210) for input KerasTensor(type_spec=TensorSpec(shape=(None, 1210), dtype=tf.float32, name='embedding_input'), name='embedding_input', description=\"created by layer 'embedding_input'\"), but it was called on an input with incompatible shape (None, 390).\n",
      "19/19 - 3s - loss: 1.1131 - accuracy: 0.5638 - val_loss: 0.9270 - val_accuracy: 0.7947\n",
      "Epoch 2/5\n",
      "19/19 - 1s - loss: 0.8176 - accuracy: 0.8449 - val_loss: 0.7472 - val_accuracy: 0.7649\n",
      "Epoch 3/5\n",
      "19/19 - 1s - loss: 0.6321 - accuracy: 0.8823 - val_loss: 0.5915 - val_accuracy: 0.8344\n",
      "Epoch 4/5\n",
      "19/19 - 1s - loss: 0.4566 - accuracy: 0.8964 - val_loss: 0.4924 - val_accuracy: 0.8311\n",
      "Epoch 5/5\n",
      "19/19 - 1s - loss: 0.3243 - accuracy: 0.9362 - val_loss: 0.4566 - val_accuracy: 0.8642\n"
     ]
    }
   ],
   "source": [
    "epochs = 5\n",
    "# Fit the model using the train and test datasets.\n",
    "#history = model.fit(x_train, train_labels,validation_data= (x_test,test_labels),epochs=epochs )\n",
    "history = model.fit(train_ds.shuffle(2000).batch(64),\n",
    "                    epochs= epochs ,\n",
    "                    validation_data=valid_ds.batch(64),\n",
    "                    verbose=2)\n",
    "\n",
    "# ,\n",
    "#                     callbacks=[custom_early_stopping]"
   ]
  },
  {
   "cell_type": "code",
   "execution_count": 13,
   "metadata": {},
   "outputs": [
    {
     "data": {
      "text/plain": [
       "5"
      ]
     },
     "execution_count": 13,
     "metadata": {},
     "output_type": "execute_result"
    }
   ],
   "source": [
    "len(history.history['loss'])"
   ]
  },
  {
   "cell_type": "code",
   "execution_count": 14,
   "metadata": {},
   "outputs": [
    {
     "data": {
      "image/png": "[encoded data removed]",
      "text/plain": [
       "<Figure size 432x288 with 1 Axes>"
      ]
     },
     "metadata": {
      "needs_background": "light"
     },
     "output_type": "display_data"
    }
   ],
   "source": [
    "plt.plot(history.history['loss'], label=' training data')\n",
    "plt.plot(history.history['val_loss'], label='validation data)')\n",
    "plt.title('Model Loss')\n",
    "plt.ylabel('Loss value')\n",
    "plt.xlabel('No. epoch')\n",
    "plt.legend(loc=\"upper left\")\n",
    "plt.show()"
   ]
  },
  {
   "cell_type": "code",
   "execution_count": 15,
   "metadata": {},
   "outputs": [
    {
     "data": {
      "image/png": "[encoded data removed]",
      "text/plain": [
       "<Figure size 432x288 with 1 Axes>"
      ]
     },
     "metadata": {
      "needs_background": "light"
     },
     "output_type": "display_data"
    }
   ],
   "source": [
    "plt.plot(history.history['accuracy'], label=' (training data)')\n",
    "plt.plot(history.history['val_accuracy'], label='CategoricalCrossentropy (validation data)')\n",
    "plt.title('Model Accuracy')\n",
    "plt.ylabel('accuracy value')\n",
    "plt.xlabel('No. epoch')\n",
    "plt.legend(loc=\"upper left\")\n",
    "plt.show()"
   ]
  },
  {
   "cell_type": "code",
   "execution_count": 16,
   "metadata": {},
   "outputs": [
    {
     "name": "stdout",
     "output_type": "stream",
     "text": [
      "INFO:tensorflow:Assets written to: UndersampledModel5\\tf_cnnmodel\\assets\n"
     ]
    }
   ],
   "source": [
    "import pickle\n",
    "\n",
    "model.save('UndersampledModel5\\\\tf_cnnmodel') \n",
    "\n",
    "with open('tokenizer.pickle', 'wb') as handle:\n",
    "    pickle.dump(tokenizer, handle, protocol=pickle.HIGHEST_PROTOCOL)"
   ]
  },
  {
   "cell_type": "code",
   "execution_count": 8,
   "metadata": {
    "scrolled": true
   },
   "outputs": [
    {
     "name": "stdout",
     "output_type": "stream",
     "text": [
      "Model: \"sequential\"\n",
      "_________________________________________________________________\n",
      "Layer (type)                 Output Shape              Param #   \n",
      "=================================================================\n",
      "embedding (Embedding)        (None, 1210, 64)          1280064   \n",
      "_________________________________________________________________\n",
      "conv1d (Conv1D)              (None, 1209, 64)          8256      \n",
      "_________________________________________________________________\n",
      "global_max_pooling1d (Global (None, 64)                0         \n",
      "_________________________________________________________________\n",
      "flatten (Flatten)            (None, 64)                0         \n",
      "_________________________________________________________________\n",
      "dense (Dense)                (None, 64)                4160      \n",
      "_________________________________________________________________\n",
      "dense_1 (Dense)              (None, 2)                 130       \n",
      "=================================================================\n",
      "Total params: 1,292,610\n",
      "Trainable params: 1,292,610\n",
      "Non-trainable params: 0\n",
      "_________________________________________________________________\n"
     ]
    }
   ],
   "source": [
    "new_model = tf.keras.models.load_model('UndersampledModel5\\\\tf_cnnmodel')\n",
    "new_model.summary()"
   ]
  },
  {
   "cell_type": "code",
   "execution_count": 305,
   "metadata": {},
   "outputs": [
    {
     "data": {
      "text/html": [
       "<div>\n",
       "<style scoped>\n",
       "    .dataframe tbody tr th:only-of-type {\n",
       "        vertical-align: middle;\n",
       "    }\n",
       "\n",
       "    .dataframe tbody tr th {\n",
       "        vertical-align: top;\n",
       "    }\n",
       "\n",
       "    .dataframe thead th {\n",
       "        text-align: right;\n",
       "    }\n",
       "</style>\n",
       "<table border=\"1\" class=\"dataframe\">\n",
       "  <thead>\n",
       "    <tr style=\"text-align: right;\">\n",
       "      <th></th>\n",
       "      <th>Date</th>\n",
       "      <th>Content</th>\n",
       "      <th>review</th>\n",
       "      <th>scores</th>\n",
       "      <th>compound</th>\n",
       "      <th>sentiment</th>\n",
       "    </tr>\n",
       "  </thead>\n",
       "  <tbody>\n",
       "    <tr>\n",
       "      <td>91</td>\n",
       "      <td>Dec-14</td>\n",
       "      <td>Beach, Surf and Laid back atmosphere. Great fo...</td>\n",
       "      <td>surf lay back atmosphere great food nice peopl...</td>\n",
       "      <td>{'neg': 0.0, 'neu': 0.413, 'pos': 0.587, 'comp...</td>\n",
       "      <td>0.9652</td>\n",
       "      <td>1</td>\n",
       "    </tr>\n",
       "    <tr>\n",
       "      <td>86</td>\n",
       "      <td>Sep-12</td>\n",
       "      <td>Quiet area with some nice restaurants. Black/g...</td>\n",
       "      <td>quiet area nice restaurant blackgrey sand lot ...</td>\n",
       "      <td>{'neg': 0.0, 'neu': 0.576, 'pos': 0.424, 'comp...</td>\n",
       "      <td>0.8519</td>\n",
       "      <td>1</td>\n",
       "    </tr>\n",
       "    <tr>\n",
       "      <td>126</td>\n",
       "      <td>Jun-19</td>\n",
       "      <td>If you're looking for a nice and less crowded ...</td>\n",
       "      <td>youre look nice less crowded come good place e...</td>\n",
       "      <td>{'neg': 0.0, 'neu': 0.529, 'pos': 0.471, 'comp...</td>\n",
       "      <td>0.9226</td>\n",
       "      <td>1</td>\n",
       "    </tr>\n",
       "    <tr>\n",
       "      <td>110</td>\n",
       "      <td>Jun-16</td>\n",
       "      <td>Many tourists come here for surfing. Not crowd...</td>\n",
       "      <td>many tourist come surf crowd people good place...</td>\n",
       "      <td>{'neg': 0.0, 'neu': 0.51, 'pos': 0.49, 'compou...</td>\n",
       "      <td>0.8625</td>\n",
       "      <td>1</td>\n",
       "    </tr>\n",
       "    <tr>\n",
       "      <td>21</td>\n",
       "      <td>Aug-19</td>\n",
       "      <td>I have always stayed in Legian this time I dec...</td>\n",
       "      <td>always stay legian time decide try different p...</td>\n",
       "      <td>{'neg': 0.0, 'neu': 0.55, 'pos': 0.45, 'compou...</td>\n",
       "      <td>0.8689</td>\n",
       "      <td>1</td>\n",
       "    </tr>\n",
       "  </tbody>\n",
       "</table>\n",
       "</div>"
      ],
      "text/plain": [
       "       Date                                            Content  \\\n",
       "91   Dec-14  Beach, Surf and Laid back atmosphere. Great fo...   \n",
       "86   Sep-12  Quiet area with some nice restaurants. Black/g...   \n",
       "126  Jun-19  If you're looking for a nice and less crowded ...   \n",
       "110  Jun-16  Many tourists come here for surfing. Not crowd...   \n",
       "21   Aug-19  I have always stayed in Legian this time I dec...   \n",
       "\n",
       "                                                review  \\\n",
       "91   surf lay back atmosphere great food nice peopl...   \n",
       "86   quiet area nice restaurant blackgrey sand lot ...   \n",
       "126  youre look nice less crowded come good place e...   \n",
       "110  many tourist come surf crowd people good place...   \n",
       "21   always stay legian time decide try different p...   \n",
       "\n",
       "                                                scores  compound  sentiment  \n",
       "91   {'neg': 0.0, 'neu': 0.413, 'pos': 0.587, 'comp...    0.9652          1  \n",
       "86   {'neg': 0.0, 'neu': 0.576, 'pos': 0.424, 'comp...    0.8519          1  \n",
       "126  {'neg': 0.0, 'neu': 0.529, 'pos': 0.471, 'comp...    0.9226          1  \n",
       "110  {'neg': 0.0, 'neu': 0.51, 'pos': 0.49, 'compou...    0.8625          1  \n",
       "21   {'neg': 0.0, 'neu': 0.55, 'pos': 0.45, 'compou...    0.8689          1  "
      ]
     },
     "execution_count": 305,
     "metadata": {},
     "output_type": "execute_result"
    }
   ],
   "source": [
    "test_data = pd.read_csv('canggu_test.csv', converters={'reviews' : str})\n",
    "# test_data.drop([\"Date\", \"Content\"], axis=1, inplace=True)\n",
    "# test_data.dropna()\n",
    "# test_data = test_data.fillna(\"\")\n",
    "test_data.sample(5)"
   ]
  },
  {
   "cell_type": "code",
   "execution_count": 306,
   "metadata": {},
   "outputs": [
    {
     "name": "stderr",
     "output_type": "stream",
     "text": [
      "E:\\Anaconda3\\lib\\site-packages\\ipykernel_launcher.py:2: VisibleDeprecationWarning: Creating an ndarray from ragged nested sequences (which is a list-or-tuple of lists-or-tuples-or ndarrays with different lengths or shapes) is deprecated. If you meant to do this, you must specify 'dtype=object' when creating the ndarray\n",
      "  \n"
     ]
    }
   ],
   "source": [
    "try:\n",
    "    x_test  = np.array( tokenizer.texts_to_sequences(test_data['review'].tolist()) )\n",
    "    # x_test = tokenizer\n",
    "    x_test = pad_sequences(x_test, padding='post', maxlen=1210)\n",
    "except AttributeError:\n",
    "    pass"
   ]
  },
  {
   "cell_type": "code",
   "execution_count": 307,
   "metadata": {},
   "outputs": [
    {
     "name": "stdout",
     "output_type": "stream",
     "text": [
      "Generate predictions for all samples\n",
      "[[0.29783478 0.6333157 ]\n",
      " [0.1984351  0.7612611 ]\n",
      " [0.12212637 0.8497074 ]\n",
      " [0.11567321 0.8531604 ]\n",
      " [0.24406475 0.7128715 ]\n",
      " [0.2913932  0.66190237]\n",
      " [0.3893692  0.56644845]\n",
      " [0.22077751 0.73224276]\n",
      " [0.16658232 0.7801552 ]\n",
      " [0.49058807 0.48069167]\n",
      " [0.31860632 0.63480216]\n",
      " [0.2628477  0.69042873]\n",
      " [0.52065563 0.4445144 ]\n",
      " [0.55148554 0.4240864 ]\n",
      " [0.20852485 0.7339435 ]\n",
      " [0.46142495 0.4992718 ]\n",
      " [0.25594133 0.681024  ]\n",
      " [0.77289754 0.23213005]\n",
      " [0.09813446 0.8675667 ]\n",
      " [0.23545662 0.7045293 ]\n",
      " [0.33188218 0.61772895]\n",
      " [0.25769538 0.69007266]\n",
      " [0.31423512 0.6277957 ]\n",
      " [0.27226782 0.66750103]\n",
      " [0.26125008 0.6769077 ]\n",
      " [0.05067635 0.92159545]\n",
      " [0.63362217 0.33267504]\n",
      " [0.7650213  0.22346711]\n",
      " [0.2505203  0.69011307]\n",
      " [0.1243867  0.8346541 ]\n",
      " [0.6376916  0.33001906]\n",
      " [0.7082425  0.2916832 ]\n",
      " [0.54913354 0.42897528]\n",
      " [0.44936156 0.5092272 ]\n",
      " [0.4740508  0.47016066]\n",
      " [0.5914686  0.37619132]\n",
      " [0.689569   0.28382894]\n",
      " [0.10969403 0.8547995 ]\n",
      " [0.5245525  0.44098386]\n",
      " [0.11438027 0.84944236]\n",
      " [0.19131145 0.76231825]\n",
      " [0.3852447  0.57396   ]\n",
      " [0.7282444  0.24549446]\n",
      " [0.3342784  0.6042959 ]\n",
      " [0.15998006 0.7937723 ]\n",
      " [0.10402569 0.85880864]\n",
      " [0.3087214  0.64701146]\n",
      " [0.13906637 0.8171646 ]\n",
      " [0.63303816 0.33999795]\n",
      " [0.36472625 0.5930647 ]\n",
      " [0.38533345 0.5718751 ]\n",
      " [0.15364242 0.80214226]\n",
      " [0.40722048 0.5495083 ]\n",
      " [0.18784231 0.76114976]\n",
      " [0.7448596  0.26014575]\n",
      " [0.53242356 0.41882336]\n",
      " [0.13474545 0.81988204]\n",
      " [0.23637548 0.71515435]\n",
      " [0.25158143 0.6972569 ]\n",
      " [0.47448134 0.48393872]\n",
      " [0.11099568 0.8518237 ]\n",
      " [0.22830436 0.71948284]\n",
      " [0.2668463  0.6844785 ]\n",
      " [0.6074792  0.37074903]\n",
      " [0.13975903 0.8284272 ]\n",
      " [0.4066975  0.55500025]\n",
      " [0.4377481  0.5103087 ]\n",
      " [0.2756526  0.67361146]\n",
      " [0.5112596  0.4315806 ]\n",
      " [0.39459527 0.5602641 ]\n",
      " [0.39028937 0.5830301 ]\n",
      " [0.17528602 0.78278863]\n",
      " [0.5673433  0.4048654 ]\n",
      " [0.2626065  0.7001226 ]\n",
      " [0.11015284 0.84807575]\n",
      " [0.3866733  0.5661148 ]\n",
      " [0.27106228 0.6808224 ]\n",
      " [0.35749525 0.59849983]\n",
      " [0.09665868 0.8715018 ]\n",
      " [0.59839594 0.36888868]\n",
      " [0.1390937  0.8135829 ]\n",
      " [0.49208894 0.47091424]\n",
      " [0.12628272 0.8390566 ]\n",
      " [0.17825973 0.77060765]\n",
      " [0.58921313 0.3624469 ]\n",
      " [0.2592878  0.70311946]\n",
      " [0.12012836 0.8434804 ]\n",
      " [0.12922871 0.8430741 ]\n",
      " [0.1762977  0.7796589 ]\n",
      " [0.6663303  0.31558195]\n",
      " [0.79540014 0.1908609 ]\n",
      " [0.08010429 0.8892709 ]\n",
      " [0.52778304 0.43730903]\n",
      " [0.22068033 0.7458855 ]\n",
      " [0.12289521 0.83897114]\n",
      " [0.5179814  0.45908412]\n",
      " [0.73215914 0.2573745 ]\n",
      " [0.5289059  0.43433928]\n",
      " [0.15958405 0.8048886 ]\n",
      " [0.17885163 0.79471004]\n",
      " [0.20542061 0.748629  ]\n",
      " [0.1298433  0.83614564]\n",
      " [0.0794422  0.8911462 ]\n",
      " [0.15955448 0.8008199 ]\n",
      " [0.21970749 0.7327443 ]\n",
      " [0.6834092  0.28881738]\n",
      " [0.28022632 0.6638309 ]\n",
      " [0.15499902 0.8105724 ]\n",
      " [0.6256127  0.3553922 ]\n",
      " [0.28650504 0.6628338 ]\n",
      " [0.12603456 0.82846713]\n",
      " [0.74516535 0.2485337 ]\n",
      " [0.2954506  0.662923  ]\n",
      " [0.82765585 0.16555005]\n",
      " [0.32247087 0.61828566]\n",
      " [0.43704382 0.53489125]\n",
      " [0.11649314 0.84835815]\n",
      " [0.38104528 0.57830775]\n",
      " [0.18061471 0.780808  ]\n",
      " [0.5969933  0.35778597]\n",
      " [0.14034557 0.81847954]\n",
      " [0.13369167 0.819037  ]\n",
      " [0.36874744 0.58749706]\n",
      " [0.37155473 0.58897936]\n",
      " [0.57071286 0.3887416 ]\n",
      " [0.4077664  0.55325466]\n",
      " [0.20766616 0.7483598 ]\n",
      " [0.23787639 0.72829086]\n",
      " [0.54234856 0.42500478]]\n"
     ]
    }
   ],
   "source": [
    "# Generate predictions (probabilities -- the output of the last layer)\n",
    "# on test  data using `predict`\n",
    "print(\"Generate predictions for all samples\")\n",
    "predictions = new_model.predict(x_test)\n",
    "print(predictions)\n",
    "predict_results = predictions.argmax(axis=1)"
   ]
  },
  {
   "cell_type": "code",
   "execution_count": 308,
   "metadata": {},
   "outputs": [
    {
     "name": "stdout",
     "output_type": "stream",
     "text": [
      "840\n"
     ]
    }
   ],
   "source": [
    "print(len(x))"
   ]
  },
  {
   "cell_type": "code",
   "execution_count": 309,
   "metadata": {},
   "outputs": [
    {
     "name": "stdout",
     "output_type": "stream",
     "text": [
      "129\n"
     ]
    }
   ],
   "source": [
    "print(len(predict_results))"
   ]
  },
  {
   "cell_type": "code",
   "execution_count": 310,
   "metadata": {},
   "outputs": [],
   "source": [
    "test_data['pred_sentiment'] = predict_results\n",
    "test_data['pred_sentiment'] = np.where((test_data.pred_sentiment == 0),'0',test_data.pred_sentiment)\n",
    "test_data['pred_sentiment'] = np.where((test_data.pred_sentiment == '1'),'1',test_data.pred_sentiment)"
   ]
  },
  {
   "cell_type": "code",
   "execution_count": 311,
   "metadata": {},
   "outputs": [
    {
     "name": "stdout",
     "output_type": "stream",
     "text": [
      "              precision    recall  f1-score   support\n",
      "\n",
      "           0       0.11      0.57      0.19         7\n",
      "           1       0.97      0.74      0.84       122\n",
      "\n",
      "    accuracy                           0.73       129\n",
      "   macro avg       0.54      0.65      0.51       129\n",
      "weighted avg       0.92      0.73      0.80       129\n",
      "\n"
     ]
    }
   ],
   "source": [
    "labels = ['0', '1']\n",
    "    \n",
    "print(classification_report(test_data['sentiment'].values.astype(int).astype(str),test_data['pred_sentiment'].values,labels=labels))"
   ]
  },
  {
   "cell_type": "code",
   "execution_count": 312,
   "metadata": {},
   "outputs": [
    {
     "name": "stdout",
     "output_type": "stream",
     "text": [
      "Predicted   0   1\n",
      "Actual           \n",
      "0           4   3\n",
      "1          32  90\n"
     ]
    }
   ],
   "source": [
    "# df = pd.DataFrame(data, columns=['y_Actual','y_Predicted'])\n",
    "\n",
    "confusion_matrix = pd.crosstab(test_data['sentiment'], test_data['pred_sentiment'], rownames=['Actual'], colnames=['Predicted'])\n",
    "print (confusion_matrix)"
   ]
  },
  {
   "cell_type": "code",
   "execution_count": 313,
   "metadata": {},
   "outputs": [
    {
     "name": "stdout",
     "output_type": "stream",
     "text": [
      "ROC AUC Score\n",
      "0.6545667447306791\n"
     ]
    }
   ],
   "source": [
    "roc_auc = roc_auc_score(test_data['sentiment'], test_data['pred_sentiment'])\n",
    "\n",
    "print(\"ROC AUC Score\")\n",
    "print(roc_auc)"
   ]
  },
  {
   "cell_type": "code",
   "execution_count": 314,
   "metadata": {},
   "outputs": [
    {
     "data": {
      "text/plain": [
       "'1'"
      ]
     },
     "execution_count": 314,
     "metadata": {},
     "output_type": "execute_result"
    }
   ],
   "source": [
    "# sentiment = ['negative','positive']\n",
    "sequence20 = tokenizer.texts_to_sequences(['perfect morning walk amazing sunrise'])\n",
    "\n",
    "\n",
    "test20 = pad_sequences(sequence20, padding=\"post\")\n",
    "labels[np.around(new_model.predict(test20)).argmax(axis=1)[0]]"
   ]
  },
  {
   "cell_type": "code",
   "execution_count": 315,
   "metadata": {},
   "outputs": [
    {
     "data": {
      "text/plain": [
       "'0'"
      ]
     },
     "execution_count": 315,
     "metadata": {},
     "output_type": "execute_result"
    }
   ],
   "source": [
    "sequence30 = tokenizer.texts_to_sequences(['dont recommend rubbish everywhere'])\n",
    "\n",
    "\n",
    "test30 = pad_sequences(sequence30, padding=\"post\")\n",
    "labels[np.around(new_model.predict(test30)).argmax(axis=1)[0]]"
   ]
  },
  {
   "cell_type": "code",
   "execution_count": null,
   "metadata": {},
   "outputs": [],
   "source": []
  }
 ],
 "metadata": {
  "kernelspec": {
   "display_name": "Python 3",
   "language": "python",
   "name": "python3"
  },
  "language_info": {
   "codemirror_mode": {
    "name": "ipython",
    "version": 3
   },
   "file_extension": ".py",
   "mimetype": "text/x-python",
   "name": "python",
   "nbconvert_exporter": "python",
   "pygments_lexer": "ipython3",
   "version": "3.7.4"
  }
 },
 "nbformat": 4,
 "nbformat_minor": 2
}
