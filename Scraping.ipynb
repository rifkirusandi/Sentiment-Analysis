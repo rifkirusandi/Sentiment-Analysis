{
 "cells": [
  {
   "cell_type": "code",
   "execution_count": 1,
   "metadata": {},
   "outputs": [],
   "source": [
    "import requests\n",
    "import pandas as pd\n",
    "import csv\n",
    "from bs4 import BeautifulSoup\n",
    "\n",
    "URL = 'https://www.tripadvisor.com/Attraction_Review-g469404-d3780963-Reviews-Double_Six_Beach-Seminyak_Kuta_District_Bali.html#REVIEWS'\n",
    "page = requests.get(URL)\n",
    "soup = BeautifulSoup(page.content, 'html.parser')"
   ]
  },
  {
   "cell_type": "code",
   "execution_count": 7,
   "metadata": {},
   "outputs": [
    {
     "ename": "NameError",
     "evalue": "name 'columns' is not defined",
     "output_type": "error",
     "traceback": [
      "\u001b[1;31m---------------------------------------------------------------------------\u001b[0m",
      "\u001b[1;31mNameError\u001b[0m                                 Traceback (most recent call last)",
      "\u001b[1;32m<ipython-input-7-9608a8dadbb8>\u001b[0m in \u001b[0;36m<module>\u001b[1;34m\u001b[0m\n\u001b[0;32m     18\u001b[0m     }\n\u001b[0;32m     19\u001b[0m \u001b[1;33m\u001b[0m\u001b[0m\n\u001b[1;32m---> 20\u001b[1;33m     \u001b[0mdf\u001b[0m \u001b[1;33m=\u001b[0m \u001b[0mpd\u001b[0m\u001b[1;33m.\u001b[0m\u001b[0mDataFrame\u001b[0m\u001b[1;33m(\u001b[0m\u001b[0mreviews\u001b[0m\u001b[1;33m,\u001b[0m \u001b[0mcolumns\u001b[0m\u001b[1;33m[\u001b[0m\u001b[1;34m'Name'\u001b[0m\u001b[1;33m,\u001b[0m \u001b[1;34m'Country'\u001b[0m\u001b[1;33m,\u001b[0m \u001b[1;34m'Date'\u001b[0m\u001b[1;33m,\u001b[0m \u001b[1;34m'Review'\u001b[0m\u001b[1;33m]\u001b[0m\u001b[1;33m)\u001b[0m\u001b[1;33m\u001b[0m\u001b[1;33m\u001b[0m\u001b[0m\n\u001b[0m\u001b[0;32m     21\u001b[0m     \u001b[0mdf\u001b[0m\u001b[1;33m.\u001b[0m\u001b[0mto_csv\u001b[0m\u001b[1;33m(\u001b[0m\u001b[1;34mr'C:\\Users\\ACER VX15\\Desktop\\TA\\PROJECT\\tripadvisor.csv'\u001b[0m\u001b[1;33m,\u001b[0m \u001b[0mindex\u001b[0m \u001b[1;33m=\u001b[0m \u001b[1;32mFalse\u001b[0m\u001b[1;33m)\u001b[0m\u001b[1;33m\u001b[0m\u001b[1;33m\u001b[0m\u001b[0m\n\u001b[0;32m     22\u001b[0m \u001b[1;31m#     csvwriter.writerow([user, country, date, content])\u001b[0m\u001b[1;33m\u001b[0m\u001b[1;33m\u001b[0m\u001b[1;33m\u001b[0m\u001b[0m\n",
      "\u001b[1;31mNameError\u001b[0m: name 'columns' is not defined"
     ]
    }
   ],
   "source": [
    "review = soup.find('div', class_='_2rspOqPP')\n",
    "# csvfile = open('tripadvisordata.csv', 'a')\n",
    "# csvwriter = csv.writer(csvfile)\n",
    "\n",
    "for r in review:\n",
    "    user = r.find('a', class_='_7c6GgQ6n _37QDe3gr WullykOU _3WoyIIcL').string\n",
    "    country = r.find('div', class_='DrjyGw-P _26S7gyB4 NGv7A1lw _2yS548m8 _2cnjB3re _1TAWSgm1 _1Z1zA2gh _2-K8UW3T _1dimhEoy').string\n",
    "    content = r.find('div', class_='DrjyGw-P _26S7gyB4 _2nPM5Opx').string\n",
    "    date = r.find('div', class_='_3JxPDYSx').string\n",
    "    \n",
    "#     print(user)\n",
    "#     print(country)\n",
    "#     print(date)\n",
    "#     print(content)\n",
    "\n",
    "    reviews = {\n",
    "        'Name' : [user], 'Country' : [country], 'Date' : [date], 'Review' : [content]\n",
    "    }\n",
    "    \n",
    "    df = pd.DataFrame(reviews, columns['Name', 'Country', 'Date', 'Review'])\n",
    "    df.to_csv(r'C:\\Users\\ACER VX15\\Desktop\\TA\\PROJECT\\tripadvisor.csv', index = False)\n",
    "#     csvwriter.writerow([user, country, date, content])\n",
    "#     {'name': [user], 'country': [country], 'date': [date], 'review': [content]}"
   ]
  },
  {
   "cell_type": "code",
   "execution_count": 6,
   "metadata": {},
   "outputs": [
    {
     "name": "stdout",
     "output_type": "stream",
     "text": [
      "Sunny C\n",
      "Melbourne, Australia\n",
      "Jan 2021 • Friends\n",
      "First time coming here and it was great. got the best seat to watch the sunset. while enjoying view me and my friend ordered a portion of meatball on the beach, it was cheap and quite delicious too. will come again for sure!!\n",
      "\n",
      "Sunny C\n",
      "Melbourne, Australia\n",
      "Jan 2021 • Friends\n",
      "First time coming here and it was great. got the best seat to watch the sunset. while enjoying view me and my friend ordered a portion of meatball on the beach, it was cheap and quite delicious too. will come again for sure!!\n",
      "\n",
      "Sunny C\n",
      "Melbourne, Australia\n",
      "Jan 2021 • Friends\n",
      "First time coming here and it was great. got the best seat to watch the sunset. while enjoying view me and my friend ordered a portion of meatball on the beach, it was cheap and quite delicious too. will come again for sure!!\n",
      "\n",
      "Sunny C\n",
      "Melbourne, Australia\n",
      "Jan 2021 • Friends\n",
      "First time coming here and it was great. got the best seat to watch the sunset. while enjoying view me and my friend ordered a portion of meatball on the beach, it was cheap and quite delicious too. will come again for sure!!\n",
      "\n",
      "Sunny C\n",
      "Melbourne, Australia\n",
      "Jan 2021 • Friends\n",
      "First time coming here and it was great. got the best seat to watch the sunset. while enjoying view me and my friend ordered a portion of meatball on the beach, it was cheap and quite delicious too. will come again for sure!!\n",
      "\n",
      "Sunny C\n",
      "Melbourne, Australia\n",
      "Jan 2021 • Friends\n",
      "First time coming here and it was great. got the best seat to watch the sunset. while enjoying view me and my friend ordered a portion of meatball on the beach, it was cheap and quite delicious too. will come again for sure!!\n",
      "\n",
      "Sunny C\n",
      "Melbourne, Australia\n",
      "Jan 2021 • Friends\n",
      "First time coming here and it was great. got the best seat to watch the sunset. while enjoying view me and my friend ordered a portion of meatball on the beach, it was cheap and quite delicious too. will come again for sure!!\n",
      "\n",
      "Sunny C\n",
      "Melbourne, Australia\n",
      "Jan 2021 • Friends\n",
      "First time coming here and it was great. got the best seat to watch the sunset. while enjoying view me and my friend ordered a portion of meatball on the beach, it was cheap and quite delicious too. will come again for sure!!\n",
      "\n",
      "Sunny C\n",
      "Melbourne, Australia\n",
      "Jan 2021 • Friends\n",
      "First time coming here and it was great. got the best seat to watch the sunset. while enjoying view me and my friend ordered a portion of meatball on the beach, it was cheap and quite delicious too. will come again for sure!!\n",
      "\n",
      "Sunny C\n",
      "Melbourne, Australia\n",
      "Jan 2021 • Friends\n",
      "First time coming here and it was great. got the best seat to watch the sunset. while enjoying view me and my friend ordered a portion of meatball on the beach, it was cheap and quite delicious too. will come again for sure!!\n",
      "\n",
      "Sunny C\n",
      "Melbourne, Australia\n",
      "Jan 2021 • Friends\n",
      "First time coming here and it was great. got the best seat to watch the sunset. while enjoying view me and my friend ordered a portion of meatball on the beach, it was cheap and quite delicious too. will come again for sure!!\n",
      "\n"
     ]
    }
   ],
   "source": [
    "\n",
    "\n",
    "    "
   ]
  },
  {
   "cell_type": "code",
   "execution_count": 67,
   "metadata": {},
   "outputs": [],
   "source": [
    "# reviews = pd.DataFrame({\n",
    "#     'Name' : review_user,\n",
    "#     'Country' : review_country,\n",
    "#     'Date' : review_date,\n",
    "#     'Review' : review_content\n",
    "# })\n",
    "\n",
    "# print(reviews)"
   ]
  },
  {
   "cell_type": "code",
   "execution_count": 82,
   "metadata": {},
   "outputs": [
    {
     "name": "stdout",
     "output_type": "stream",
     "text": [
      "Sunny C\n"
     ]
    }
   ],
   "source": [
    "review_user = soup.find('span', class_='DrjyGw-P _1SRa-qNz NGv7A1lw _2yS548m8 _2cnjB3re _1TAWSgm1 _1Z1zA2gh _2-K8UW3T _2AAjjcx8').text\n",
    "\n",
    "print(review_user)"
   ]
  },
  {
   "cell_type": "code",
   "execution_count": 231,
   "metadata": {},
   "outputs": [
    {
     "name": "stdout",
     "output_type": "stream",
     "text": [
      "Sunny C\n",
      "ChrisThomasTravels\n",
      "AbramVincentM\n",
      "Eve The Disabled Diva\n",
      "Chelsea B\n",
      "Finds_posts\n",
      "Wendy F\n",
      "Udita\n",
      "Marjut0303\n",
      "Andrew J\n",
      "Dylan S\n",
      "KelsSydney_Australia\n",
      "hemjit\n",
      "Maureen M\n",
      "MandML\n",
      "leanneandtony\n",
      "Rafaela L\n",
      "Aloysius170\n",
      "Eugenia Elisa\n",
      "Chevalian\n",
      "CSholidayfun\n",
      "Keith R\n",
      "bbyfce\n",
      "Iwan P\n",
      "Pather2\n",
      "Keith R\n",
      "Castlerune\n",
      "brittain2003\n",
      "Helena-Sarah\n",
      "Roni S\n",
      "\n"
     ]
    }
   ],
   "source": [
    "review_user = soup.find_all('span', class_='DrjyGw-P _1SRa-qNz NGv7A1lw _2yS548m8 _2cnjB3re _1TAWSgm1 _1Z1zA2gh _2-K8UW3T _2AAjjcx8')\n",
    "# review_country = soup.find_all('div', class_='DrjyGw-P _26S7gyB4 NGv7A1lw _2yS548m8 _2cnjB3re _1TAWSgm1 _1Z1zA2gh _2-K8UW3T _1dimhEoy')\n",
    "review_content = soup.find_all('span', class_='_2tsgCuqy')\n",
    "# review_date = soup.find_all('div', class_='_3JxPDYSx')\n",
    "\n",
    "for r in review_user:\n",
    "    user = r.find('a', class_='_7c6GgQ6n _37QDe3gr WullykOU _3WoyIIcL').string\n",
    "    print(user)\n",
    "\n",
    "print()\n",
    "    \n",
    "# for co in review_content:\n",
    "#     user = co.find('div', class_='DrjyGw-P _26S7gyB4 _2nPM5Opx')\n",
    "#     print(co)\n",
    "\n",
    "#     print(review_user)"
   ]
  },
  {
   "cell_type": "code",
   "execution_count": null,
   "metadata": {},
   "outputs": [],
   "source": []
  }
 ],
 "metadata": {
  "kernelspec": {
   "display_name": "Python 3",
   "language": "python",
   "name": "python3"
  },
  "language_info": {
   "codemirror_mode": {
    "name": "ipython",
    "version": 3
   },
   "file_extension": ".py",
   "mimetype": "text/x-python",
   "name": "python",
   "nbconvert_exporter": "python",
   "pygments_lexer": "ipython3",
   "version": "3.7.4"
  }
 },
 "nbformat": 4,
 "nbformat_minor": 2
}
