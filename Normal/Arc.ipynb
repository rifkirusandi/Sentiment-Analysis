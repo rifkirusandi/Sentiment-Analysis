{
 "cells": [
  {
   "cell_type": "code",
   "execution_count": 1,
   "metadata": {},
   "outputs": [],
   "source": [
    "import matplotlib.pyplot as plt\n",
    "import os\n",
    "import re\n",
    "import shutil\n",
    "import string\n",
    "import tensorflow as tf\n",
    "import warnings\n",
    "import imblearn\n",
    "import pydot\n",
    "\n",
    "from collections import Counter\n",
    "\n",
    "from imblearn.over_sampling import ADASYN, SMOTE\n",
    "\n",
    "from tensorflow.keras import regularizers\n",
    "from tensorflow.keras.callbacks import EarlyStopping\n",
    "\n",
    "from tensorflow.keras import layers\n",
    "from tensorflow.keras import losses\n",
    "\n",
    "from keras.callbacks import ModelCheckpoint\n",
    "\n",
    "import pandas as pd\n",
    "import numpy as np\n",
    "\n",
    "from sklearn.feature_extraction.text import TfidfVectorizer\n",
    "from sklearn.preprocessing import LabelEncoder\n",
    "from sklearn.model_selection import train_test_split\n",
    "from sklearn.metrics import classification_report\n",
    "from sklearn.metrics import f1_score\n",
    "from sklearn.metrics import roc_auc_score\n",
    "from sklearn.metrics import roc_curve\n",
    "\n",
    "from sklearn.linear_model import LogisticRegression\n",
    "from sklearn.pipeline import Pipeline\n",
    "\n",
    "from tensorflow.keras import preprocessing\n",
    "from tensorflow.keras.preprocessing.text import Tokenizer\n",
    "from tensorflow.keras.preprocessing.sequence import pad_sequences"
   ]
  },
  {
   "cell_type": "code",
   "execution_count": 2,
   "metadata": {},
   "outputs": [
    {
     "name": "stdout",
     "output_type": "stream",
     "text": [
      "-------Train data--------\n",
      "1    7743\n",
      "0     755\n",
      "Name: sentiment, dtype: int64\n",
      "8498\n",
      "-------Test data--------\n",
      "1    1905\n",
      "0     222\n",
      "Name: sentiment, dtype: int64\n",
      "2127\n",
      "-------------------------\n",
      "Train Max Sentence Length :1206\n",
      "Test Max Sentence Length :383\n"
     ]
    }
   ],
   "source": [
    "train_data= pd.read_csv('data_train.csv')\n",
    "train_data.dropna(axis = 0, how ='any',inplace=True) \n",
    "\n",
    "\n",
    "train_data['Num_words_text'] = train_data['review'].apply(lambda x:len(str(x).split())) \n",
    "mask = train_data['Num_words_text'] >2\n",
    "train_data = train_data[mask]\n",
    "\n",
    "print('-------Train data--------')\n",
    "print(train_data['sentiment'].value_counts())\n",
    "print(len(train_data))\n",
    "max_train_sentence_length  = train_data['Num_words_text'].max()\n",
    "\n",
    "test_data= pd.read_csv('data_test.csv')\n",
    "test_data.dropna(axis = 0, how ='any',inplace=True) \n",
    "test_data['Num_words_text'] = test_data['review'].apply(lambda x:len(str(x).split())) \n",
    "\n",
    "max_test_sentence_length  = test_data['Num_words_text'].max()\n",
    "\n",
    "mask = test_data['Num_words_text'] >2\n",
    "test_data = test_data[mask]\n",
    "\n",
    "print('-------Test data--------')\n",
    "print(test_data['sentiment'].value_counts())\n",
    "print(len(test_data))\n",
    "print('-------------------------')\n",
    "\n",
    "print('Train Max Sentence Length :'+str(max_train_sentence_length))\n",
    "print('Test Max Sentence Length :'+str(max_test_sentence_length))\n",
    "\n",
    "#all_sentences = train_data['text'].tolist() + test_data['text'].tolist()"
   ]
  },
  {
   "cell_type": "code",
   "execution_count": 3,
   "metadata": {},
   "outputs": [],
   "source": [
    "num_words = 20000\n",
    "\n",
    "tokenizer = Tokenizer(num_words=num_words,oov_token=\"unk\")\n",
    "tokenizer.fit_on_texts(train_data['review'].tolist())\n",
    "\n",
    "# print(str(tokenizer.texts_to_sequences(['nice spot hang friend see also sunset amazing beside many option restaurant choose along'])))"
   ]
  },
  {
   "cell_type": "code",
   "execution_count": 4,
   "metadata": {},
   "outputs": [],
   "source": [
    "train_data.drop([\"Date\", \"Content\", \"scores\", \"compound\"], axis=1, inplace=True)"
   ]
  },
  {
   "cell_type": "code",
   "execution_count": 5,
   "metadata": {},
   "outputs": [],
   "source": [
    "train_data['review'].values.astype('U')\n",
    "vec = TfidfVectorizer(stop_words='english')\n",
    "resp = vec.fit_transform(train_data['review'])\n",
    "# print(resp)"
   ]
  },
  {
   "cell_type": "code",
   "execution_count": 6,
   "metadata": {},
   "outputs": [
    {
     "name": "stdout",
     "output_type": "stream",
     "text": [
      "Train data len:6798\n",
      "Class distributionCounter({1: 6194, 0: 604})\n",
      "Valid data len:1700\n",
      "Class distributionCounter({1: 1549, 0: 151})\n"
     ]
    },
    {
     "name": "stderr",
     "output_type": "stream",
     "text": [
      "E:\\Anaconda3\\lib\\site-packages\\ipykernel_launcher.py:19: VisibleDeprecationWarning: Creating an ndarray from ragged nested sequences (which is a list-or-tuple of lists-or-tuples-or ndarrays with different lengths or shapes) is deprecated. If you meant to do this, you must specify 'dtype=object' when creating the ndarray\n",
      "E:\\Anaconda3\\lib\\site-packages\\ipykernel_launcher.py:20: VisibleDeprecationWarning: Creating an ndarray from ragged nested sequences (which is a list-or-tuple of lists-or-tuples-or ndarrays with different lengths or shapes) is deprecated. If you meant to do this, you must specify 'dtype=object' when creating the ndarray\n",
      "E:\\Anaconda3\\lib\\site-packages\\ipykernel_launcher.py:21: VisibleDeprecationWarning: Creating an ndarray from ragged nested sequences (which is a list-or-tuple of lists-or-tuples-or ndarrays with different lengths or shapes) is deprecated. If you meant to do this, you must specify 'dtype=object' when creating the ndarray\n"
     ]
    },
    {
     "name": "stdout",
     "output_type": "stream",
     "text": [
      "[36 68 96 ...  0  0  0]\n"
     ]
    }
   ],
   "source": [
    "X_train, X_valid, y_train, y_valid = train_test_split(train_data['review'].tolist(),\\\n",
    "                                                      train_data['sentiment'].tolist(),\\\n",
    "                                                      test_size=0.2,\\\n",
    "                                                      stratify = train_data['sentiment'].tolist(),\\\n",
    "                                                      random_state=0)\n",
    "\n",
    "print('Train data len:'+str(len(X_train)))\n",
    "print('Class distribution'+str(Counter(y_train)))\n",
    "print('Valid data len:'+str(len(X_valid)))\n",
    "print('Class distribution'+ str(Counter(y_valid)))\n",
    "\n",
    "# sm = SMOTE()\n",
    "# try :\n",
    "#     x_train_res, y_train_res = sm.fit_resample(X_train, y_train)\n",
    "# except ValueError:\n",
    "#     pass\n",
    "\n",
    "\n",
    "x_train = np.array( tokenizer.texts_to_sequences(X_train) )\n",
    "x_valid = np.array( tokenizer.texts_to_sequences(X_valid) )\n",
    "x_test  = np.array( tokenizer.texts_to_sequences(test_data['review'].tolist()) )\n",
    "\n",
    "#Normal\n",
    "# x_train = pad_sequences(x_train, padding='post', maxlen=1210)\n",
    "# x_valid = pad_sequences(x_valid, padding='post', maxlen=1210)\n",
    "# x_test = pad_sequences(x_test, padding='post', maxlen=390)\n",
    "\n",
    "#Undersampling\n",
    "x_train = pad_sequences(x_train, padding='post', maxlen=1210)\n",
    "x_valid = pad_sequences(x_valid, padding='post', maxlen=1210)\n",
    "x_test = pad_sequences(x_test, padding='post', maxlen=390)\n",
    "\n",
    "print(x_train[0])\n",
    "\n",
    "le = LabelEncoder()\n",
    "\n",
    "# train_reviews = le.fit_transform(x_train)\n",
    "# train_reviews = np.asarray( tf.keras.utils.to_categorical(train_reviews))\n",
    "# #print(train_labels)\n",
    "# valid_reviews = le.transform(x_valid)\n",
    "# valid_reviews = np.asarray( tf.keras.utils.to_categorical(valid_reviews))\n",
    "\n",
    "train_labels = le.fit_transform(y_train)\n",
    "train_labels = np.asarray( tf.keras.utils.to_categorical(train_labels))\n",
    "#print(train_labels)\n",
    "valid_labels = le.transform(y_valid)\n",
    "valid_labels = np.asarray( tf.keras.utils.to_categorical(valid_labels))\n",
    "\n",
    "test_labels = le.transform(test_data['sentiment'].tolist())\n",
    "test_labels = np.asarray(tf.keras.utils.to_categorical(test_labels))\n",
    "list(le.classes_)\n",
    "\n",
    "\n",
    "train_ds = tf.data.Dataset.from_tensor_slices((x_train,train_labels))\n",
    "valid_ds = tf.data.Dataset.from_tensor_slices((x_valid,valid_labels))\n",
    "test_ds = tf.data.Dataset.from_tensor_slices((x_test,test_labels))"
   ]
  },
  {
   "cell_type": "code",
   "execution_count": 7,
   "metadata": {},
   "outputs": [
    {
     "name": "stdout",
     "output_type": "stream",
     "text": [
      "[1, 1, 1, 1, 1, 1, 1, 1, 1, 1]\n",
      "Text to number\n",
      "[1 1 1 1 1 1 1 1 1 1]\n",
      "Number to category\n",
      "[[0. 1.]\n",
      " [0. 1.]\n",
      " [0. 1.]\n",
      " [0. 1.]\n",
      " [0. 1.]\n",
      " [0. 1.]\n",
      " [0. 1.]\n",
      " [0. 1.]\n",
      " [0. 1.]\n",
      " [0. 1.]]\n"
     ]
    }
   ],
   "source": [
    "print(y_train[:10])\n",
    "train_labels = le.fit_transform(y_train)\n",
    "print('Text to number')\n",
    "print(train_labels[:10])\n",
    "train_labels = np.asarray( tf.keras.utils.to_categorical(train_labels))\n",
    "print('Number to category')\n",
    "print(train_labels[:10])"
   ]
  },
  {
   "cell_type": "code",
   "execution_count": 8,
   "metadata": {},
   "outputs": [],
   "source": [
    "# count =0\n",
    "# print('======Train dataset ====')\n",
    "# for value,label in train_ds:\n",
    "#     count += 1\n",
    "#     print(value,label)\n",
    "#     if count==2:\n",
    "#         break\n",
    "# count =0\n",
    "# print('======Validation dataset ====')\n",
    "# for value,label in valid_ds:\n",
    "#     count += 1\n",
    "#     print(value,label)\n",
    "#     if count==2:\n",
    "#         break\n",
    "# print('======Test dataset ====')\n",
    "# for value,label in test_ds:\n",
    "#     count += 1\n",
    "#     print(value,label)\n",
    "#     if count==2:\n",
    "#         break"
   ]
  },
  {
   "cell_type": "code",
   "execution_count": 9,
   "metadata": {},
   "outputs": [
    {
     "name": "stdout",
     "output_type": "stream",
     "text": [
      "Model: \"sequential\"\n",
      "_________________________________________________________________\n",
      "Layer (type)                 Output Shape              Param #   \n",
      "=================================================================\n",
      "embedding (Embedding)        (None, 1210, 64)          1280064   \n",
      "_________________________________________________________________\n",
      "conv1d (Conv1D)              (None, 1209, 128)         16512     \n",
      "_________________________________________________________________\n",
      "global_max_pooling1d (Global (None, 128)               0         \n",
      "_________________________________________________________________\n",
      "flatten (Flatten)            (None, 128)               0         \n",
      "_________________________________________________________________\n",
      "dense (Dense)                (None, 64)                8256      \n",
      "_________________________________________________________________\n",
      "dense_1 (Dense)              (None, 64)                4160      \n",
      "_________________________________________________________________\n",
      "dense_2 (Dense)              (None, 2)                 130       \n",
      "=================================================================\n",
      "Total params: 1,309,122\n",
      "Trainable params: 1,309,122\n",
      "Non-trainable params: 0\n",
      "_________________________________________________________________\n"
     ]
    }
   ],
   "source": [
    "max_features =20000\n",
    "embedding_dim =64\n",
    "sequence_length = 1210\n",
    "\n",
    "model = tf.keras.Sequential()\n",
    "model.add(tf.keras.layers.Embedding(max_features +1, embedding_dim, input_length=sequence_length,\\\n",
    "                                    embeddings_regularizer = regularizers.l2(0.0005)))                                    \n",
    "\n",
    "model.add(tf.keras.layers.Conv1D(128,2, padding='valid', activation='relu',\\\n",
    "                                 kernel_regularizer = regularizers.l2(0.0005),\\\n",
    "                                 bias_regularizer = regularizers.l2(0.0005)))                               \n",
    "\n",
    "\n",
    "model.add(tf.keras.layers.GlobalMaxPooling1D())\n",
    "\n",
    "model.add(tf.keras.layers.Flatten())\n",
    "\n",
    "# model.add(tf.keras.layers.Dropout(0.3))\n",
    "\n",
    "model.add(tf.keras.layers.Dense(64, activation='relu',\\\n",
    "                                kernel_regularizer=regularizers.l2(0.001),\\\n",
    "                                bias_regularizer=regularizers.l2(0.001)))\n",
    "\n",
    "# model.add(tf.keras.layers.Dropout(0.5))\n",
    "\n",
    "model.add(tf.keras.layers.Dense(64, activation='relu',\\\n",
    "                                kernel_regularizer=regularizers.l2(0.001),\\\n",
    "                                bias_regularizer=regularizers.l2(0.001)))\n",
    "\n",
    "# model.add(tf.keras.layers.Dropout(0.5))\n",
    "\n",
    "model.add(tf.keras.layers.Dense(2, activation='sigmoid',\\\n",
    "                                kernel_regularizer=regularizers.l2(0.001),\\\n",
    "                                bias_regularizer=regularizers.l2(0.001)))\n",
    "\n",
    "# custom_early_stopping = EarlyStopping(\n",
    "#     monitor='val_loss', \n",
    "#     patience=1, \n",
    "#     min_delta=0.001, \n",
    "#     mode='auto'\n",
    "# )\n",
    "                               \n",
    "\n",
    "model.summary()\n",
    "model.compile(loss=tf.keras.losses.CategoricalCrossentropy(from_logits=True), optimizer='adam', metrics=[\"CategoricalAccuracy\"])"
   ]
  },
  {
   "cell_type": "code",
   "execution_count": 10,
   "metadata": {},
   "outputs": [],
   "source": [
    "import graphviz"
   ]
  },
  {
   "cell_type": "code",
   "execution_count": 11,
   "metadata": {},
   "outputs": [
    {
     "data": {
      "image/png": "[encoded data removed]",
      "text/plain": [
       "<IPython.core.display.Image object>"
      ]
     },
     "execution_count": 11,
     "metadata": {},
     "output_type": "execute_result"
    }
   ],
   "source": [
    "tf.keras.utils.plot_model(model, \"multi_input_and_output_model.png\", show_shapes=True)"
   ]
  },
  {
   "cell_type": "code",
   "execution_count": 12,
   "metadata": {},
   "outputs": [
    {
     "name": "stdout",
     "output_type": "stream",
     "text": [
      "Epoch 1/3\n"
     ]
    },
    {
     "name": "stderr",
     "output_type": "stream",
     "text": [
      "E:\\Anaconda3\\lib\\site-packages\\tensorflow\\python\\keras\\backend.py:4870: UserWarning: \"`categorical_crossentropy` received `from_logits=True`, but the `output` argument was produced by a sigmoid or softmax activation and thus does not represent logits. Was this intended?\"\n",
      "  '\"`categorical_crossentropy` received `from_logits=True`, but '\n"
     ]
    },
    {
     "name": "stdout",
     "output_type": "stream",
     "text": [
      "107/107 [==============================] - 31s 281ms/step - loss: 0.5575 - categorical_accuracy: 0.8954 - val_loss: 0.3608 - val_categorical_accuracy: 0.9112\n",
      "Epoch 2/3\n",
      "107/107 [==============================] - 30s 277ms/step - loss: 0.3081 - categorical_accuracy: 0.9122 - val_loss: 0.2776 - val_categorical_accuracy: 0.9241\n",
      "Epoch 3/3\n",
      "107/107 [==============================] - 30s 276ms/step - loss: 0.2350 - categorical_accuracy: 0.9366 - val_loss: 0.2519 - val_categorical_accuracy: 0.9294\n"
     ]
    }
   ],
   "source": [
    "epochs = 3\n",
    "# Fit the model using the train and test datasets.\n",
    "#history = model.fit(x_train, train_labels,validation_data= (x_test,test_labels),epochs=epochs )\n",
    "history = model.fit(train_ds.shuffle(2000).batch(64),\n",
    "                    epochs= epochs ,\n",
    "                    validation_data=valid_ds.batch(64),\n",
    "                    verbose=1)\n",
    "\n",
    "# ,\n",
    "#                     callbacks=[custom_early_stopping]"
   ]
  },
  {
   "cell_type": "code",
   "execution_count": 13,
   "metadata": {},
   "outputs": [
    {
     "data": {
      "text/plain": [
       "3"
      ]
     },
     "execution_count": 13,
     "metadata": {},
     "output_type": "execute_result"
    }
   ],
   "source": [
    "len(history.history['loss'])"
   ]
  },
  {
   "cell_type": "code",
   "execution_count": 14,
   "metadata": {},
   "outputs": [
    {
     "data": {
      "image/png": "[encoded data removed]",
      "text/plain": [
       "<Figure size 432x288 with 1 Axes>"
      ]
     },
     "metadata": {
      "needs_background": "light"
     },
     "output_type": "display_data"
    }
   ],
   "source": [
    "plt.plot(history.history['loss'], label=' training data')\n",
    "plt.plot(history.history['val_loss'], label='validation data)')\n",
    "plt.title('Loss for Text Classification')\n",
    "plt.ylabel('Loss value')\n",
    "plt.xlabel('No. epoch')\n",
    "plt.legend(loc=\"upper left\")\n",
    "plt.show()"
   ]
  },
  {
   "cell_type": "code",
   "execution_count": 15,
   "metadata": {},
   "outputs": [
    {
     "data": {
      "image/png": "[encoded data removed]",
      "text/plain": [
       "<Figure size 432x288 with 1 Axes>"
      ]
     },
     "metadata": {
      "needs_background": "light"
     },
     "output_type": "display_data"
    }
   ],
   "source": [
    "plt.plot(history.history['categorical_accuracy'], label=' (training data)')\n",
    "plt.plot(history.history['val_categorical_accuracy'], label='CategoricalCrossentropy (validation data)')\n",
    "plt.title('CategoricalAccuracy for Text Classification')\n",
    "plt.ylabel('CategoricalAccuracy value')\n",
    "plt.xlabel('No. epoch')\n",
    "plt.legend(loc=\"upper left\")\n",
    "plt.show()"
   ]
  },
  {
   "cell_type": "code",
   "execution_count": 16,
   "metadata": {},
   "outputs": [
    {
     "name": "stdout",
     "output_type": "stream",
     "text": [
      "INFO:tensorflow:Assets written to: newmodel4\\tf_cnnmodel\\assets\n"
     ]
    }
   ],
   "source": [
    "model.save('newmodel4\\\\tf_cnnmodel') \n",
    "json_string = tokenizer.to_json()"
   ]
  },
  {
   "cell_type": "code",
   "execution_count": 17,
   "metadata": {},
   "outputs": [],
   "source": [
    "import json\n",
    "# with open('tf_cnnmodel', 'w') as outfile:\n",
    "#     json.dump(json_string, outfile)"
   ]
  },
  {
   "cell_type": "code",
   "execution_count": 18,
   "metadata": {
    "scrolled": true
   },
   "outputs": [
    {
     "name": "stdout",
     "output_type": "stream",
     "text": [
      "Model: \"sequential\"\n",
      "_________________________________________________________________\n",
      "Layer (type)                 Output Shape              Param #   \n",
      "=================================================================\n",
      "embedding (Embedding)        (None, 1210, 64)          1280064   \n",
      "_________________________________________________________________\n",
      "conv1d (Conv1D)              (None, 1209, 128)         16512     \n",
      "_________________________________________________________________\n",
      "global_max_pooling1d (Global (None, 128)               0         \n",
      "_________________________________________________________________\n",
      "flatten (Flatten)            (None, 128)               0         \n",
      "_________________________________________________________________\n",
      "dense (Dense)                (None, 64)                8256      \n",
      "_________________________________________________________________\n",
      "dense_1 (Dense)              (None, 64)                4160      \n",
      "_________________________________________________________________\n",
      "dense_2 (Dense)              (None, 2)                 130       \n",
      "=================================================================\n",
      "Total params: 1,309,122\n",
      "Trainable params: 1,309,122\n",
      "Non-trainable params: 0\n",
      "_________________________________________________________________\n"
     ]
    }
   ],
   "source": [
    "new_model = tf.keras.models.load_model('newmodel4\\\\tf_cnnmodel')\n",
    "new_model.summary()"
   ]
  },
  {
   "cell_type": "code",
   "execution_count": 19,
   "metadata": {},
   "outputs": [
    {
     "data": {
      "text/html": [
       "<div>\n",
       "<style scoped>\n",
       "    .dataframe tbody tr th:only-of-type {\n",
       "        vertical-align: middle;\n",
       "    }\n",
       "\n",
       "    .dataframe tbody tr th {\n",
       "        vertical-align: top;\n",
       "    }\n",
       "\n",
       "    .dataframe thead th {\n",
       "        text-align: right;\n",
       "    }\n",
       "</style>\n",
       "<table border=\"1\" class=\"dataframe\">\n",
       "  <thead>\n",
       "    <tr style=\"text-align: right;\">\n",
       "      <th></th>\n",
       "      <th>Date</th>\n",
       "      <th>Content</th>\n",
       "      <th>review</th>\n",
       "      <th>scores</th>\n",
       "      <th>compound</th>\n",
       "      <th>sentiment</th>\n",
       "    </tr>\n",
       "  </thead>\n",
       "  <tbody>\n",
       "    <tr>\n",
       "      <td>837</td>\n",
       "      <td>12-Jun</td>\n",
       "      <td>So beautiful, but we had watched Jaws the nigh...</td>\n",
       "      <td>beautiful watch jaw night wimped anything past...</td>\n",
       "      <td>{'neg': 0.0, 'neu': 0.672, 'pos': 0.328, 'comp...</td>\n",
       "      <td>0.5994</td>\n",
       "      <td>1</td>\n",
       "    </tr>\n",
       "    <tr>\n",
       "      <td>777</td>\n",
       "      <td>13-Nov</td>\n",
       "      <td>Very clean. Whiter sand than Kuta beach. Not t...</td>\n",
       "      <td>clean whiter sand kuta many people easy enter ...</td>\n",
       "      <td>{'neg': 0.0, 'neu': 0.672, 'pos': 0.328, 'comp...</td>\n",
       "      <td>0.9042</td>\n",
       "      <td>1</td>\n",
       "    </tr>\n",
       "    <tr>\n",
       "      <td>1790</td>\n",
       "      <td>16-Mar</td>\n",
       "      <td>this spot is nice &amp; clean. also it is public a...</td>\n",
       "      <td>spot nice clean public many activity spot wave...</td>\n",
       "      <td>{'neg': 0.0, 'neu': 0.443, 'pos': 0.557, 'comp...</td>\n",
       "      <td>0.8316</td>\n",
       "      <td>1</td>\n",
       "    </tr>\n",
       "    <tr>\n",
       "      <td>1882</td>\n",
       "      <td>16-Feb</td>\n",
       "      <td>We didn't surf at Seminyak beach but walked it...</td>\n",
       "      <td>didnt surf seminyak walk lot great run area lo...</td>\n",
       "      <td>{'neg': 0.208, 'neu': 0.685, 'pos': 0.107, 'co...</td>\n",
       "      <td>-0.5200</td>\n",
       "      <td>0</td>\n",
       "    </tr>\n",
       "    <tr>\n",
       "      <td>720</td>\n",
       "      <td>19-May</td>\n",
       "      <td>Most beaches are dirty and unclean at Bali And...</td>\n",
       "      <td>beach dirty unclean bali rocky mont cant swim ...</td>\n",
       "      <td>{'neg': 0.343, 'neu': 0.657, 'pos': 0.0, 'comp...</td>\n",
       "      <td>-0.6407</td>\n",
       "      <td>0</td>\n",
       "    </tr>\n",
       "  </tbody>\n",
       "</table>\n",
       "</div>"
      ],
      "text/plain": [
       "        Date                                            Content  \\\n",
       "837   12-Jun  So beautiful, but we had watched Jaws the nigh...   \n",
       "777   13-Nov  Very clean. Whiter sand than Kuta beach. Not t...   \n",
       "1790  16-Mar  this spot is nice & clean. also it is public a...   \n",
       "1882  16-Feb  We didn't surf at Seminyak beach but walked it...   \n",
       "720   19-May  Most beaches are dirty and unclean at Bali And...   \n",
       "\n",
       "                                                 review  \\\n",
       "837   beautiful watch jaw night wimped anything past...   \n",
       "777   clean whiter sand kuta many people easy enter ...   \n",
       "1790  spot nice clean public many activity spot wave...   \n",
       "1882  didnt surf seminyak walk lot great run area lo...   \n",
       "720   beach dirty unclean bali rocky mont cant swim ...   \n",
       "\n",
       "                                                 scores  compound  sentiment  \n",
       "837   {'neg': 0.0, 'neu': 0.672, 'pos': 0.328, 'comp...    0.5994          1  \n",
       "777   {'neg': 0.0, 'neu': 0.672, 'pos': 0.328, 'comp...    0.9042          1  \n",
       "1790  {'neg': 0.0, 'neu': 0.443, 'pos': 0.557, 'comp...    0.8316          1  \n",
       "1882  {'neg': 0.208, 'neu': 0.685, 'pos': 0.107, 'co...   -0.5200          0  \n",
       "720   {'neg': 0.343, 'neu': 0.657, 'pos': 0.0, 'comp...   -0.6407          0  "
      ]
     },
     "execution_count": 19,
     "metadata": {},
     "output_type": "execute_result"
    }
   ],
   "source": [
    "test_data = pd.read_csv('data_test.csv', converters={'reviews' : str})\n",
    "# test_data.drop([\"Date\", \"Content\"], axis=1, inplace=True)\n",
    "# test_data.fillna(0)\n",
    "# test_data = test_data.fillna(\"\")\n",
    "test_data.sample(5)"
   ]
  },
  {
   "cell_type": "code",
   "execution_count": 20,
   "metadata": {},
   "outputs": [
    {
     "name": "stderr",
     "output_type": "stream",
     "text": [
      "E:\\Anaconda3\\lib\\site-packages\\ipykernel_launcher.py:2: VisibleDeprecationWarning: Creating an ndarray from ragged nested sequences (which is a list-or-tuple of lists-or-tuples-or ndarrays with different lengths or shapes) is deprecated. If you meant to do this, you must specify 'dtype=object' when creating the ndarray\n",
      "  \n"
     ]
    }
   ],
   "source": [
    "try:\n",
    "    x_test  = np.array( tokenizer.texts_to_sequences(test_data['review'].tolist()) )\n",
    "    # x_test = tokenizer\n",
    "    x_test = pad_sequences(x_test, padding='post', maxlen=1210)\n",
    "except AttributeError:\n",
    "    pass"
   ]
  },
  {
   "cell_type": "code",
   "execution_count": 21,
   "metadata": {},
   "outputs": [
    {
     "name": "stdout",
     "output_type": "stream",
     "text": [
      "Generate predictions for all samples\n",
      "[[0.1282945  0.9192416 ]\n",
      " [0.06880724 0.9640453 ]\n",
      " [0.11001402 0.9335675 ]\n",
      " ...\n",
      " [0.09739599 0.94405556]\n",
      " [0.6170088  0.36726338]\n",
      " [0.20416683 0.85132897]]\n"
     ]
    }
   ],
   "source": [
    "# Generate predictions (probabilities -- the output of the last layer)\n",
    "# on test  data using `predict`\n",
    "print(\"Generate predictions for all samples\")\n",
    "predictions = new_model.predict(x_test)\n",
    "print(predictions)\n",
    "predict_results = predictions.argmax(axis=1)"
   ]
  },
  {
   "cell_type": "code",
   "execution_count": 22,
   "metadata": {},
   "outputs": [],
   "source": [
    "test_data['pred_sentiment'] = predict_results\n",
    "test_data['pred_sentiment'] = np.where((test_data.pred_sentiment == 0),'0',test_data.pred_sentiment)\n",
    "test_data['pred_sentiment'] = np.where((test_data.pred_sentiment == '1'),'1',test_data.pred_sentiment)"
   ]
  },
  {
   "cell_type": "code",
   "execution_count": 23,
   "metadata": {},
   "outputs": [
    {
     "name": "stdout",
     "output_type": "stream",
     "text": [
      "              precision    recall  f1-score   support\n",
      "\n",
      "           0       0.68      0.31      0.43       222\n",
      "           1       0.92      0.98      0.95      1905\n",
      "\n",
      "    accuracy                           0.91      2127\n",
      "   macro avg       0.80      0.65      0.69      2127\n",
      "weighted avg       0.90      0.91      0.90      2127\n",
      "\n"
     ]
    }
   ],
   "source": [
    "labels = ['0', '1']\n",
    "    \n",
    "print(classification_report(test_data['sentiment'].values.astype(int).astype(str),test_data['pred_sentiment'].values,labels=labels))"
   ]
  },
  {
   "cell_type": "code",
   "execution_count": 28,
   "metadata": {},
   "outputs": [
    {
     "data": {
      "text/plain": [
       "'1'"
      ]
     },
     "execution_count": 28,
     "metadata": {},
     "output_type": "execute_result"
    }
   ],
   "source": [
    "# sentiment = ['negative','positive']\n",
    "sequence20 = tokenizer.texts_to_sequences(['beautiful beach'])\n",
    "\n",
    "\n",
    "test20 = pad_sequences(sequence20, padding=\"post\")\n",
    "labels[np.around(new_model.predict(test20)).argmax(axis=1)[0]]"
   ]
  },
  {
   "cell_type": "code",
   "execution_count": 25,
   "metadata": {},
   "outputs": [
    {
     "data": {
      "text/plain": [
       "'0'"
      ]
     },
     "execution_count": 25,
     "metadata": {},
     "output_type": "execute_result"
    }
   ],
   "source": [
    "sequence30 = tokenizer.texts_to_sequences(['rubbish everywhere'])\n",
    "\n",
    "\n",
    "test30 = pad_sequences(sequence30, padding=\"post\")\n",
    "labels[np.around(new_model.predict(test30)).argmax(axis=1)[0]]"
   ]
  },
  {
   "cell_type": "code",
   "execution_count": 26,
   "metadata": {},
   "outputs": [
    {
     "name": "stdout",
     "output_type": "stream",
     "text": [
      "Predicted   0     1\n",
      "Actual             \n",
      "0          69   153\n",
      "1          32  1873\n"
     ]
    }
   ],
   "source": [
    "# df = pd.DataFrame(data, columns=['y_Actual','y_Predicted'])\n",
    "\n",
    "confusion_matrix = pd.crosstab(test_data['sentiment'], test_data['pred_sentiment'], rownames=['Actual'], colnames=['Predicted'])\n",
    "print (confusion_matrix)"
   ]
  },
  {
   "cell_type": "code",
   "execution_count": 27,
   "metadata": {},
   "outputs": [
    {
     "name": "stdout",
     "output_type": "stream",
     "text": [
      "ROC AUC Score\n",
      "0.6470064552741719\n"
     ]
    }
   ],
   "source": [
    "roc_auc = roc_auc_score(test_data['sentiment'], test_data['pred_sentiment'])\n",
    "\n",
    "print(\"ROC AUC Score\")\n",
    "print(roc_auc)"
   ]
  },
  {
   "cell_type": "code",
   "execution_count": null,
   "metadata": {},
   "outputs": [],
   "source": []
  }
 ],
 "metadata": {
  "kernelspec": {
   "display_name": "Python 3",
   "language": "python",
   "name": "python3"
  },
  "language_info": {
   "codemirror_mode": {
    "name": "ipython",
    "version": 3
   },
   "file_extension": ".py",
   "mimetype": "text/x-python",
   "name": "python",
   "nbconvert_exporter": "python",
   "pygments_lexer": "ipython3",
   "version": "3.7.4"
  }
 },
 "nbformat": 4,
 "nbformat_minor": 2
}
