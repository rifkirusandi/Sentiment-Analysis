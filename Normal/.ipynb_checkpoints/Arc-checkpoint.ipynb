{
 "cells": [
  {
   "cell_type": "code",
   "execution_count": 1,
   "metadata": {},
   "outputs": [],
   "source": [
    "import matplotlib.pyplot as plt\n",
    "import os\n",
    "import re\n",
    "import shutil\n",
    "import string\n",
    "import tensorflow as tf\n",
    "import warnings\n",
    "import imblearn\n",
    "import pydot\n",
    "\n",
    "from collections import Counter\n",
    "\n",
    "from imblearn.over_sampling import ADASYN, SMOTE\n",
    "\n",
    "from tensorflow.keras import regularizers\n",
    "from tensorflow.keras.callbacks import EarlyStopping\n",
    "\n",
    "from tensorflow.keras import layers\n",
    "from tensorflow.keras import losses\n",
    "\n",
    "from keras.callbacks import ModelCheckpoint\n",
    "\n",
    "import pandas as pd\n",
    "import numpy as np\n",
    "\n",
    "from sklearn.feature_extraction.text import TfidfVectorizer\n",
    "from sklearn.preprocessing import LabelEncoder\n",
    "from sklearn.model_selection import train_test_split\n",
    "from sklearn.metrics import classification_report\n",
    "from sklearn.metrics import f1_score\n",
    "from sklearn.metrics import roc_auc_score\n",
    "from sklearn.metrics import roc_curve\n",
    "from sklearn.model_selection import cross_val_score\n",
    "\n",
    "from sklearn.linear_model import LogisticRegression\n",
    "from sklearn.pipeline import Pipeline\n",
    "\n",
    "from tensorflow.keras import preprocessing\n",
    "from tensorflow.keras.preprocessing.text import Tokenizer\n",
    "from tensorflow.keras.preprocessing.sequence import pad_sequences"
   ]
  },
  {
   "cell_type": "code",
   "execution_count": 2,
   "metadata": {},
   "outputs": [
    {
     "name": "stdout",
     "output_type": "stream",
     "text": [
      "-------Train data--------\n",
      "1    7431\n",
      "0    1134\n",
      "Name: sentiment, dtype: int64\n",
      "8565\n",
      "-------Test data--------\n",
      "1    1842\n",
      "0     301\n",
      "Name: sentiment, dtype: int64\n",
      "2143\n",
      "-------------------------\n",
      "Train Max Sentence Length :1175\n",
      "Test Max Sentence Length :433\n"
     ]
    }
   ],
   "source": [
    "train_data= pd.read_csv('Data Train\\\\data_train_8020.csv')\n",
    "train_data.dropna(axis = 0, how ='any',inplace=True) \n",
    "\n",
    "\n",
    "train_data['Num_words_text'] = train_data['review'].apply(lambda x:len(str(x).split())) \n",
    "mask = train_data['Num_words_text'] >2\n",
    "train_data = train_data[mask]\n",
    "\n",
    "print('-------Train data--------')\n",
    "print(train_data['sentiment'].value_counts())\n",
    "print(len(train_data))\n",
    "max_train_sentence_length  = train_data['Num_words_text'].max()\n",
    "\n",
    "test_data= pd.read_csv('Data Test\\\\data_test_8020.csv')\n",
    "test_data.dropna(axis = 0, how ='any',inplace=True) \n",
    "test_data['Num_words_text'] = test_data['review'].apply(lambda x:len(str(x).split())) \n",
    "\n",
    "max_test_sentence_length  = test_data['Num_words_text'].max()\n",
    "\n",
    "mask = test_data['Num_words_text'] >2\n",
    "test_data = test_data[mask]\n",
    "\n",
    "print('-------Test data--------')\n",
    "print(test_data['sentiment'].value_counts())\n",
    "print(len(test_data))\n",
    "print('-------------------------')\n",
    "\n",
    "print('Train Max Sentence Length :'+str(max_train_sentence_length))\n",
    "print('Test Max Sentence Length :'+str(max_test_sentence_length))\n",
    "\n",
    "#all_sentences = train_data['text'].tolist() + test_data['text'].tolist()"
   ]
  },
  {
   "cell_type": "code",
   "execution_count": 3,
   "metadata": {},
   "outputs": [],
   "source": [
    "num_words = 20000\n",
    "\n",
    "tokenizer = Tokenizer(num_words=num_words,oov_token=None)\n",
    "tokenizer.fit_on_texts(train_data['review'].tolist())\n",
    "\n",
    "# print(str(tokenizer.texts_to_sequences(['beauti sunset love watch big wave crash see local balines famili enjoy beachoff bless dont miss sunset magic'])))"
   ]
  },
  {
   "cell_type": "code",
   "execution_count": 4,
   "metadata": {},
   "outputs": [],
   "source": [
    "# train_data.drop([\"Date\", \"Content\", \"scores\", \"compound\"], axis=1, inplace=True)"
   ]
  },
  {
   "cell_type": "code",
   "execution_count": 5,
   "metadata": {},
   "outputs": [
    {
     "name": "stdout",
     "output_type": "stream",
     "text": [
      "  (0, 3130)\t0.385099010613826\n",
      "  (0, 11905)\t0.31562236958895257\n",
      "  (0, 11653)\t0.3301784367032046\n",
      "  (0, 2881)\t0.46912777524920823\n",
      "  (0, 10254)\t0.4400195845244474\n",
      "  (0, 3928)\t0.21782448636015125\n",
      "  (0, 10113)\t0.25365869533384494\n",
      "  (0, 13235)\t0.34289229639008195\n",
      "  (1, 2046)\t0.25984490387122927\n",
      "  (1, 11985)\t0.3122997742552879\n",
      "  (1, 11657)\t0.353207178281733\n",
      "  (1, 11843)\t0.2581509397220775\n",
      "  (1, 4802)\t0.7620392922165313\n",
      "  (1, 3928)\t0.250695782934696\n",
      "  (2, 11266)\t0.33712994009249947\n",
      "  (2, 1258)\t0.28381843132304296\n",
      "  (2, 9836)\t0.20099281655506065\n",
      "  (2, 9992)\t0.1880821948555131\n",
      "  (2, 2509)\t0.2860340666116696\n",
      "  (2, 3309)\t0.28381843132304296\n",
      "  (2, 1086)\t0.19643896287211474\n",
      "  (2, 12796)\t0.39083098120516746\n",
      "  (2, 1473)\t0.2049397360931509\n",
      "  (2, 11231)\t0.38895704845583634\n",
      "  (2, 1668)\t0.18185726858610637\n",
      "  :\t:\n",
      "  (8562, 8036)\t0.2308150649862618\n",
      "  (8562, 7355)\t0.15018967939136713\n",
      "  (8562, 3928)\t0.19872917865936657\n",
      "  (8563, 5089)\t0.6105100556351752\n",
      "  (8563, 5556)\t0.36438797115416977\n",
      "  (8563, 7388)\t0.2508669725832493\n",
      "  (8563, 1897)\t0.24381339207751654\n",
      "  (8563, 6674)\t0.36317078645911943\n",
      "  (8563, 11728)\t0.26989741054952926\n",
      "  (8563, 13194)\t0.24486852973596857\n",
      "  (8563, 1258)\t0.32775210318672604\n",
      "  (8564, 5899)\t0.36281452707699235\n",
      "  (8564, 6256)\t0.3143347360161769\n",
      "  (8564, 4157)\t0.30511553795708457\n",
      "  (8564, 12820)\t0.39603279536837144\n",
      "  (8564, 7231)\t0.22870941097098493\n",
      "  (8564, 9014)\t0.31580943178358556\n",
      "  (8564, 10743)\t0.22107926702614375\n",
      "  (8564, 8434)\t0.25663574689626917\n",
      "  (8564, 7332)\t0.17345579114094806\n",
      "  (8564, 8310)\t0.19863275420460058\n",
      "  (8564, 10268)\t0.226568536506682\n",
      "  (8564, 11954)\t0.13932466037425473\n",
      "  (8564, 4506)\t0.28899049937631055\n",
      "  (8564, 11671)\t0.1704060780172888\n"
     ]
    }
   ],
   "source": [
    "train_data['review'].values.astype('U')\n",
    "vec = TfidfVectorizer(stop_words='english')\n",
    "resp = vec.fit_transform(train_data['review'])\n",
    "print(resp)\n",
    "# print(vec.get_feature_names())"
   ]
  },
  {
   "cell_type": "code",
   "execution_count": 6,
   "metadata": {},
   "outputs": [
    {
     "name": "stdout",
     "output_type": "stream",
     "text": [
      "Train data len:6852\n",
      "Class distributionCounter({1: 5945, 0: 907})\n",
      "Valid data len:1713\n",
      "Class distributionCounter({1: 1486, 0: 227})\n"
     ]
    },
    {
     "name": "stderr",
     "output_type": "stream",
     "text": [
      "E:\\Anaconda3\\lib\\site-packages\\ipykernel_launcher.py:19: VisibleDeprecationWarning: Creating an ndarray from ragged nested sequences (which is a list-or-tuple of lists-or-tuples-or ndarrays with different lengths or shapes) is deprecated. If you meant to do this, you must specify 'dtype=object' when creating the ndarray\n",
      "E:\\Anaconda3\\lib\\site-packages\\ipykernel_launcher.py:20: VisibleDeprecationWarning: Creating an ndarray from ragged nested sequences (which is a list-or-tuple of lists-or-tuples-or ndarrays with different lengths or shapes) is deprecated. If you meant to do this, you must specify 'dtype=object' when creating the ndarray\n",
      "E:\\Anaconda3\\lib\\site-packages\\ipykernel_launcher.py:21: VisibleDeprecationWarning: Creating an ndarray from ragged nested sequences (which is a list-or-tuple of lists-or-tuples-or ndarrays with different lengths or shapes) is deprecated. If you meant to do this, you must specify 'dtype=object' when creating the ndarray\n"
     ]
    },
    {
     "name": "stdout",
     "output_type": "stream",
     "text": [
      "[ 19 829 189 ...   0   0   0]\n"
     ]
    }
   ],
   "source": [
    "X_train, X_valid, y_train, y_valid = train_test_split(train_data['review'].tolist(),\\\n",
    "                                                      train_data['sentiment'].tolist(),\\\n",
    "                                                      test_size=0.2,\\\n",
    "                                                      stratify = train_data['sentiment'].tolist(),\\\n",
    "                                                      random_state=0)\n",
    "\n",
    "print('Train data len:'+str(len(X_train)))\n",
    "print('Class distribution'+str(Counter(y_train)))\n",
    "print('Valid data len:'+str(len(X_valid)))\n",
    "print('Class distribution'+ str(Counter(y_valid)))\n",
    "\n",
    "# sm = SMOTE()\n",
    "# try :\n",
    "#     x_train_res, y_train_res = sm.fit_resample(X_train, y_train)\n",
    "# except ValueError:\n",
    "#     pass\n",
    "\n",
    "\n",
    "x_train = np.array( tokenizer.texts_to_sequences(X_train) )\n",
    "x_valid = np.array( tokenizer.texts_to_sequences(X_valid) )\n",
    "x_test  = np.array( tokenizer.texts_to_sequences(test_data['review'].tolist()) )\n",
    "\n",
    "#Normal\n",
    "# x_train = pad_sequences(x_train, padding='post', maxlen=1210)\n",
    "# x_valid = pad_sequences(x_valid, padding='post', maxlen=1210)\n",
    "# x_test = pad_sequences(x_test, padding='post', maxlen=390)\n",
    "\n",
    "#Undersampling\n",
    "x_train = pad_sequences(x_train, padding='post', maxlen=1500)\n",
    "x_valid = pad_sequences(x_valid, padding='post', maxlen=1500)\n",
    "x_test = pad_sequences(x_test, padding='post', maxlen=450)\n",
    "\n",
    "print(x_train[0])\n",
    "\n",
    "le = LabelEncoder()\n",
    "\n",
    "# train_reviews = le.fit_transform(x_train)\n",
    "# train_reviews = np.asarray( tf.keras.utils.to_categorical(train_reviews))\n",
    "# #print(train_labels)\n",
    "# valid_reviews = le.transform(x_valid)\n",
    "# valid_reviews = np.asarray( tf.keras.utils.to_categorical(valid_reviews))\n",
    "\n",
    "train_labels = le.fit_transform(y_train)\n",
    "train_labels = np.asarray( tf.keras.utils.to_categorical(train_labels))\n",
    "#print(train_labels)\n",
    "valid_labels = le.transform(y_valid)\n",
    "valid_labels = np.asarray( tf.keras.utils.to_categorical(valid_labels))\n",
    "\n",
    "test_labels = le.transform(test_data['sentiment'].tolist())\n",
    "test_labels = np.asarray(tf.keras.utils.to_categorical(test_labels))\n",
    "list(le.classes_)\n",
    "\n",
    "\n",
    "train_ds = tf.data.Dataset.from_tensor_slices((x_train,train_labels))\n",
    "valid_ds = tf.data.Dataset.from_tensor_slices((x_valid,valid_labels))\n",
    "test_ds = tf.data.Dataset.from_tensor_slices((x_test,test_labels))"
   ]
  },
  {
   "cell_type": "code",
   "execution_count": 7,
   "metadata": {},
   "outputs": [
    {
     "name": "stdout",
     "output_type": "stream",
     "text": [
      "[1, 1, 0, 1, 1, 1, 1, 0, 1, 1]\n",
      "Text to number\n",
      "[1 1 0 1 1 1 1 0 1 1]\n",
      "Number to category\n",
      "[[0. 1.]\n",
      " [0. 1.]\n",
      " [1. 0.]\n",
      " [0. 1.]\n",
      " [0. 1.]\n",
      " [0. 1.]\n",
      " [0. 1.]\n",
      " [1. 0.]\n",
      " [0. 1.]\n",
      " [0. 1.]]\n"
     ]
    }
   ],
   "source": [
    "print(y_train[:10])\n",
    "train_labels = le.fit_transform(y_train)\n",
    "print('Text to number')\n",
    "print(train_labels[:10])\n",
    "train_labels = np.asarray( tf.keras.utils.to_categorical(train_labels))\n",
    "print('Number to category')\n",
    "print(train_labels[:10])"
   ]
  },
  {
   "cell_type": "code",
   "execution_count": 8,
   "metadata": {},
   "outputs": [],
   "source": [
    "# count =0\n",
    "# print('======Train dataset ====')\n",
    "# for value,label in train_ds:\n",
    "#     count += 1\n",
    "#     print(value,label)\n",
    "#     if count==2:\n",
    "#         break\n",
    "# count =0\n",
    "# print('======Validation dataset ====')\n",
    "# for value,label in valid_ds:\n",
    "#     count += 1\n",
    "#     print(value,label)\n",
    "#     if count==2:\n",
    "#         break\n",
    "# print('======Test dataset ====')\n",
    "# for value,label in test_ds:\n",
    "#     count += 1\n",
    "#     print(value,label)\n",
    "#     if count==2:\n",
    "#         break"
   ]
  },
  {
   "cell_type": "code",
   "execution_count": 9,
   "metadata": {},
   "outputs": [
    {
     "name": "stdout",
     "output_type": "stream",
     "text": [
      "Model: \"sequential\"\n",
      "_________________________________________________________________\n",
      "Layer (type)                 Output Shape              Param #   \n",
      "=================================================================\n",
      "embedding (Embedding)        (None, 1500, 64)          1280064   \n",
      "_________________________________________________________________\n",
      "conv1d (Conv1D)              (None, 1499, 128)         16512     \n",
      "_________________________________________________________________\n",
      "global_max_pooling1d (Global (None, 128)               0         \n",
      "_________________________________________________________________\n",
      "flatten (Flatten)            (None, 128)               0         \n",
      "_________________________________________________________________\n",
      "dense (Dense)                (None, 64)                8256      \n",
      "_________________________________________________________________\n",
      "dense_1 (Dense)              (None, 64)                4160      \n",
      "_________________________________________________________________\n",
      "dense_2 (Dense)              (None, 2)                 130       \n",
      "=================================================================\n",
      "Total params: 1,309,122\n",
      "Trainable params: 1,309,122\n",
      "Non-trainable params: 0\n",
      "_________________________________________________________________\n"
     ]
    }
   ],
   "source": [
    "max_features =20000\n",
    "embedding_dim =64\n",
    "sequence_length = 1500\n",
    "\n",
    "model = tf.keras.Sequential()\n",
    "model.add(tf.keras.layers.Embedding(max_features +1, embedding_dim, input_length=sequence_length,\\\n",
    "                                    embeddings_regularizer = regularizers.l2(0.0005)))                                    \n",
    "\n",
    "model.add(tf.keras.layers.Conv1D(128,2, padding='valid', activation='relu',\\\n",
    "                                 kernel_regularizer = regularizers.l2(0.0005),\\\n",
    "                                 bias_regularizer = regularizers.l2(0.0005)))                               \n",
    "\n",
    "\n",
    "model.add(tf.keras.layers.GlobalMaxPooling1D())\n",
    "\n",
    "model.add(tf.keras.layers.Flatten())\n",
    "\n",
    "# model.add(tf.keras.layers.Dropout(0.3))\n",
    "\n",
    "model.add(tf.keras.layers.Dense(64, activation='relu',\\\n",
    "                                kernel_regularizer=regularizers.l2(0.001),\\\n",
    "                                bias_regularizer=regularizers.l2(0.001)))\n",
    "\n",
    "# model.add(tf.keras.layers.Dropout(0.5))\n",
    "\n",
    "model.add(tf.keras.layers.Dense(64, activation='relu',\\\n",
    "                                kernel_regularizer=regularizers.l2(0.001),\\\n",
    "                                bias_regularizer=regularizers.l2(0.001)))\n",
    "\n",
    "# model.add(tf.keras.layers.Dropout(0.5))\n",
    "\n",
    "model.add(tf.keras.layers.Dense(2, activation='sigmoid',\\\n",
    "                                kernel_regularizer=regularizers.l2(0.001),\\\n",
    "                                bias_regularizer=regularizers.l2(0.001)))\n",
    "\n",
    "# custom_early_stopping = EarlyStopping(\n",
    "#     monitor='val_loss', \n",
    "#     patience=1, \n",
    "#     min_delta=0.001, \n",
    "#     mode='auto'\n",
    "# )\n",
    "                               \n",
    "\n",
    "model.summary()\n",
    "model.compile(loss=tf.keras.losses.CategoricalCrossentropy(from_logits=True), optimizer='adam', metrics=[\"CategoricalAccuracy\"])"
   ]
  },
  {
   "cell_type": "code",
   "execution_count": 10,
   "metadata": {},
   "outputs": [],
   "source": [
    "import graphviz"
   ]
  },
  {
   "cell_type": "code",
   "execution_count": 11,
   "metadata": {},
   "outputs": [
    {
     "data": {
      "image/png": "[encoded data removed]",
      "text/plain": [
       "<IPython.core.display.Image object>"
      ]
     },
     "execution_count": 11,
     "metadata": {},
     "output_type": "execute_result"
    }
   ],
   "source": [
    "tf.keras.utils.plot_model(model, \"multi_input_and_output_model.png\", show_shapes=True)"
   ]
  },
  {
   "cell_type": "code",
   "execution_count": 12,
   "metadata": {},
   "outputs": [
    {
     "name": "stdout",
     "output_type": "stream",
     "text": [
      "Epoch 1/3\n"
     ]
    },
    {
     "name": "stderr",
     "output_type": "stream",
     "text": [
      "E:\\Anaconda3\\lib\\site-packages\\tensorflow\\python\\keras\\backend.py:4870: UserWarning: \"`categorical_crossentropy` received `from_logits=True`, but the `output` argument was produced by a sigmoid or softmax activation and thus does not represent logits. Was this intended?\"\n",
      "  '\"`categorical_crossentropy` received `from_logits=True`, but '\n"
     ]
    },
    {
     "name": "stdout",
     "output_type": "stream",
     "text": [
      "108/108 [==============================] - 31s 253ms/step - loss: 0.6254 - categorical_accuracy: 0.8568 - val_loss: 0.4340 - val_categorical_accuracy: 0.8675\n",
      "Epoch 2/3\n",
      "108/108 [==============================] - 32s 297ms/step - loss: 0.3676 - categorical_accuracy: 0.8806 - val_loss: 0.3337 - val_categorical_accuracy: 0.8990\n",
      "Epoch 3/3\n",
      "108/108 [==============================] - 30s 276ms/step - loss: 0.2793 - categorical_accuracy: 0.9148 - val_loss: 0.2917 - val_categorical_accuracy: 0.9113\n"
     ]
    }
   ],
   "source": [
    "epochs = 3\n",
    "# Fit the model using the train and test datasets.\n",
    "#history = model.fit(x_train, train_labels,validation_data= (x_test,test_labels),epochs=epochs )\n",
    "history = model.fit(train_ds.shuffle(2000).batch(64),\n",
    "                    epochs= epochs ,\n",
    "                    validation_data=valid_ds.batch(64),\n",
    "                    verbose=1)\n",
    "\n",
    "# ,\n",
    "#                     callbacks=[custom_early_stopping]"
   ]
  },
  {
   "cell_type": "code",
   "execution_count": 13,
   "metadata": {},
   "outputs": [
    {
     "data": {
      "text/plain": [
       "3"
      ]
     },
     "execution_count": 13,
     "metadata": {},
     "output_type": "execute_result"
    }
   ],
   "source": [
    "len(history.history['loss'])"
   ]
  },
  {
   "cell_type": "code",
   "execution_count": 14,
   "metadata": {},
   "outputs": [
    {
     "data": {
      "image/png": "[encoded data removed]",
      "text/plain": [
       "<Figure size 432x288 with 1 Axes>"
      ]
     },
     "metadata": {
      "needs_background": "light"
     },
     "output_type": "display_data"
    }
   ],
   "source": [
    "plt.plot(history.history['loss'], label=' training data')\n",
    "plt.plot(history.history['val_loss'], label='validation data)')\n",
    "plt.title('Loss for Text Classification')\n",
    "plt.ylabel('Loss value')\n",
    "plt.xlabel('No. epoch')\n",
    "plt.legend(loc=\"upper left\")\n",
    "plt.show()"
   ]
  },
  {
   "cell_type": "code",
   "execution_count": 15,
   "metadata": {},
   "outputs": [
    {
     "data": {
      "image/png": "[encoded data removed]",
      "text/plain": [
       "<Figure size 432x288 with 1 Axes>"
      ]
     },
     "metadata": {
      "needs_background": "light"
     },
     "output_type": "display_data"
    }
   ],
   "source": [
    "plt.plot(history.history['categorical_accuracy'], label=' (training data)')\n",
    "plt.plot(history.history['val_categorical_accuracy'], label='CategoricalCrossentropy (validation data)')\n",
    "plt.title('CategoricalAccuracy for Text Classification')\n",
    "plt.ylabel('CategoricalAccuracy value')\n",
    "plt.xlabel('No. epoch')\n",
    "plt.legend(loc=\"upper left\")\n",
    "plt.show()"
   ]
  },
  {
   "cell_type": "code",
   "execution_count": 16,
   "metadata": {},
   "outputs": [
    {
     "name": "stdout",
     "output_type": "stream",
     "text": [
      "INFO:tensorflow:Assets written to: FIX\\tf_cnnmodel\\assets\n"
     ]
    }
   ],
   "source": [
    "model.save('FIX\\\\tf_cnnmodel') \n",
    "json_string = tokenizer.to_json()"
   ]
  },
  {
   "cell_type": "code",
   "execution_count": 17,
   "metadata": {
    "scrolled": true
   },
   "outputs": [
    {
     "name": "stdout",
     "output_type": "stream",
     "text": [
      "Model: \"sequential\"\n",
      "_________________________________________________________________\n",
      "Layer (type)                 Output Shape              Param #   \n",
      "=================================================================\n",
      "embedding (Embedding)        (None, 1500, 64)          1280064   \n",
      "_________________________________________________________________\n",
      "conv1d (Conv1D)              (None, 1499, 128)         16512     \n",
      "_________________________________________________________________\n",
      "global_max_pooling1d (Global (None, 128)               0         \n",
      "_________________________________________________________________\n",
      "flatten (Flatten)            (None, 128)               0         \n",
      "_________________________________________________________________\n",
      "dense (Dense)                (None, 64)                8256      \n",
      "_________________________________________________________________\n",
      "dense_1 (Dense)              (None, 64)                4160      \n",
      "_________________________________________________________________\n",
      "dense_2 (Dense)              (None, 2)                 130       \n",
      "=================================================================\n",
      "Total params: 1,309,122\n",
      "Trainable params: 1,309,122\n",
      "Non-trainable params: 0\n",
      "_________________________________________________________________\n"
     ]
    }
   ],
   "source": [
    "new_model = tf.keras.models.load_model('FIX\\\\tf_cnnmodel')\n",
    "new_model.summary()"
   ]
  },
  {
   "cell_type": "code",
   "execution_count": 55,
   "metadata": {},
   "outputs": [
    {
     "data": {
      "text/html": [
       "<div>\n",
       "<style scoped>\n",
       "    .dataframe tbody tr th:only-of-type {\n",
       "        vertical-align: middle;\n",
       "    }\n",
       "\n",
       "    .dataframe tbody tr th {\n",
       "        vertical-align: top;\n",
       "    }\n",
       "\n",
       "    .dataframe thead th {\n",
       "        text-align: right;\n",
       "    }\n",
       "</style>\n",
       "<table border=\"1\" class=\"dataframe\">\n",
       "  <thead>\n",
       "    <tr style=\"text-align: right;\">\n",
       "      <th></th>\n",
       "      <th>review</th>\n",
       "      <th>sentiment</th>\n",
       "    </tr>\n",
       "  </thead>\n",
       "  <tbody>\n",
       "    <tr>\n",
       "      <td>91</td>\n",
       "      <td>sunset wide front watch strong current quite r...</td>\n",
       "      <td>1</td>\n",
       "    </tr>\n",
       "    <tr>\n",
       "      <td>53</td>\n",
       "      <td>wonderful vacation surfhouse close perfect fam...</td>\n",
       "      <td>1</td>\n",
       "    </tr>\n",
       "    <tr>\n",
       "      <td>117</td>\n",
       "      <td>definitely hang bali deus gallery club echo n ...</td>\n",
       "      <td>1</td>\n",
       "    </tr>\n",
       "    <tr>\n",
       "      <td>109</td>\n",
       "      <td>stay previously villa ten minute time near ech...</td>\n",
       "      <td>1</td>\n",
       "    </tr>\n",
       "    <tr>\n",
       "      <td>94</td>\n",
       "      <td>much chance come first time last 3 year feel l...</td>\n",
       "      <td>1</td>\n",
       "    </tr>\n",
       "  </tbody>\n",
       "</table>\n",
       "</div>"
      ],
      "text/plain": [
       "                                                review  sentiment\n",
       "91   sunset wide front watch strong current quite r...          1\n",
       "53   wonderful vacation surfhouse close perfect fam...          1\n",
       "117  definitely hang bali deus gallery club echo n ...          1\n",
       "109  stay previously villa ten minute time near ech...          1\n",
       "94   much chance come first time last 3 year feel l...          1"
      ]
     },
     "execution_count": 55,
     "metadata": {},
     "output_type": "execute_result"
    }
   ],
   "source": [
    "test_data = pd.read_csv('Data Test (5 Pantai)\\\\seminyak_test_8020.csv', converters={'reviews' : str})\n",
    "# test_data.drop([\"Date\", \"Content\"], axis=1, inplace=True)\n",
    "# test_data.fillna(0)\n",
    "# test_data = test_data.fillna(\"\")\n",
    "test_data.sample(5)"
   ]
  },
  {
   "cell_type": "code",
   "execution_count": 56,
   "metadata": {},
   "outputs": [
    {
     "name": "stderr",
     "output_type": "stream",
     "text": [
      "E:\\Anaconda3\\lib\\site-packages\\ipykernel_launcher.py:2: VisibleDeprecationWarning: Creating an ndarray from ragged nested sequences (which is a list-or-tuple of lists-or-tuples-or ndarrays with different lengths or shapes) is deprecated. If you meant to do this, you must specify 'dtype=object' when creating the ndarray\n",
      "  \n"
     ]
    }
   ],
   "source": [
    "try:\n",
    "    x_test  = np.array( tokenizer.texts_to_sequences(test_data['review'].tolist()) )\n",
    "    # x_test = tokenizer\n",
    "    x_test = pad_sequences(x_test, padding='post', maxlen=1210)\n",
    "except AttributeError:\n",
    "    pass"
   ]
  },
  {
   "cell_type": "code",
   "execution_count": 57,
   "metadata": {},
   "outputs": [
    {
     "name": "stdout",
     "output_type": "stream",
     "text": [
      "Generate predictions for all samples\n",
      "[[0.22759941 0.8786769 ]\n",
      " [0.24949574 0.85925496]\n",
      " [0.23145252 0.89555764]\n",
      " [0.27112263 0.8393645 ]\n",
      " [0.20381185 0.90556747]\n",
      " [0.12338603 0.9586569 ]\n",
      " [0.10745737 0.96741605]\n",
      " [0.16380638 0.9327865 ]\n",
      " [0.08737123 0.9769989 ]\n",
      " [0.3157528  0.8247061 ]\n",
      " [0.1433439  0.9460439 ]\n",
      " [0.3509705  0.76081777]\n",
      " [0.18972942 0.9108385 ]\n",
      " [0.16883355 0.9283342 ]\n",
      " [0.09474102 0.97373855]\n",
      " [0.16503832 0.933789  ]\n",
      " [0.36662707 0.75699306]\n",
      " [0.70172083 0.33029297]\n",
      " [0.20734197 0.8959026 ]\n",
      " [0.29846346 0.8284676 ]\n",
      " [0.5856236  0.49314055]\n",
      " [0.53080624 0.53481805]\n",
      " [0.11115173 0.9653139 ]\n",
      " [0.18291089 0.91609496]\n",
      " [0.13290688 0.95321643]\n",
      " [0.28178596 0.8277161 ]\n",
      " [0.36398095 0.7385547 ]\n",
      " [0.26240742 0.8459233 ]\n",
      " [0.10498941 0.9688842 ]\n",
      " [0.4078704  0.67883784]\n",
      " [0.12065545 0.9602222 ]\n",
      " [0.40211374 0.73014736]\n",
      " [0.27221096 0.8384993 ]\n",
      " [0.13992742 0.94805455]\n",
      " [0.3149313  0.7928438 ]\n",
      " [0.53451324 0.5612087 ]\n",
      " [0.11777925 0.9618659 ]\n",
      " [0.11096966 0.9653939 ]\n",
      " [0.12210077 0.9596694 ]\n",
      " [0.27565482 0.8481078 ]\n",
      " [0.28268677 0.82750493]\n",
      " [0.44640926 0.6990033 ]\n",
      " [0.26536593 0.866493  ]\n",
      " [0.12196612 0.959341  ]\n",
      " [0.23067734 0.88506454]\n",
      " [0.23103687 0.87648535]\n",
      " [0.33850724 0.7714076 ]\n",
      " [0.5159902  0.5498451 ]\n",
      " [0.24889532 0.8827162 ]\n",
      " [0.16560742 0.9302304 ]\n",
      " [0.3581881  0.7663317 ]\n",
      " [0.40341315 0.7295433 ]\n",
      " [0.12023482 0.9603717 ]\n",
      " [0.28289372 0.8503183 ]\n",
      " [0.49347517 0.60357225]\n",
      " [0.11143979 0.9653342 ]\n",
      " [0.10610563 0.96802175]\n",
      " [0.21012676 0.89847535]\n",
      " [0.6097839  0.45040366]\n",
      " [0.41313067 0.69292545]\n",
      " [0.19212943 0.9198526 ]\n",
      " [0.4103097  0.69016385]\n",
      " [0.21772555 0.88714015]\n",
      " [0.27320004 0.8352802 ]\n",
      " [0.20883235 0.91000104]\n",
      " [0.19664106 0.90646183]\n",
      " [0.6112987  0.41307637]\n",
      " [0.17773792 0.92077535]\n",
      " [0.26427346 0.8433546 ]\n",
      " [0.1940127  0.90807855]\n",
      " [0.23577583 0.874347  ]\n",
      " [0.18383506 0.91920984]\n",
      " [0.21709639 0.8879669 ]\n",
      " [0.6619768  0.36638266]\n",
      " [0.3429817  0.77520156]\n",
      " [0.6530962  0.38931316]\n",
      " [0.1499717  0.9414743 ]\n",
      " [0.11768633 0.9617475 ]\n",
      " [0.43363133 0.69455194]\n",
      " [0.14188397 0.94698566]\n",
      " [0.15943736 0.9373095 ]\n",
      " [0.1056031  0.96849674]\n",
      " [0.57907355 0.47696948]\n",
      " [0.24501443 0.8683796 ]\n",
      " [0.42974278 0.69338393]\n",
      " [0.16211092 0.93266654]\n",
      " [0.12473783 0.9575012 ]\n",
      " [0.22800782 0.8850677 ]\n",
      " [0.35050765 0.750698  ]\n",
      " [0.16268551 0.9320832 ]\n",
      " [0.4860835  0.58825636]\n",
      " [0.15710574 0.936     ]\n",
      " [0.09738261 0.97246265]\n",
      " [0.39588976 0.7058197 ]\n",
      " [0.44226328 0.6527387 ]\n",
      " [0.5001242  0.5900354 ]\n",
      " [0.40926737 0.69006217]\n",
      " [0.33004296 0.7974037 ]\n",
      " [0.17770895 0.92759347]\n",
      " [0.16402164 0.9413398 ]\n",
      " [0.13126165 0.95409393]\n",
      " [0.20070598 0.908175  ]\n",
      " [0.09644097 0.97281766]\n",
      " [0.3335809  0.7698754 ]\n",
      " [0.13938394 0.94852906]\n",
      " [0.23280263 0.87344766]\n",
      " [0.6010015  0.473519  ]\n",
      " [0.08007276 0.9806037 ]\n",
      " [0.16249382 0.9397122 ]\n",
      " [0.21778348 0.88708556]\n",
      " [0.14541852 0.94464904]\n",
      " [0.2778591  0.83122724]\n",
      " [0.13790104 0.94946367]\n",
      " [0.67419446 0.34355628]\n",
      " [0.35563463 0.759496  ]\n",
      " [0.09505352 0.97375345]\n",
      " [0.28575498 0.8538989 ]\n",
      " [0.09919056 0.97160804]\n",
      " [0.41119248 0.67422813]\n",
      " [0.25090307 0.8570368 ]\n",
      " [0.1628649  0.9382126 ]\n",
      " [0.15092051 0.9406427 ]\n",
      " [0.53876173 0.5513714 ]\n",
      " [0.20660695 0.9131857 ]\n",
      " [0.12273246 0.9584385 ]\n",
      " [0.20948634 0.9108764 ]\n",
      " [0.39053607 0.7106358 ]\n",
      " [0.14347234 0.9461076 ]\n",
      " [0.1394796  0.9484701 ]]\n"
     ]
    }
   ],
   "source": [
    "# Generate predictions (probabilities -- the output of the last layer)\n",
    "# on test  data using `predict`\n",
    "print(\"Generate predictions for all samples\")\n",
    "predictions = new_model.predict(x_test)\n",
    "print(predictions)\n",
    "predict_results = predictions.argmax(axis=1)"
   ]
  },
  {
   "cell_type": "code",
   "execution_count": 58,
   "metadata": {},
   "outputs": [],
   "source": [
    "test_data['pred_sentiment'] = predict_results\n",
    "test_data['pred_sentiment'] = np.where((test_data.pred_sentiment == 0),'0',test_data.pred_sentiment)\n",
    "test_data['pred_sentiment'] = np.where((test_data.pred_sentiment == '1'),'1',test_data.pred_sentiment)"
   ]
  },
  {
   "cell_type": "code",
   "execution_count": 59,
   "metadata": {},
   "outputs": [
    {
     "name": "stdout",
     "output_type": "stream",
     "text": [
      "              precision    recall  f1-score   support\n",
      "\n",
      "           0       0.44      0.36      0.40        11\n",
      "           1       0.94      0.96      0.95       118\n",
      "\n",
      "    accuracy                           0.91       129\n",
      "   macro avg       0.69      0.66      0.67       129\n",
      "weighted avg       0.90      0.91      0.90       129\n",
      "\n"
     ]
    }
   ],
   "source": [
    "labels = ['0', '1']\n",
    "    \n",
    "print(classification_report(test_data['sentiment'].values.astype(int).astype(str),test_data['pred_sentiment'].values,labels=labels))"
   ]
  },
  {
   "cell_type": "code",
   "execution_count": 60,
   "metadata": {},
   "outputs": [
    {
     "data": {
      "text/plain": [
       "'1'"
      ]
     },
     "execution_count": 60,
     "metadata": {},
     "output_type": "execute_result"
    }
   ],
   "source": [
    "# sentiment = ['negative','positive']\n",
    "sequence20 = tokenizer.texts_to_sequences(['beautiful beach'])\n",
    "\n",
    "\n",
    "test20 = pad_sequences(sequence20, padding=\"post\")\n",
    "labels[np.around(new_model.predict(test20)).argmax(axis=1)[0]]"
   ]
  },
  {
   "cell_type": "code",
   "execution_count": 61,
   "metadata": {},
   "outputs": [
    {
     "data": {
      "text/plain": [
       "'0'"
      ]
     },
     "execution_count": 61,
     "metadata": {},
     "output_type": "execute_result"
    }
   ],
   "source": [
    "sequence30 = tokenizer.texts_to_sequences(['rubbish everywhere'])\n",
    "\n",
    "\n",
    "test30 = pad_sequences(sequence30, padding=\"post\")\n",
    "labels[np.around(new_model.predict(test30)).argmax(axis=1)[0]]"
   ]
  },
  {
   "cell_type": "code",
   "execution_count": 62,
   "metadata": {},
   "outputs": [
    {
     "name": "stdout",
     "output_type": "stream",
     "text": [
      "Predicted  0    1\n",
      "Actual           \n",
      "0          4    7\n",
      "1          5  113\n"
     ]
    }
   ],
   "source": [
    "# df = pd.DataFrame(data, columns=['y_Actual','y_Predicted'])\n",
    "\n",
    "confusion_matrix = pd.crosstab(test_data['sentiment'], test_data['pred_sentiment'], rownames=['Actual'], colnames=['Predicted'])\n",
    "print (confusion_matrix)"
   ]
  },
  {
   "cell_type": "code",
   "execution_count": 63,
   "metadata": {},
   "outputs": [
    {
     "name": "stdout",
     "output_type": "stream",
     "text": [
      "ROC AUC Score\n",
      "0.6606317411402158\n"
     ]
    }
   ],
   "source": [
    "roc_auc = roc_auc_score(test_data['sentiment'], test_data['pred_sentiment'])\n",
    "\n",
    "print(\"ROC AUC Score\")\n",
    "print(roc_auc)"
   ]
  },
  {
   "cell_type": "code",
   "execution_count": null,
   "metadata": {},
   "outputs": [],
   "source": []
  }
 ],
 "metadata": {
  "kernelspec": {
   "display_name": "Python 3",
   "language": "python",
   "name": "python3"
  },
  "language_info": {
   "codemirror_mode": {
    "name": "ipython",
    "version": 3
   },
   "file_extension": ".py",
   "mimetype": "text/x-python",
   "name": "python",
   "nbconvert_exporter": "python",
   "pygments_lexer": "ipython3",
   "version": "3.7.4"
  }
 },
 "nbformat": 4,
 "nbformat_minor": 2
}
