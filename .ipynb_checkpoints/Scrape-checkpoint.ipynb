{
 "cells": [
  {
   "cell_type": "code",
   "execution_count": 1,
   "metadata": {
    "scrolled": true
   },
   "outputs": [],
   "source": [
    "import requests\n",
    "import pandas as pd\n",
    "import numpy as np\n",
    "import time\n",
    "import random \n",
    "from collections import OrderedDict\n",
    "from requests import get\n",
    "from bs4 import BeautifulSoup\n",
    "from time import sleep\n",
    "from random import randint\n",
    "\n",
    "main_url = 'https://www.tripadvisor.com/Attraction_Review-g2538506-d12396108-Reviews-or'"
   ]
  },
  {
   "cell_type": "code",
   "execution_count": 2,
   "metadata": {},
   "outputs": [],
   "source": [
    "headers_list = [\n",
    "    # Firefox 77 Mac\n",
    "     {\n",
    "        \"User-Agent\": \"Mozilla/5.0 (Macintosh; Intel Mac OS X 10.15; rv:77.0) Gecko/20100101 Firefox/77.0\",\n",
    "        \"Accept\": \"text/html,application/xhtml+xml,application/xml;q=0.9,image/webp,*/*;q=0.8\",\n",
    "        \"Accept-Language\": \"en-US,en;q=0.5\",\n",
    "        \"Referer\": \"https://www.google.com/\",\n",
    "        \"DNT\": \"1\",\n",
    "        \"Connection\": \"keep-alive\",\n",
    "        \"Upgrade-Insecure-Requests\": \"1\"\n",
    "    },\n",
    "    # Firefox 77 Windows\n",
    "    {\n",
    "        \"User-Agent\": \"Mozilla/5.0 (Windows NT 10.0; Win64; x64; rv:77.0) Gecko/20100101 Firefox/77.0\",\n",
    "        \"Accept\": \"text/html,application/xhtml+xml,application/xml;q=0.9,image/webp,*/*;q=0.8\",\n",
    "        \"Accept-Language\": \"en-US,en;q=0.5\",\n",
    "        \"Accept-Encoding\": \"gzip, deflate, br\",\n",
    "        \"Referer\": \"https://www.google.com/\",\n",
    "        \"DNT\": \"1\",\n",
    "        \"Connection\": \"keep-alive\",\n",
    "        \"Upgrade-Insecure-Requests\": \"1\"\n",
    "    },\n",
    "    # Chrome 83 Mac\n",
    "    {\n",
    "        \"Connection\": \"keep-alive\",\n",
    "        \"DNT\": \"1\",\n",
    "        \"Upgrade-Insecure-Requests\": \"1\",\n",
    "        \"User-Agent\": \"Mozilla/5.0 (Macintosh; Intel Mac OS X 10_15_5) AppleWebKit/537.36 (KHTML, like Gecko) Chrome/83.0.4103.97 Safari/537.36\",\n",
    "        \"Accept\": \"text/html,application/xhtml+xml,application/xml;q=0.9,image/webp,image/apng,*/*;q=0.8,application/signed-exchange;v=b3;q=0.9\",\n",
    "        \"Sec-Fetch-Site\": \"none\",\n",
    "        \"Sec-Fetch-Mode\": \"navigate\",\n",
    "        \"Sec-Fetch-Dest\": \"document\",\n",
    "        \"Referer\": \"https://www.google.com/\",\n",
    "        \"Accept-Encoding\": \"gzip, deflate, br\",\n",
    "        \"Accept-Language\": \"en-GB,en-US;q=0.9,en;q=0.8\"\n",
    "    },\n",
    "    # Chrome 83 Windows \n",
    "    {\n",
    "        \"Connection\": \"keep-alive\",\n",
    "        \"Upgrade-Insecure-Requests\": \"1\",\n",
    "        \"User-Agent\": \"Mozilla/5.0 (Windows NT 10.0; Win64; x64) AppleWebKit/537.36 (KHTML, like Gecko) Chrome/83.0.4103.97 Safari/537.36\",\n",
    "        \"Accept\": \"text/html,application/xhtml+xml,application/xml;q=0.9,image/webp,image/apng,*/*;q=0.8,application/signed-exchange;v=b3;q=0.9\",\n",
    "        \"Sec-Fetch-Site\": \"same-origin\",\n",
    "        \"Sec-Fetch-Mode\": \"navigate\",\n",
    "        \"Sec-Fetch-User\": \"?1\",\n",
    "        \"Sec-Fetch-Dest\": \"document\",\n",
    "        \"Referer\": \"https://www.google.com/\",\n",
    "        \"Accept-Encoding\": \"gzip, deflate, br\",\n",
    "        \"Accept-Language\": \"en-US,en;q=0.9\"\n",
    "    }\n",
    "]\n",
    "\n",
    "ordered_headers_list = []\n",
    "for headers in headers_list:\n",
    "    h = OrderedDict()\n",
    "    for header,value in headers.items():\n",
    "        h[header]=value\n",
    "    ordered_headers_list.append(h)"
   ]
  },
  {
   "cell_type": "code",
   "execution_count": 3,
   "metadata": {
    "scrolled": false
   },
   "outputs": [
    {
     "name": "stdout",
     "output_type": "stream",
     "text": [
      "Scraping : https://www.tripadvisor.com/Attraction_Review-g311298-d1997872-Reviews-or0-Canggu_Beach-Canggu_North_Kuta_Bali.html\n",
      "Scraping : https://www.tripadvisor.com/Attraction_Review-g311298-d1997872-Reviews-or10-Canggu_Beach-Canggu_North_Kuta_Bali.html\n",
      "Scraping : https://www.tripadvisor.com/Attraction_Review-g311298-d1997872-Reviews-or20-Canggu_Beach-Canggu_North_Kuta_Bali.html\n",
      "Scraping : https://www.tripadvisor.com/Attraction_Review-g311298-d1997872-Reviews-or30-Canggu_Beach-Canggu_North_Kuta_Bali.html\n",
      "Scraping : https://www.tripadvisor.com/Attraction_Review-g311298-d1997872-Reviews-or40-Canggu_Beach-Canggu_North_Kuta_Bali.html\n",
      "Scraping : https://www.tripadvisor.com/Attraction_Review-g311298-d1997872-Reviews-or50-Canggu_Beach-Canggu_North_Kuta_Bali.html\n",
      "Scraping : https://www.tripadvisor.com/Attraction_Review-g311298-d1997872-Reviews-or60-Canggu_Beach-Canggu_North_Kuta_Bali.html\n",
      "Scraping : https://www.tripadvisor.com/Attraction_Review-g311298-d1997872-Reviews-or70-Canggu_Beach-Canggu_North_Kuta_Bali.html\n",
      "Scraping : https://www.tripadvisor.com/Attraction_Review-g311298-d1997872-Reviews-or80-Canggu_Beach-Canggu_North_Kuta_Bali.html\n",
      "Scraping : https://www.tripadvisor.com/Attraction_Review-g311298-d1997872-Reviews-or90-Canggu_Beach-Canggu_North_Kuta_Bali.html\n",
      "Scraping : https://www.tripadvisor.com/Attraction_Review-g311298-d1997872-Reviews-or100-Canggu_Beach-Canggu_North_Kuta_Bali.html\n",
      "Scraping : https://www.tripadvisor.com/Attraction_Review-g311298-d1997872-Reviews-or110-Canggu_Beach-Canggu_North_Kuta_Bali.html\n",
      "Scraping : https://www.tripadvisor.com/Attraction_Review-g311298-d1997872-Reviews-or120-Canggu_Beach-Canggu_North_Kuta_Bali.html\n",
      "Scraping : https://www.tripadvisor.com/Attraction_Review-g311298-d1997872-Reviews-or130-Canggu_Beach-Canggu_North_Kuta_Bali.html\n",
      "Scraping : https://www.tripadvisor.com/Attraction_Review-g311298-d1997872-Reviews-or140-Canggu_Beach-Canggu_North_Kuta_Bali.html\n",
      "Scraping : https://www.tripadvisor.com/Attraction_Review-g311298-d1997872-Reviews-or150-Canggu_Beach-Canggu_North_Kuta_Bali.html\n",
      "Scraping : https://www.tripadvisor.com/Attraction_Review-g311298-d1997872-Reviews-or160-Canggu_Beach-Canggu_North_Kuta_Bali.html\n",
      "Scraping : https://www.tripadvisor.com/Attraction_Review-g311298-d1997872-Reviews-or170-Canggu_Beach-Canggu_North_Kuta_Bali.html\n",
      "Scraping : https://www.tripadvisor.com/Attraction_Review-g311298-d1997872-Reviews-or180-Canggu_Beach-Canggu_North_Kuta_Bali.html\n",
      "Scraping : https://www.tripadvisor.com/Attraction_Review-g311298-d1997872-Reviews-or190-Canggu_Beach-Canggu_North_Kuta_Bali.html\n",
      "Scraping : https://www.tripadvisor.com/Attraction_Review-g311298-d1997872-Reviews-or200-Canggu_Beach-Canggu_North_Kuta_Bali.html\n",
      "Scraping : https://www.tripadvisor.com/Attraction_Review-g311298-d1997872-Reviews-or210-Canggu_Beach-Canggu_North_Kuta_Bali.html\n",
      "Scraping : https://www.tripadvisor.com/Attraction_Review-g311298-d1997872-Reviews-or220-Canggu_Beach-Canggu_North_Kuta_Bali.html\n",
      "Scraping : https://www.tripadvisor.com/Attraction_Review-g311298-d1997872-Reviews-or230-Canggu_Beach-Canggu_North_Kuta_Bali.html\n",
      "Scraping : https://www.tripadvisor.com/Attraction_Review-g311298-d1997872-Reviews-or240-Canggu_Beach-Canggu_North_Kuta_Bali.html\n",
      "Scraping : https://www.tripadvisor.com/Attraction_Review-g311298-d1997872-Reviews-or250-Canggu_Beach-Canggu_North_Kuta_Bali.html\n",
      "Scraping : https://www.tripadvisor.com/Attraction_Review-g311298-d1997872-Reviews-or260-Canggu_Beach-Canggu_North_Kuta_Bali.html\n",
      "Scraping : https://www.tripadvisor.com/Attraction_Review-g311298-d1997872-Reviews-or270-Canggu_Beach-Canggu_North_Kuta_Bali.html\n",
      "Scraping : https://www.tripadvisor.com/Attraction_Review-g311298-d1997872-Reviews-or280-Canggu_Beach-Canggu_North_Kuta_Bali.html\n",
      "Scraping : https://www.tripadvisor.com/Attraction_Review-g311298-d1997872-Reviews-or290-Canggu_Beach-Canggu_North_Kuta_Bali.html\n",
      "Scraping : https://www.tripadvisor.com/Attraction_Review-g311298-d1997872-Reviews-or300-Canggu_Beach-Canggu_North_Kuta_Bali.html\n",
      "Scraping : https://www.tripadvisor.com/Attraction_Review-g311298-d1997872-Reviews-or310-Canggu_Beach-Canggu_North_Kuta_Bali.html\n",
      "Scraping : https://www.tripadvisor.com/Attraction_Review-g311298-d1997872-Reviews-or320-Canggu_Beach-Canggu_North_Kuta_Bali.html\n",
      "Scraping : https://www.tripadvisor.com/Attraction_Review-g311298-d1997872-Reviews-or330-Canggu_Beach-Canggu_North_Kuta_Bali.html\n",
      "Scraping : https://www.tripadvisor.com/Attraction_Review-g311298-d1997872-Reviews-or340-Canggu_Beach-Canggu_North_Kuta_Bali.html\n",
      "Scraping : https://www.tripadvisor.com/Attraction_Review-g311298-d1997872-Reviews-or350-Canggu_Beach-Canggu_North_Kuta_Bali.html\n",
      "Scraping : https://www.tripadvisor.com/Attraction_Review-g311298-d1997872-Reviews-or360-Canggu_Beach-Canggu_North_Kuta_Bali.html\n",
      "Scraping : https://www.tripadvisor.com/Attraction_Review-g311298-d1997872-Reviews-or370-Canggu_Beach-Canggu_North_Kuta_Bali.html\n",
      "Scraping : https://www.tripadvisor.com/Attraction_Review-g311298-d1997872-Reviews-or380-Canggu_Beach-Canggu_North_Kuta_Bali.html\n",
      "Scraping : https://www.tripadvisor.com/Attraction_Review-g311298-d1997872-Reviews-or390-Canggu_Beach-Canggu_North_Kuta_Bali.html\n",
      "Scraping : https://www.tripadvisor.com/Attraction_Review-g311298-d1997872-Reviews-or400-Canggu_Beach-Canggu_North_Kuta_Bali.html\n",
      "Scraping : https://www.tripadvisor.com/Attraction_Review-g311298-d1997872-Reviews-or410-Canggu_Beach-Canggu_North_Kuta_Bali.html\n",
      "Scraping : https://www.tripadvisor.com/Attraction_Review-g311298-d1997872-Reviews-or420-Canggu_Beach-Canggu_North_Kuta_Bali.html\n",
      "Scraping : https://www.tripadvisor.com/Attraction_Review-g311298-d1997872-Reviews-or430-Canggu_Beach-Canggu_North_Kuta_Bali.html\n",
      "Scraping : https://www.tripadvisor.com/Attraction_Review-g311298-d1997872-Reviews-or440-Canggu_Beach-Canggu_North_Kuta_Bali.html\n",
      "Scraping : https://www.tripadvisor.com/Attraction_Review-g311298-d1997872-Reviews-or450-Canggu_Beach-Canggu_North_Kuta_Bali.html\n",
      "Scraping : https://www.tripadvisor.com/Attraction_Review-g311298-d1997872-Reviews-or460-Canggu_Beach-Canggu_North_Kuta_Bali.html\n",
      "Scraping : https://www.tripadvisor.com/Attraction_Review-g311298-d1997872-Reviews-or470-Canggu_Beach-Canggu_North_Kuta_Bali.html\n",
      "Scraping : https://www.tripadvisor.com/Attraction_Review-g311298-d1997872-Reviews-or480-Canggu_Beach-Canggu_North_Kuta_Bali.html\n",
      "Scraping : https://www.tripadvisor.com/Attraction_Review-g311298-d1997872-Reviews-or490-Canggu_Beach-Canggu_North_Kuta_Bali.html\n",
      "Scraping : https://www.tripadvisor.com/Attraction_Review-g311298-d1997872-Reviews-or500-Canggu_Beach-Canggu_North_Kuta_Bali.html\n",
      "Scraping : https://www.tripadvisor.com/Attraction_Review-g311298-d1997872-Reviews-or510-Canggu_Beach-Canggu_North_Kuta_Bali.html\n",
      "Scraping : https://www.tripadvisor.com/Attraction_Review-g311298-d1997872-Reviews-or520-Canggu_Beach-Canggu_North_Kuta_Bali.html\n",
      "Scraping : https://www.tripadvisor.com/Attraction_Review-g311298-d1997872-Reviews-or530-Canggu_Beach-Canggu_North_Kuta_Bali.html\n",
      "Scraping : https://www.tripadvisor.com/Attraction_Review-g311298-d1997872-Reviews-or540-Canggu_Beach-Canggu_North_Kuta_Bali.html\n",
      "Scraping : https://www.tripadvisor.com/Attraction_Review-g311298-d1997872-Reviews-or550-Canggu_Beach-Canggu_North_Kuta_Bali.html\n",
      "Scraping : https://www.tripadvisor.com/Attraction_Review-g311298-d1997872-Reviews-or560-Canggu_Beach-Canggu_North_Kuta_Bali.html\n",
      "Scraping : https://www.tripadvisor.com/Attraction_Review-g311298-d1997872-Reviews-or570-Canggu_Beach-Canggu_North_Kuta_Bali.html\n",
      "Scraping : https://www.tripadvisor.com/Attraction_Review-g311298-d1997872-Reviews-or580-Canggu_Beach-Canggu_North_Kuta_Bali.html\n",
      "Scraping : https://www.tripadvisor.com/Attraction_Review-g311298-d1997872-Reviews-or590-Canggu_Beach-Canggu_North_Kuta_Bali.html\n",
      "Scraping : https://www.tripadvisor.com/Attraction_Review-g311298-d1997872-Reviews-or600-Canggu_Beach-Canggu_North_Kuta_Bali.html\n",
      "Scraping : https://www.tripadvisor.com/Attraction_Review-g311298-d1997872-Reviews-or610-Canggu_Beach-Canggu_North_Kuta_Bali.html\n",
      "Scraping : https://www.tripadvisor.com/Attraction_Review-g311298-d1997872-Reviews-or620-Canggu_Beach-Canggu_North_Kuta_Bali.html\n",
      "Scraping : https://www.tripadvisor.com/Attraction_Review-g311298-d1997872-Reviews-or630-Canggu_Beach-Canggu_North_Kuta_Bali.html\n"
     ]
    },
    {
     "name": "stdout",
     "output_type": "stream",
     "text": [
      "Scraping : https://www.tripadvisor.com/Attraction_Review-g311298-d1997872-Reviews-or640-Canggu_Beach-Canggu_North_Kuta_Bali.html\n",
      "Scraping : https://www.tripadvisor.com/Attraction_Review-g311298-d1997872-Reviews-or650-Canggu_Beach-Canggu_North_Kuta_Bali.html\n",
      "Scraping : https://www.tripadvisor.com/Attraction_Review-g311298-d1997872-Reviews-or660-Canggu_Beach-Canggu_North_Kuta_Bali.html\n"
     ]
    }
   ],
   "source": [
    "country_class = \"DrjyGw-P _26S7gyB4 NGv7A1lw _2yS548m8 _2cnjB3re _1TAWSgm1 _1Z1zA2gh _2-K8UW3T _1dimhEoy\"\n",
    "records = []\n",
    "\n",
    "for offset in range(0, 800, 10): #0 = start page, 3640 = last page, 10 = kelipatan 10\n",
    "    url = main_url + str(offset) + '-Kelingking_Beach-Nusa_Penida_Bali.html'\n",
    "    headers = random.choice(headers_list)\n",
    "    \n",
    "    print(\"Scraping : \"+url) #cek udah sampe mana\n",
    "    while True:\n",
    "        try: \n",
    "            soup = BeautifulSoup(requests.get(url, headers=headers).text, \"html.parser\")\n",
    "            time.sleep(3)\n",
    "            break\n",
    "        except TimeoutError:\n",
    "            pass\n",
    "        \n",
    "    container = soup.find_all('div', {'class': '_1c8_1ITO'})\n",
    "    for r in container:\n",
    "        reviews = r.find_all('div', {'class': None})\n",
    "        for review in reviews:\n",
    "            try:\n",
    "                user = review.find('a', {'class': '_7c6GgQ6n _22upaSQN _37QDe3gr WullykOU _3WoyIIcL'}).text\n",
    "                country = review.find('div', {'class': country_class}).span.text\n",
    "                date = review.find('div', {'class': '_3JxPDYSx'}).text\n",
    "                date1 = date.split(\" \")\n",
    "                date_review = date1[0] + \" \" + date1[1]\n",
    "#                 print(date_review)\n",
    "                content = review.find('div', {'class': 'DrjyGw-P _26S7gyB4 _2nPM5Opx'}).text\n",
    "                records.append((user, country, date_review, content)) #content = isi review \n",
    "            except AttributeError:\n",
    "                pass"
   ]
  },
  {
   "cell_type": "code",
   "execution_count": 4,
   "metadata": {},
   "outputs": [
    {
     "name": "stdout",
     "output_type": "stream",
     "text": [
      "658\n"
     ]
    }
   ],
   "source": [
    "print(len(records)) #cek total data yang ke scrape"
   ]
  },
  {
   "cell_type": "code",
   "execution_count": 5,
   "metadata": {},
   "outputs": [],
   "source": [
    "df = pd.DataFrame(records, columns=['Name', 'Country', 'Date', 'Content'])\n",
    "df = df[~df['Date'].str.contains(\"2020|2021\",na = False)]\n",
    "\n",
    "df.to_csv('kelingking_data.csv', index=False, encoding='utf-8')"
   ]
  },
  {
   "cell_type": "code",
   "execution_count": null,
   "metadata": {},
   "outputs": [],
   "source": []
  }
 ],
 "metadata": {
  "kernelspec": {
   "display_name": "Python 3",
   "language": "python",
   "name": "python3"
  },
  "language_info": {
   "codemirror_mode": {
    "name": "ipython",
    "version": 3
   },
   "file_extension": ".py",
   "mimetype": "text/x-python",
   "name": "python",
   "nbconvert_exporter": "python",
   "pygments_lexer": "ipython3",
   "version": "3.7.4"
  }
 },
 "nbformat": 4,
 "nbformat_minor": 2
}
