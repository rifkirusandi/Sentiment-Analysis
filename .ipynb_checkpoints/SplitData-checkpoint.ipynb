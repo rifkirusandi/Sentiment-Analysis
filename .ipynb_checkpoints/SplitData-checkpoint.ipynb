{
 "cells": [
  {
   "cell_type": "code",
   "execution_count": 1,
   "metadata": {},
   "outputs": [],
   "source": [
    "import pandas as pd\n",
    "from sklearn.model_selection import train_test_split"
   ]
  },
  {
   "cell_type": "code",
   "execution_count": 2,
   "metadata": {},
   "outputs": [],
   "source": [
    "# Load the dataset\n",
    "columns = 'review scores compound sentiment'.split() # Declare the columns names\n",
    "\n",
    "df = pd.read_csv('nusadua_preprocessed.csv')\n",
    "# df.head()\n",
    "\n",
    "nusadua_train, nusadua_test = train_test_split(df, test_size=0.2, random_state=0)\n",
    "\n",
    "# print(f\"No. of training examples: {doublesix_train.shape[0]}\")\n",
    "# print(f\"No. of testing examples: {doublesix_test.shape[0]}\")"
   ]
  },
  {
   "cell_type": "code",
   "execution_count": 4,
   "metadata": {},
   "outputs": [],
   "source": [
    "nusadua_train.to_csv('nusadua_train.csv', index=False, encoding='utf-8')\n",
    "nusadua_test.to_csv('nusadua_test.csv', index=False, encoding='utf-8')"
   ]
  },
  {
   "cell_type": "code",
   "execution_count": null,
   "metadata": {},
   "outputs": [],
   "source": []
  }
 ],
 "metadata": {
  "kernelspec": {
   "display_name": "Python 3",
   "language": "python",
   "name": "python3"
  },
  "language_info": {
   "codemirror_mode": {
    "name": "ipython",
    "version": 3
   },
   "file_extension": ".py",
   "mimetype": "text/x-python",
   "name": "python",
   "nbconvert_exporter": "python",
   "pygments_lexer": "ipython3",
   "version": "3.7.4"
  }
 },
 "nbformat": 4,
 "nbformat_minor": 2
}
