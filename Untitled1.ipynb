{
 "cells": [
  {
   "cell_type": "code",
   "execution_count": 15,
   "metadata": {
    "scrolled": true
   },
   "outputs": [],
   "source": [
    "import requests\n",
    "import pandas as pd\n",
    "import numpy as np\n",
    "from requests import get\n",
    "from bs4 import BeautifulSoup\n",
    "from time import sleep\n",
    "from random import randint\n",
    "\n",
    "URL = 'https://www.tripadvisor.com/Attraction_Review-g469404-d3780963-Reviews-oa'"
   ]
  },
  {
   "cell_type": "code",
   "execution_count": 41,
   "metadata": {},
   "outputs": [
    {
     "name": "stdout",
     "output_type": "stream",
     "text": [
      "Stefan O\n",
      "Malmö, Sweden\n",
      "Mar 2020\n",
      "Double Six Beach is a great Beach for all surfers out there to enjoy those Big Waves each and Evert dag!\n",
      "\n",
      "widya artika\n",
      "Bali, Indonesia\n",
      "Oct 2019 • Friends\n",
      "We really took a great time here to enjoy the sunset. The service was good and comfortable, we didn't even realise the time here as we talked and enjoyed the view.\n",
      "\n"
     ]
    }
   ],
   "source": [
    "# pages = np.arange(1,50,10)\n",
    "\n",
    "for page in range(0,40,10):\n",
    "    if page == 0:\n",
    "        req = requests.get('https://www.tripadvisor.com/Attraction_Review-g469404-d3780963-Reviews-Double_Six_Beach-Seminyak_Kuta_District_Bali.html')\n",
    "    else:\n",
    "        req = requests.get(URL+'-or'+str(page)+'-Double_Six_Beach-Seminyak_Kuta_District_Bali.html')\n",
    "    \n",
    "    soup = BeautifulSoup(req.text, 'html.parser')\n",
    "    \n",
    "    print(page)\n",
    "\n",
    "    sleep(randint(2,5))\n",
    "\n",
    "    reviews = soup.find_all('div', class_='_3M6fCPD1')\n",
    "\n",
    "    records = []\n",
    "    for review in reviews:\n",
    "        user = review.find('a', class_='_7c6GgQ6n _37QDe3gr WullykOU _3WoyIIcL').text\n",
    "        country = review.find('div', class_='DrjyGw-P _26S7gyB4 NGv7A1lw _2yS548m8 _2cnjB3re _1TAWSgm1 _1Z1zA2gh _2-K8UW3T _1dimhEoy').span.text\n",
    "        date = review.find('div', class_='_3JxPDYSx').text\n",
    "        content = review.find('div', class_='DrjyGw-P _26S7gyB4 _2nPM5Opx').text\n",
    "        records.append((user, country, date, content))\n",
    "\n",
    "        df = pd.DataFrame(result, columns=['Name', 'Country', 'Date', 'Content'])\n",
    "        df.to_csv('doublesix_.csv', index=False, encoding='utf-8')\n",
    "        print(user)\n",
    "        print(country)\n",
    "        print(date)\n",
    "        print(content)\n",
    "        print()\n",
    "\n",
    "\n"
   ]
  },
  {
   "cell_type": "code",
   "execution_count": null,
   "metadata": {},
   "outputs": [],
   "source": [
    "for r in reviews:\n",
    "        r1 = r.find('div', class_=None)\n",
    "        \n",
    "        print(r1)\n",
    "        print()"
   ]
  },
  {
   "cell_type": "code",
   "execution_count": null,
   "metadata": {},
   "outputs": [],
   "source": []
  }
 ],
 "metadata": {
  "kernelspec": {
   "display_name": "Python 3",
   "language": "python",
   "name": "python3"
  },
  "language_info": {
   "codemirror_mode": {
    "name": "ipython",
    "version": 3
   },
   "file_extension": ".py",
   "mimetype": "text/x-python",
   "name": "python",
   "nbconvert_exporter": "python",
   "pygments_lexer": "ipython3",
   "version": "3.7.4"
  }
 },
 "nbformat": 4,
 "nbformat_minor": 2
}
