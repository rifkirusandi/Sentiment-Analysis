{
 "cells": [
  {
   "cell_type": "code",
   "execution_count": 1,
   "metadata": {},
   "outputs": [],
   "source": [
    "import pandas as pd\n",
    "import numpy as np\n",
    "import tensorflow as tf\n",
    "import pickle\n",
    "\n",
    "from tensorflow.keras.preprocessing.text import Tokenizer\n",
    "from tensorflow.keras.preprocessing.sequence import pad_sequences\n",
    "\n",
    "from sklearn.metrics import classification_report\n",
    "from sklearn.metrics import f1_score\n",
    "from sklearn.metrics import roc_auc_score\n",
    "from sklearn.metrics import roc_curve\n",
    "from sklearn.feature_extraction.text import TfidfVectorizer"
   ]
  },
  {
   "cell_type": "code",
   "execution_count": 38,
   "metadata": {},
   "outputs": [
    {
     "name": "stdout",
     "output_type": "stream",
     "text": [
      "Model: \"sequential\"\n",
      "_________________________________________________________________\n",
      "Layer (type)                 Output Shape              Param #   \n",
      "=================================================================\n",
      "embedding (Embedding)        (None, 1500, 64)          1280064   \n",
      "_________________________________________________________________\n",
      "conv1d (Conv1D)              (None, 1499, 64)          8256      \n",
      "_________________________________________________________________\n",
      "global_max_pooling1d (Global (None, 64)                0         \n",
      "_________________________________________________________________\n",
      "flatten (Flatten)            (None, 64)                0         \n",
      "_________________________________________________________________\n",
      "dense (Dense)                (None, 64)                4160      \n",
      "_________________________________________________________________\n",
      "dense_1 (Dense)              (None, 2)                 130       \n",
      "=================================================================\n",
      "Total params: 1,292,610\n",
      "Trainable params: 1,292,610\n",
      "Non-trainable params: 0\n",
      "_________________________________________________________________\n"
     ]
    }
   ],
   "source": [
    "new_model = tf.keras.models.load_model('FIX\\\\Model27030\\\\tf_cnnmodel.hdf5')\n",
    "new_model.summary()"
   ]
  },
  {
   "cell_type": "code",
   "execution_count": 39,
   "metadata": {},
   "outputs": [],
   "source": [
    "with open('tokenizer.pickle', 'rb') as handle:\n",
    "    tokenizer = pickle.load(handle)"
   ]
  },
  {
   "cell_type": "code",
   "execution_count": 60,
   "metadata": {},
   "outputs": [
    {
     "data": {
      "text/html": [
       "<div>\n",
       "<style scoped>\n",
       "    .dataframe tbody tr th:only-of-type {\n",
       "        vertical-align: middle;\n",
       "    }\n",
       "\n",
       "    .dataframe tbody tr th {\n",
       "        vertical-align: top;\n",
       "    }\n",
       "\n",
       "    .dataframe thead th {\n",
       "        text-align: right;\n",
       "    }\n",
       "</style>\n",
       "<table border=\"1\" class=\"dataframe\">\n",
       "  <thead>\n",
       "    <tr style=\"text-align: right;\">\n",
       "      <th></th>\n",
       "      <th>review</th>\n",
       "      <th>sentiment</th>\n",
       "    </tr>\n",
       "  </thead>\n",
       "  <tbody>\n",
       "    <tr>\n",
       "      <td>142</td>\n",
       "      <td>hot moment also future cozy location beautiful...</td>\n",
       "      <td>1</td>\n",
       "    </tr>\n",
       "    <tr>\n",
       "      <td>113</td>\n",
       "      <td>cant understand people come dirty black full g...</td>\n",
       "      <td>0</td>\n",
       "    </tr>\n",
       "    <tr>\n",
       "      <td>46</td>\n",
       "      <td>actually special look different atmosphere alr...</td>\n",
       "      <td>0</td>\n",
       "    </tr>\n",
       "    <tr>\n",
       "      <td>39</td>\n",
       "      <td>stay 3 day come every morning walk along watch...</td>\n",
       "      <td>1</td>\n",
       "    </tr>\n",
       "    <tr>\n",
       "      <td>136</td>\n",
       "      <td>visit club twice cost 100 2 adult 2 kid enter ...</td>\n",
       "      <td>1</td>\n",
       "    </tr>\n",
       "  </tbody>\n",
       "</table>\n",
       "</div>"
      ],
      "text/plain": [
       "                                                review  sentiment\n",
       "142  hot moment also future cozy location beautiful...          1\n",
       "113  cant understand people come dirty black full g...          0\n",
       "46   actually special look different atmosphere alr...          0\n",
       "39   stay 3 day come every morning walk along watch...          1\n",
       "136  visit club twice cost 100 2 adult 2 kid enter ...          1"
      ]
     },
     "execution_count": 60,
     "metadata": {},
     "output_type": "execute_result"
    }
   ],
   "source": [
    "test_data = pd.read_csv('Data Test (5 Pantai)\\\\canggu_test_7030.csv', converters={'reviews' : str})\n",
    "# test_data.drop([\"Date\", \"Content\"], axis=1, inplace=True)\n",
    "# test_data.fillna(0)\n",
    "# test_data = test_data.fillna(\"\")\n",
    "test_data.sample(5)"
   ]
  },
  {
   "cell_type": "code",
   "execution_count": 61,
   "metadata": {},
   "outputs": [
    {
     "name": "stderr",
     "output_type": "stream",
     "text": [
      "E:\\Anaconda3\\lib\\site-packages\\ipykernel_launcher.py:2: VisibleDeprecationWarning: Creating an ndarray from ragged nested sequences (which is a list-or-tuple of lists-or-tuples-or ndarrays with different lengths or shapes) is deprecated. If you meant to do this, you must specify 'dtype=object' when creating the ndarray\n",
      "  \n"
     ]
    }
   ],
   "source": [
    "try:\n",
    "    x_test  = np.array( tokenizer.texts_to_sequences(test_data['review'].tolist()) )\n",
    "    # x_test = tokenizer\n",
    "    x_test = pad_sequences(x_test, padding='post', maxlen=1210)\n",
    "except AttributeError:\n",
    "    pass"
   ]
  },
  {
   "cell_type": "code",
   "execution_count": 62,
   "metadata": {},
   "outputs": [
    {
     "name": "stdout",
     "output_type": "stream",
     "text": [
      "Generate predictions for all samples\n",
      "[[0.5377716  0.44193098]\n",
      " [0.44451487 0.53500307]\n",
      " [0.37969562 0.5958217 ]\n",
      " [0.43646234 0.54608244]\n",
      " [0.53052074 0.45245662]\n",
      " [0.34646863 0.6351296 ]\n",
      " [0.3375368  0.6401173 ]\n",
      " [0.5153261  0.44217598]\n",
      " [0.45021278 0.5164214 ]\n",
      " [0.5665745  0.40490717]\n",
      " [0.45129374 0.52345043]\n",
      " [0.43896377 0.5266216 ]\n",
      " [0.35946047 0.6197362 ]\n",
      " [0.45957696 0.52591705]\n",
      " [0.4048074  0.5769484 ]\n",
      " [0.33263966 0.6416529 ]\n",
      " [0.50042653 0.47554967]\n",
      " [0.46708548 0.5044353 ]\n",
      " [0.32153952 0.6702823 ]\n",
      " [0.3835258  0.59685796]\n",
      " [0.52957785 0.413063  ]\n",
      " [0.3969641  0.58281475]\n",
      " [0.4492235  0.52399546]\n",
      " [0.29345787 0.6977734 ]\n",
      " [0.49408528 0.44826263]\n",
      " [0.46357453 0.50890905]\n",
      " [0.4766907  0.4984283 ]\n",
      " [0.4373725  0.54476523]\n",
      " [0.40760013 0.5553617 ]\n",
      " [0.5034305  0.47910783]\n",
      " [0.40402865 0.5522486 ]\n",
      " [0.40267998 0.56290096]\n",
      " [0.53423494 0.43630928]\n",
      " [0.48185712 0.48358035]\n",
      " [0.5036226  0.47817102]\n",
      " [0.41696483 0.5544355 ]\n",
      " [0.30615947 0.68858415]\n",
      " [0.29037493 0.681111  ]\n",
      " [0.44105077 0.538994  ]\n",
      " [0.46367106 0.50751   ]\n",
      " [0.5367823  0.4161779 ]\n",
      " [0.41474652 0.5543572 ]\n",
      " [0.5233121  0.443437  ]\n",
      " [0.27011275 0.7212141 ]\n",
      " [0.20542517 0.7833631 ]\n",
      " [0.48524618 0.48260018]\n",
      " [0.4662742  0.50633216]\n",
      " [0.43012357 0.56319386]\n",
      " [0.44584382 0.52398163]\n",
      " [0.4728572  0.47863513]\n",
      " [0.38649473 0.5945206 ]\n",
      " [0.4825803  0.48214713]\n",
      " [0.45897973 0.48454496]\n",
      " [0.33365116 0.64277524]\n",
      " [0.36588913 0.6128781 ]\n",
      " [0.4006291  0.5768567 ]\n",
      " [0.29722977 0.6677059 ]\n",
      " [0.29192016 0.6896066 ]\n",
      " [0.51006675 0.46812063]\n",
      " [0.42861503 0.5345068 ]\n",
      " [0.4132499  0.57242215]\n",
      " [0.35822585 0.6063154 ]\n",
      " [0.33828792 0.64203703]\n",
      " [0.54557914 0.41411185]\n",
      " [0.43066    0.54868853]\n",
      " [0.45485324 0.5053023 ]\n",
      " [0.49119228 0.48461714]\n",
      " [0.5059591  0.46163994]\n",
      " [0.4389184  0.5506376 ]\n",
      " [0.482716   0.49468386]\n",
      " [0.42872518 0.54513896]\n",
      " [0.46142468 0.5078481 ]\n",
      " [0.3568269  0.62860155]\n",
      " [0.6166159  0.33644068]\n",
      " [0.4863505  0.49384162]\n",
      " [0.45448712 0.52648973]\n",
      " [0.45601532 0.52185506]\n",
      " [0.2916815  0.6931249 ]\n",
      " [0.34679663 0.6091555 ]\n",
      " [0.416353   0.5667028 ]\n",
      " [0.58082837 0.3915137 ]\n",
      " [0.46281758 0.5229968 ]\n",
      " [0.49011213 0.47408593]\n",
      " [0.24966174 0.7338399 ]\n",
      " [0.34068936 0.63614297]\n",
      " [0.35864347 0.62506366]\n",
      " [0.42717937 0.53617907]\n",
      " [0.37844244 0.6048552 ]\n",
      " [0.48695529 0.50003105]\n",
      " [0.2575763  0.7360502 ]\n",
      " [0.35228944 0.619642  ]\n",
      " [0.370274   0.61146617]\n",
      " [0.32422295 0.6481211 ]\n",
      " [0.29088038 0.6870904 ]\n",
      " [0.4788904  0.49986467]\n",
      " [0.3704932  0.6095916 ]\n",
      " [0.36380073 0.60935825]\n",
      " [0.46840543 0.48289543]\n",
      " [0.45789665 0.47765025]\n",
      " [0.4489133  0.5062264 ]\n",
      " [0.46142682 0.51979625]\n",
      " [0.42854187 0.5452912 ]\n",
      " [0.30808675 0.6861447 ]\n",
      " [0.47299552 0.5092845 ]\n",
      " [0.5289292  0.4517091 ]\n",
      " [0.42310366 0.5457603 ]\n",
      " [0.63602495 0.32270846]\n",
      " [0.48208362 0.49590954]\n",
      " [0.37930465 0.57392293]\n",
      " [0.43782333 0.5393661 ]\n",
      " [0.49387938 0.47185078]\n",
      " [0.414464   0.5576981 ]\n",
      " [0.42616153 0.5536751 ]\n",
      " [0.53152835 0.42706206]\n",
      " [0.3250141  0.65631413]\n",
      " [0.4909747  0.4869071 ]\n",
      " [0.5107235  0.45866176]\n",
      " [0.33717534 0.6365968 ]\n",
      " [0.4703175  0.50291973]\n",
      " [0.46921435 0.50506586]\n",
      " [0.47047538 0.46946564]\n",
      " [0.3474313  0.6451541 ]\n",
      " [0.49726015 0.47675404]\n",
      " [0.4602518  0.5050651 ]\n",
      " [0.34082156 0.6259117 ]\n",
      " [0.27363592 0.7050283 ]\n",
      " [0.391331   0.5908152 ]\n",
      " [0.4196083  0.56035656]\n",
      " [0.49062535 0.48900712]\n",
      " [0.4692884  0.5043498 ]\n",
      " [0.4287386  0.5526347 ]\n",
      " [0.40039295 0.58152735]\n",
      " [0.4597197  0.50951916]\n",
      " [0.2988038  0.6735266 ]\n",
      " [0.52040535 0.44080192]\n",
      " [0.44586232 0.5348816 ]\n",
      " [0.4964368  0.45764396]\n",
      " [0.38023388 0.5928222 ]\n",
      " [0.55575216 0.4095109 ]\n",
      " [0.4169705  0.53009397]\n",
      " [0.27996266 0.70766246]\n",
      " [0.30578458 0.6769619 ]\n",
      " [0.5862951  0.35908002]\n",
      " [0.4695456  0.5063197 ]\n",
      " [0.5056393  0.44829613]\n",
      " [0.36223114 0.6115285 ]\n",
      " [0.36941034 0.60427916]\n",
      " [0.38624635 0.57086474]\n",
      " [0.33359057 0.6593826 ]\n",
      " [0.51487803 0.44220868]\n",
      " [0.37801087 0.602808  ]\n",
      " [0.48934197 0.49367476]\n",
      " [0.42359048 0.56037986]\n",
      " [0.46070617 0.5063049 ]\n",
      " [0.27219623 0.71245897]\n",
      " [0.28164333 0.70113266]\n",
      " [0.25211406 0.7298302 ]\n",
      " [0.49089676 0.48899737]\n",
      " [0.31611276 0.6709071 ]\n",
      " [0.33993655 0.6187521 ]\n",
      " [0.40361774 0.5758961 ]\n",
      " [0.46583053 0.52585304]\n",
      " [0.2673952  0.70693344]\n",
      " [0.4614343  0.52600133]\n",
      " [0.362667   0.6302965 ]\n",
      " [0.60706156 0.34977227]\n",
      " [0.4587894  0.503828  ]\n",
      " [0.23308855 0.74757683]\n",
      " [0.50770277 0.4706082 ]\n",
      " [0.34776694 0.6367654 ]\n",
      " [0.4544955  0.5316856 ]\n",
      " [0.4101983  0.54839987]\n",
      " [0.40451935 0.5665564 ]\n",
      " [0.37232184 0.60323495]\n",
      " [0.46647808 0.5114787 ]\n",
      " [0.38215253 0.5897052 ]\n",
      " [0.47664672 0.48707062]\n",
      " [0.5239078  0.445256  ]\n",
      " [0.38711274 0.5818322 ]\n",
      " [0.44175377 0.54158473]\n",
      " [0.4616556  0.50794625]\n",
      " [0.5616245  0.38349763]\n",
      " [0.46633852 0.52023005]\n",
      " [0.31513572 0.6725968 ]\n",
      " [0.47813252 0.47720245]\n",
      " [0.4584155  0.46368065]\n",
      " [0.40827718 0.5370924 ]\n",
      " [0.41294187 0.56926817]\n",
      " [0.3648482  0.62397015]\n",
      " [0.28136146 0.7060572 ]\n",
      " [0.5005126  0.4638067 ]\n",
      " [0.5100454  0.4176309 ]\n",
      " [0.29356268 0.69102407]\n",
      " [0.2558589  0.7320194 ]]\n"
     ]
    }
   ],
   "source": [
    "# Generate predictions (probabilities -- the output of the last layer)\n",
    "# on test  data using `predict`\n",
    "print(\"Generate predictions for all samples\")\n",
    "predictions = new_model.predict(x_test)\n",
    "print(predictions)\n",
    "predict_results = predictions.argmax(axis=1)"
   ]
  },
  {
   "cell_type": "code",
   "execution_count": 63,
   "metadata": {},
   "outputs": [],
   "source": [
    "test_data['pred_sentiment'] = predict_results\n",
    "test_data['pred_sentiment'] = np.where((test_data.pred_sentiment == 0),'0',test_data.pred_sentiment)\n",
    "test_data['pred_sentiment'] = np.where((test_data.pred_sentiment == '1'),'1',test_data.pred_sentiment)"
   ]
  },
  {
   "cell_type": "code",
   "execution_count": 64,
   "metadata": {},
   "outputs": [
    {
     "name": "stdout",
     "output_type": "stream",
     "text": [
      "              precision    recall  f1-score   support\n",
      "\n",
      "           0       0.09      0.21      0.13        19\n",
      "           1       0.90      0.77      0.83       175\n",
      "\n",
      "    accuracy                           0.72       194\n",
      "   macro avg       0.50      0.49      0.48       194\n",
      "weighted avg       0.82      0.72      0.76       194\n",
      "\n"
     ]
    }
   ],
   "source": [
    "labels = ['0', '1']\n",
    "    \n",
    "print(classification_report(test_data['sentiment'].values.astype(str),test_data['pred_sentiment'].values,labels=labels))"
   ]
  },
  {
   "cell_type": "code",
   "execution_count": 65,
   "metadata": {},
   "outputs": [
    {
     "name": "stdout",
     "output_type": "stream",
     "text": [
      "Predicted   0    1\n",
      "Actual            \n",
      "0           4   15\n",
      "1          40  135\n"
     ]
    }
   ],
   "source": [
    "confusion_matrix = pd.crosstab(test_data['sentiment'], test_data['pred_sentiment'], rownames=['Actual'], colnames=['Predicted'])\n",
    "print (confusion_matrix)"
   ]
  },
  {
   "cell_type": "code",
   "execution_count": 66,
   "metadata": {},
   "outputs": [
    {
     "name": "stdout",
     "output_type": "stream",
     "text": [
      "ROC AUC Score\n",
      "0.4909774436090225\n"
     ]
    }
   ],
   "source": [
    "roc_auc = roc_auc_score(test_data['sentiment'], test_data['pred_sentiment'])\n",
    "\n",
    "print(\"ROC AUC Score\")\n",
    "print(roc_auc)"
   ]
  },
  {
   "cell_type": "code",
   "execution_count": 183,
   "metadata": {},
   "outputs": [],
   "source": [
    "from collections import Counter\n",
    "import matplotlib.pyplot as plt"
   ]
  },
  {
   "cell_type": "code",
   "execution_count": 184,
   "metadata": {},
   "outputs": [],
   "source": [
    "# labels = np.array(test_data['pred_sentiment'])"
   ]
  },
  {
   "cell_type": "code",
   "execution_count": 185,
   "metadata": {},
   "outputs": [],
   "source": [
    "# # df = test_data['pred_sentiment'].value_counts()\n",
    "# y = []\n",
    "\n",
    "# for i in range(len(labels)):\n",
    "#     if labels[i] == '0':\n",
    "#         y.append('Negative')\n",
    "#     if labels[i] == '1':\n",
    "#         y.append('Positive')\n",
    "# test_data['pred_sentiment'] = np.array(y)\n",
    "# jumlah = test_data['pred_sentiment'].value_counts()"
   ]
  },
  {
   "cell_type": "code",
   "execution_count": 186,
   "metadata": {},
   "outputs": [],
   "source": [
    "df = test_data['pred_sentiment'].apply(pd.to_numeric)"
   ]
  },
  {
   "cell_type": "code",
   "execution_count": 187,
   "metadata": {},
   "outputs": [],
   "source": [
    "df = df.value_counts()"
   ]
  },
  {
   "cell_type": "code",
   "execution_count": 188,
   "metadata": {},
   "outputs": [],
   "source": [
    "from itertools import cycle, islice\n",
    "my_colors = list(islice(cycle(['b', 'r']), None, len(df)))"
   ]
  },
  {
   "cell_type": "code",
   "execution_count": 189,
   "metadata": {},
   "outputs": [
    {
     "data": {
      "text/plain": [
       "<matplotlib.axes._subplots.AxesSubplot at 0x21a78e04908>"
      ]
     },
     "execution_count": 189,
     "metadata": {},
     "output_type": "execute_result"
    },
    {
     "data": {
      "image/png": "[encoded data removed]",
      "text/plain": [
       "<Figure size 432x288 with 1 Axes>"
      ]
     },
     "metadata": {
      "needs_background": "light"
     },
     "output_type": "display_data"
    }
   ],
   "source": [
    "plt.ylabel('Jumlah Prediksi')\n",
    "plt.xlabel('Sentimen')\n",
    "\n",
    "df.plot.bar(rot=0, color=my_colors)"
   ]
  },
  {
   "cell_type": "code",
   "execution_count": null,
   "metadata": {},
   "outputs": [],
   "source": []
  }
 ],
 "metadata": {
  "kernelspec": {
   "display_name": "Python 3",
   "language": "python",
   "name": "python3"
  },
  "language_info": {
   "codemirror_mode": {
    "name": "ipython",
    "version": 3
   },
   "file_extension": ".py",
   "mimetype": "text/x-python",
   "name": "python",
   "nbconvert_exporter": "python",
   "pygments_lexer": "ipython3",
   "version": "3.7.4"
  }
 },
 "nbformat": 4,
 "nbformat_minor": 2
}
