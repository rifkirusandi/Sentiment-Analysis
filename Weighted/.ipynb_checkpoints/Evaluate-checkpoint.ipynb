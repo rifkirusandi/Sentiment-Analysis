{
 "cells": [
  {
   "cell_type": "code",
   "execution_count": 1,
   "metadata": {},
   "outputs": [],
   "source": [
    "import pandas as pd\n",
    "import numpy as np\n",
    "import tensorflow as tf\n",
    "import pickle\n",
    "\n",
    "from tensorflow.keras.preprocessing.text import Tokenizer\n",
    "from tensorflow.keras.preprocessing.sequence import pad_sequences\n",
    "\n",
    "from sklearn.metrics import classification_report\n",
    "from sklearn.metrics import f1_score\n",
    "from sklearn.metrics import roc_auc_score\n",
    "from sklearn.metrics import roc_curve\n",
    "from sklearn.feature_extraction.text import TfidfVectorizer"
   ]
  },
  {
   "cell_type": "code",
   "execution_count": 38,
   "metadata": {},
   "outputs": [
    {
     "name": "stdout",
     "output_type": "stream",
     "text": [
      "Model: \"sequential\"\n",
      "_________________________________________________________________\n",
      "Layer (type)                 Output Shape              Param #   \n",
      "=================================================================\n",
      "embedding (Embedding)        (None, 1500, 64)          1280064   \n",
      "_________________________________________________________________\n",
      "conv1d (Conv1D)              (None, 1499, 64)          8256      \n",
      "_________________________________________________________________\n",
      "global_max_pooling1d (Global (None, 64)                0         \n",
      "_________________________________________________________________\n",
      "flatten (Flatten)            (None, 64)                0         \n",
      "_________________________________________________________________\n",
      "dense (Dense)                (None, 64)                4160      \n",
      "_________________________________________________________________\n",
      "dense_1 (Dense)              (None, 2)                 130       \n",
      "=================================================================\n",
      "Total params: 1,292,610\n",
      "Trainable params: 1,292,610\n",
      "Non-trainable params: 0\n",
      "_________________________________________________________________\n"
     ]
    }
   ],
   "source": [
    "new_model = tf.keras.models.load_model('FIX\\\\Model27030\\\\tf_cnnmodel.hdf5')\n",
    "new_model.summary()"
   ]
  },
  {
   "cell_type": "code",
   "execution_count": 39,
   "metadata": {},
   "outputs": [],
   "source": [
    "with open('tokenizer.pickle', 'rb') as handle:\n",
    "    tokenizer = pickle.load(handle)"
   ]
  },
  {
   "cell_type": "code",
   "execution_count": 55,
   "metadata": {},
   "outputs": [
    {
     "data": {
      "text/html": [
       "<div>\n",
       "<style scoped>\n",
       "    .dataframe tbody tr th:only-of-type {\n",
       "        vertical-align: middle;\n",
       "    }\n",
       "\n",
       "    .dataframe tbody tr th {\n",
       "        vertical-align: top;\n",
       "    }\n",
       "\n",
       "    .dataframe thead th {\n",
       "        text-align: right;\n",
       "    }\n",
       "</style>\n",
       "<table border=\"1\" class=\"dataframe\">\n",
       "  <thead>\n",
       "    <tr style=\"text-align: right;\">\n",
       "      <th></th>\n",
       "      <th>review</th>\n",
       "      <th>sentiment</th>\n",
       "    </tr>\n",
       "  </thead>\n",
       "  <tbody>\n",
       "    <tr>\n",
       "      <td>35</td>\n",
       "      <td>kelingking indonesia language little last fing...</td>\n",
       "      <td>1</td>\n",
       "    </tr>\n",
       "    <tr>\n",
       "      <td>127</td>\n",
       "      <td>kelingking famous look like shape rex youve go...</td>\n",
       "      <td>1</td>\n",
       "    </tr>\n",
       "    <tr>\n",
       "      <td>183</td>\n",
       "      <td>way quite dangerous real path way oddly built ...</td>\n",
       "      <td>0</td>\n",
       "    </tr>\n",
       "    <tr>\n",
       "      <td>3</td>\n",
       "      <td>road terrible bumpiness narrowness road bit sc...</td>\n",
       "      <td>0</td>\n",
       "    </tr>\n",
       "    <tr>\n",
       "      <td>38</td>\n",
       "      <td>go kelingking day rain rain ground wet decide ...</td>\n",
       "      <td>1</td>\n",
       "    </tr>\n",
       "  </tbody>\n",
       "</table>\n",
       "</div>"
      ],
      "text/plain": [
       "                                                review  sentiment\n",
       "35   kelingking indonesia language little last fing...          1\n",
       "127  kelingking famous look like shape rex youve go...          1\n",
       "183  way quite dangerous real path way oddly built ...          0\n",
       "3    road terrible bumpiness narrowness road bit sc...          0\n",
       "38   go kelingking day rain rain ground wet decide ...          1"
      ]
     },
     "execution_count": 55,
     "metadata": {},
     "output_type": "execute_result"
    }
   ],
   "source": [
    "test_data = pd.read_csv('Data Test (5 Pantai)\\\\canggu_test_7030.csv', converters={'reviews' : str})\n",
    "# test_data.drop([\"Date\", \"Content\"], axis=1, inplace=True)\n",
    "# test_data.fillna(0)\n",
    "# test_data = test_data.fillna(\"\")\n",
    "test_data.sample(5)"
   ]
  },
  {
   "cell_type": "code",
   "execution_count": 56,
   "metadata": {},
   "outputs": [
    {
     "name": "stderr",
     "output_type": "stream",
     "text": [
      "E:\\Anaconda3\\lib\\site-packages\\ipykernel_launcher.py:2: VisibleDeprecationWarning: Creating an ndarray from ragged nested sequences (which is a list-or-tuple of lists-or-tuples-or ndarrays with different lengths or shapes) is deprecated. If you meant to do this, you must specify 'dtype=object' when creating the ndarray\n",
      "  \n"
     ]
    }
   ],
   "source": [
    "try:\n",
    "    x_test  = np.array( tokenizer.texts_to_sequences(test_data['review'].tolist()) )\n",
    "    # x_test = tokenizer\n",
    "    x_test = pad_sequences(x_test, padding='post', maxlen=1210)\n",
    "except AttributeError:\n",
    "    pass"
   ]
  },
  {
   "cell_type": "code",
   "execution_count": 57,
   "metadata": {},
   "outputs": [
    {
     "name": "stdout",
     "output_type": "stream",
     "text": [
      "Generate predictions for all samples\n",
      "[[0.36364684 0.60490113]\n",
      " [0.5223896  0.42493516]\n",
      " [0.3211114  0.65513825]\n",
      " [0.44535542 0.5410365 ]\n",
      " [0.4709925  0.51665103]\n",
      " [0.5195638  0.45588714]\n",
      " [0.33160514 0.6530518 ]\n",
      " [0.4984226  0.47025707]\n",
      " [0.38898408 0.5813277 ]\n",
      " [0.39051372 0.5886418 ]\n",
      " [0.40170094 0.5863966 ]\n",
      " [0.3708706  0.5949835 ]\n",
      " [0.5695048  0.38815442]\n",
      " [0.28768378 0.7030578 ]\n",
      " [0.47327915 0.46738845]\n",
      " [0.45635998 0.5254731 ]\n",
      " [0.26869705 0.7075503 ]\n",
      " [0.50876623 0.4672945 ]\n",
      " [0.29579276 0.7009653 ]\n",
      " [0.42487016 0.5590303 ]\n",
      " [0.33647966 0.6396003 ]\n",
      " [0.40348    0.5499679 ]\n",
      " [0.4387107  0.55057293]\n",
      " [0.4651256  0.4959789 ]\n",
      " [0.47797838 0.4976606 ]\n",
      " [0.33932757 0.63206244]\n",
      " [0.3445083  0.63350683]\n",
      " [0.38128582 0.60002816]\n",
      " [0.39233992 0.5848683 ]\n",
      " [0.48656482 0.4997497 ]\n",
      " [0.49409133 0.45310274]\n",
      " [0.36756253 0.5944436 ]\n",
      " [0.47213328 0.45592543]\n",
      " [0.38967928 0.55175596]\n",
      " [0.455109   0.5205025 ]\n",
      " [0.3196152  0.6660876 ]\n",
      " [0.29804626 0.66372544]\n",
      " [0.3772912  0.5749543 ]\n",
      " [0.3446617  0.6332971 ]\n",
      " [0.35015583 0.62520593]\n",
      " [0.37373224 0.59335905]\n",
      " [0.5186602  0.43805888]\n",
      " [0.46826196 0.51462317]\n",
      " [0.43150532 0.5194844 ]\n",
      " [0.42861792 0.55326957]\n",
      " [0.38498798 0.5393149 ]\n",
      " [0.43271643 0.52434593]\n",
      " [0.5248626  0.43589103]\n",
      " [0.5413341  0.42205197]\n",
      " [0.26013553 0.7157677 ]\n",
      " [0.4378575  0.54305005]\n",
      " [0.48041165 0.49159852]\n",
      " [0.36761153 0.5791702 ]\n",
      " [0.39191532 0.5778125 ]\n",
      " [0.42714065 0.5590992 ]\n",
      " [0.45851845 0.51982784]\n",
      " [0.42031837 0.5175017 ]\n",
      " [0.5106301  0.4141945 ]\n",
      " [0.54697067 0.41561082]\n",
      " [0.3030728  0.6671454 ]\n",
      " [0.5274307  0.43930188]\n",
      " [0.38570374 0.59344804]\n",
      " [0.45900804 0.5164964 ]\n",
      " [0.3348286  0.6574561 ]\n",
      " [0.32078367 0.64673275]\n",
      " [0.38721418 0.5774917 ]\n",
      " [0.41655385 0.561257  ]\n",
      " [0.45615327 0.5187023 ]\n",
      " [0.27112034 0.7215251 ]\n",
      " [0.3195414  0.6775054 ]\n",
      " [0.57563627 0.39220455]\n",
      " [0.5212938  0.45957142]\n",
      " [0.45407444 0.5063482 ]\n",
      " [0.42192972 0.5621365 ]\n",
      " [0.39678055 0.5728646 ]\n",
      " [0.37718943 0.5957439 ]\n",
      " [0.29904068 0.6832168 ]\n",
      " [0.43323782 0.55058694]\n",
      " [0.4161084  0.54167736]\n",
      " [0.51917547 0.4630768 ]\n",
      " [0.4969488  0.47800654]\n",
      " [0.4819905  0.5044327 ]\n",
      " [0.59365624 0.36074984]\n",
      " [0.3233997  0.65593094]\n",
      " [0.4693116  0.5103099 ]\n",
      " [0.36106408 0.6102918 ]\n",
      " [0.41025347 0.5628858 ]\n",
      " [0.28775042 0.6832857 ]\n",
      " [0.31784725 0.65994155]\n",
      " [0.59681356 0.35306674]\n",
      " [0.3771467  0.598786  ]\n",
      " [0.5514961  0.3953959 ]\n",
      " [0.43519926 0.5339439 ]\n",
      " [0.3527547  0.6193816 ]\n",
      " [0.34433153 0.6226457 ]\n",
      " [0.6102872  0.35306966]\n",
      " [0.4397241  0.5409958 ]\n",
      " [0.5190953  0.44110042]\n",
      " [0.4367991  0.5523954 ]\n",
      " [0.4689588  0.51170456]\n",
      " [0.47700098 0.5041173 ]\n",
      " [0.4495284  0.5298512 ]\n",
      " [0.50337386 0.46353862]\n",
      " [0.35652357 0.6208694 ]\n",
      " [0.41879362 0.5659995 ]\n",
      " [0.31650126 0.65109277]\n",
      " [0.36299738 0.604623  ]\n",
      " [0.43575653 0.5158115 ]\n",
      " [0.32203865 0.6587018 ]\n",
      " [0.38520414 0.5947782 ]\n",
      " [0.45090932 0.5153806 ]\n",
      " [0.4159496  0.5704509 ]\n",
      " [0.34651792 0.6349548 ]\n",
      " [0.34518838 0.6300813 ]\n",
      " [0.40220857 0.58756846]\n",
      " [0.32984215 0.65168583]\n",
      " [0.48419052 0.47592032]\n",
      " [0.26939946 0.71108747]\n",
      " [0.2668648  0.71478516]\n",
      " [0.46951324 0.5079942 ]\n",
      " [0.33398035 0.61376977]\n",
      " [0.37005448 0.61012036]\n",
      " [0.322879   0.66457677]\n",
      " [0.4341813  0.541024  ]\n",
      " [0.42433482 0.55583894]\n",
      " [0.43459076 0.55093634]\n",
      " [0.36443242 0.5735891 ]\n",
      " [0.33156458 0.6387746 ]\n",
      " [0.35224068 0.62915313]\n",
      " [0.43767852 0.5513463 ]\n",
      " [0.32710832 0.6670206 ]\n",
      " [0.32071906 0.67507493]\n",
      " [0.4010504  0.5667351 ]\n",
      " [0.34831175 0.6219452 ]\n",
      " [0.3660375  0.6263539 ]\n",
      " [0.41805542 0.5770769 ]\n",
      " [0.38933143 0.58316326]\n",
      " [0.2844957  0.71087396]\n",
      " [0.39816058 0.56739813]\n",
      " [0.38761175 0.58963895]\n",
      " [0.336605   0.6419715 ]\n",
      " [0.41126907 0.5720765 ]\n",
      " [0.6116405  0.35071385]\n",
      " [0.3109508  0.64978707]\n",
      " [0.2911154  0.690017  ]\n",
      " [0.404708   0.5756184 ]\n",
      " [0.31185144 0.68701816]\n",
      " [0.43364748 0.5569181 ]\n",
      " [0.33266523 0.612198  ]\n",
      " [0.33220366 0.659151  ]\n",
      " [0.3204919  0.6418617 ]\n",
      " [0.3985033  0.58772016]\n",
      " [0.3596937  0.60904413]\n",
      " [0.54612637 0.42275682]\n",
      " [0.4758156  0.49766558]\n",
      " [0.3435955  0.6245319 ]\n",
      " [0.32314652 0.63224936]\n",
      " [0.47610235 0.47643685]\n",
      " [0.45704794 0.5222221 ]\n",
      " [0.4508164  0.5203127 ]\n",
      " [0.40596497 0.5689391 ]\n",
      " [0.39033222 0.57522964]\n",
      " [0.38064024 0.5662601 ]\n",
      " [0.36573803 0.6186244 ]\n",
      " [0.26944032 0.7108589 ]\n",
      " [0.45803505 0.52938086]\n",
      " [0.3199324  0.65907156]\n",
      " [0.32498598 0.65843785]\n",
      " [0.28219482 0.6980797 ]\n",
      " [0.34929293 0.6207662 ]\n",
      " [0.3908965  0.5830556 ]\n",
      " [0.4449094  0.5247191 ]\n",
      " [0.3421255  0.6540066 ]\n",
      " [0.2858005  0.6812187 ]\n",
      " [0.36097825 0.6137206 ]\n",
      " [0.496568   0.48052934]\n",
      " [0.277561   0.69197625]\n",
      " [0.4565848  0.52252334]\n",
      " [0.5286602  0.39701802]\n",
      " [0.42272264 0.5653126 ]\n",
      " [0.44542545 0.53182334]\n",
      " [0.37930107 0.5990835 ]\n",
      " [0.49977508 0.48049405]\n",
      " [0.4932628  0.48975906]\n",
      " [0.5663833  0.38409147]\n",
      " [0.32898736 0.63666475]\n",
      " [0.43930984 0.55368304]\n",
      " [0.4527996  0.5371001 ]\n",
      " [0.29580227 0.6746986 ]\n",
      " [0.36693072 0.60700035]\n",
      " [0.33919048 0.64778465]\n",
      " [0.3699906  0.6116007 ]\n",
      " [0.4538145  0.5039535 ]\n",
      " [0.43313724 0.556797  ]\n",
      " [0.42019683 0.5670563 ]\n",
      " [0.55567276 0.41094565]\n",
      " [0.42586344 0.5608018 ]\n",
      " [0.3121552  0.67812663]\n",
      " [0.2895342  0.67514884]\n",
      " [0.4310967  0.5457685 ]\n",
      " [0.39508682 0.5745175 ]\n",
      " [0.38035503 0.5755996 ]\n",
      " [0.30744278 0.6690842 ]\n",
      " [0.36191177 0.60062826]\n",
      " [0.35289425 0.61207026]\n",
      " [0.46267492 0.52014935]\n",
      " [0.51916474 0.46280384]\n",
      " [0.34422982 0.63906056]\n",
      " [0.33661383 0.64178824]\n",
      " [0.47824928 0.49747023]\n",
      " [0.45599315 0.52706784]\n",
      " [0.40645814 0.5871119 ]\n",
      " [0.36954597 0.58025825]\n",
      " [0.44311568 0.54001296]\n",
      " [0.4366104  0.5460643 ]\n",
      " [0.42690656 0.5358585 ]\n",
      " [0.3704725  0.5801748 ]\n",
      " [0.46910262 0.51742727]\n",
      " [0.3507892  0.6195309 ]\n",
      " [0.46120453 0.47295114]\n",
      " [0.3260219  0.65042675]\n",
      " [0.45511878 0.5266584 ]\n",
      " [0.47560945 0.49910507]\n",
      " [0.45726618 0.5206911 ]\n",
      " [0.41031498 0.56045324]\n",
      " [0.44894686 0.51135767]]\n"
     ]
    }
   ],
   "source": [
    "# Generate predictions (probabilities -- the output of the last layer)\n",
    "# on test  data using `predict`\n",
    "print(\"Generate predictions for all samples\")\n",
    "predictions = new_model.predict(x_test)\n",
    "print(predictions)\n",
    "predict_results = predictions.argmax(axis=1)"
   ]
  },
  {
   "cell_type": "code",
   "execution_count": 58,
   "metadata": {},
   "outputs": [],
   "source": [
    "test_data['pred_sentiment'] = predict_results\n",
    "test_data['pred_sentiment'] = np.where((test_data.pred_sentiment == 0),'0',test_data.pred_sentiment)\n",
    "test_data['pred_sentiment'] = np.where((test_data.pred_sentiment == '1'),'1',test_data.pred_sentiment)"
   ]
  },
  {
   "cell_type": "code",
   "execution_count": 59,
   "metadata": {},
   "outputs": [
    {
     "name": "stdout",
     "output_type": "stream",
     "text": [
      "              precision    recall  f1-score   support\n",
      "\n",
      "           0       0.12      0.13      0.12        31\n",
      "           1       0.86      0.85      0.85       195\n",
      "\n",
      "    accuracy                           0.75       226\n",
      "   macro avg       0.49      0.49      0.49       226\n",
      "weighted avg       0.76      0.75      0.75       226\n",
      "\n"
     ]
    }
   ],
   "source": [
    "labels = ['0', '1']\n",
    "    \n",
    "print(classification_report(test_data['sentiment'].values.astype(str),test_data['pred_sentiment'].values,labels=labels))"
   ]
  },
  {
   "cell_type": "code",
   "execution_count": 36,
   "metadata": {},
   "outputs": [
    {
     "name": "stdout",
     "output_type": "stream",
     "text": [
      "Predicted   0    1\n",
      "Actual            \n",
      "0           3   11\n",
      "1          32  116\n"
     ]
    }
   ],
   "source": [
    "confusion_matrix = pd.crosstab(test_data['sentiment'], test_data['pred_sentiment'], rownames=['Actual'], colnames=['Predicted'])\n",
    "print (confusion_matrix)"
   ]
  },
  {
   "cell_type": "code",
   "execution_count": 37,
   "metadata": {},
   "outputs": [
    {
     "name": "stdout",
     "output_type": "stream",
     "text": [
      "ROC AUC Score\n",
      "0.49903474903474904\n"
     ]
    }
   ],
   "source": [
    "roc_auc = roc_auc_score(test_data['sentiment'], test_data['pred_sentiment'])\n",
    "\n",
    "print(\"ROC AUC Score\")\n",
    "print(roc_auc)"
   ]
  },
  {
   "cell_type": "code",
   "execution_count": 183,
   "metadata": {},
   "outputs": [],
   "source": [
    "from collections import Counter\n",
    "import matplotlib.pyplot as plt"
   ]
  },
  {
   "cell_type": "code",
   "execution_count": 184,
   "metadata": {},
   "outputs": [],
   "source": [
    "# labels = np.array(test_data['pred_sentiment'])"
   ]
  },
  {
   "cell_type": "code",
   "execution_count": 185,
   "metadata": {},
   "outputs": [],
   "source": [
    "# # df = test_data['pred_sentiment'].value_counts()\n",
    "# y = []\n",
    "\n",
    "# for i in range(len(labels)):\n",
    "#     if labels[i] == '0':\n",
    "#         y.append('Negative')\n",
    "#     if labels[i] == '1':\n",
    "#         y.append('Positive')\n",
    "# test_data['pred_sentiment'] = np.array(y)\n",
    "# jumlah = test_data['pred_sentiment'].value_counts()"
   ]
  },
  {
   "cell_type": "code",
   "execution_count": 186,
   "metadata": {},
   "outputs": [],
   "source": [
    "df = test_data['pred_sentiment'].apply(pd.to_numeric)"
   ]
  },
  {
   "cell_type": "code",
   "execution_count": 187,
   "metadata": {},
   "outputs": [],
   "source": [
    "df = df.value_counts()"
   ]
  },
  {
   "cell_type": "code",
   "execution_count": 188,
   "metadata": {},
   "outputs": [],
   "source": [
    "from itertools import cycle, islice\n",
    "my_colors = list(islice(cycle(['b', 'r']), None, len(df)))"
   ]
  },
  {
   "cell_type": "code",
   "execution_count": 189,
   "metadata": {},
   "outputs": [
    {
     "data": {
      "text/plain": [
       "<matplotlib.axes._subplots.AxesSubplot at 0x21a78e04908>"
      ]
     },
     "execution_count": 189,
     "metadata": {},
     "output_type": "execute_result"
    },
    {
     "data": {
      "image/png": "[encoded data removed]",
      "text/plain": [
       "<Figure size 432x288 with 1 Axes>"
      ]
     },
     "metadata": {
      "needs_background": "light"
     },
     "output_type": "display_data"
    }
   ],
   "source": [
    "plt.ylabel('Jumlah Prediksi')\n",
    "plt.xlabel('Sentimen')\n",
    "\n",
    "df.plot.bar(rot=0, color=my_colors)"
   ]
  },
  {
   "cell_type": "code",
   "execution_count": null,
   "metadata": {},
   "outputs": [],
   "source": []
  }
 ],
 "metadata": {
  "kernelspec": {
   "display_name": "Python 3",
   "language": "python",
   "name": "python3"
  },
  "language_info": {
   "codemirror_mode": {
    "name": "ipython",
    "version": 3
   },
   "file_extension": ".py",
   "mimetype": "text/x-python",
   "name": "python",
   "nbconvert_exporter": "python",
   "pygments_lexer": "ipython3",
   "version": "3.7.4"
  }
 },
 "nbformat": 4,
 "nbformat_minor": 2
}
