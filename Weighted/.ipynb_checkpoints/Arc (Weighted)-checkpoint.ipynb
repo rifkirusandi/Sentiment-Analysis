{
 "cells": [
  {
   "cell_type": "code",
   "execution_count": 1,
   "metadata": {},
   "outputs": [],
   "source": [
    "import matplotlib.pyplot as plt\n",
    "import os\n",
    "import re\n",
    "import shutil\n",
    "import string\n",
    "import tensorflow as tf\n",
    "import warnings\n",
    "import imblearn\n",
    "\n",
    "from collections import Counter\n",
    "\n",
    "from imblearn.over_sampling import SMOTE, RandomOverSampler\n",
    "from imblearn.under_sampling import RandomUnderSampler\n",
    "from imblearn.pipeline import Pipeline\n",
    "\n",
    "from tensorflow.keras import regularizers\n",
    "from tensorflow.keras.callbacks import EarlyStopping\n",
    "\n",
    "from tensorflow.keras import layers\n",
    "from tensorflow.keras import losses\n",
    "\n",
    "from keras.utils.np_utils import to_categorical\n",
    "from keras.callbacks import ModelCheckpoint\n",
    "from keras.callbacks import ReduceLROnPlateau\n",
    "\n",
    "import pandas as pd\n",
    "import numpy as np\n",
    "\n",
    "from sklearn.feature_extraction.text import TfidfVectorizer\n",
    "\n",
    "from sklearn.preprocessing import LabelEncoder\n",
    "from sklearn.model_selection import train_test_split\n",
    "from sklearn.metrics import classification_report\n",
    "from sklearn.metrics import f1_score\n",
    "from sklearn.metrics import roc_auc_score\n",
    "from sklearn.metrics import roc_curve\n",
    "\n",
    "from tensorflow.keras import preprocessing\n",
    "from tensorflow.keras.preprocessing.text import Tokenizer\n",
    "from tensorflow.keras.preprocessing.sequence import pad_sequences\n",
    "\n",
    "import pydot"
   ]
  },
  {
   "cell_type": "code",
   "execution_count": 2,
   "metadata": {},
   "outputs": [
    {
     "name": "stdout",
     "output_type": "stream",
     "text": [
      "-------Train data--------\n",
      "1    7431\n",
      "0    1134\n",
      "Name: sentiment, dtype: int64\n",
      "8565\n",
      "-------Test data--------\n",
      "1    1842\n",
      "0     301\n",
      "Name: sentiment, dtype: int64\n",
      "2143\n",
      "-------------------------\n",
      "Train Max Sentence Length :1175\n",
      "Test Max Sentence Length :433\n"
     ]
    }
   ],
   "source": [
    "train_data= pd.read_csv('Data Train\\\\data_train_8020.csv')\n",
    "train_data.dropna(axis = 0, how ='any',inplace=True) \n",
    "\n",
    "\n",
    "train_data['Num_words_text'] = train_data['review'].apply(lambda x:len(str(x).split())) \n",
    "mask = train_data['Num_words_text'] >2\n",
    "train_data = train_data[mask]\n",
    "\n",
    "print('-------Train data--------')\n",
    "print(train_data['sentiment'].value_counts())\n",
    "print(len(train_data))\n",
    "max_train_sentence_length  = train_data['Num_words_text'].max()\n",
    "\n",
    "test_data= pd.read_csv('Data Test\\\\data_test_8020.csv')\n",
    "test_data.dropna(axis = 0, how ='any',inplace=True) \n",
    "test_data['Num_words_text'] = test_data['review'].apply(lambda x:len(str(x).split())) \n",
    "\n",
    "max_test_sentence_length  = test_data['Num_words_text'].max()\n",
    "\n",
    "mask = test_data['Num_words_text'] >2\n",
    "test_data = test_data[mask]\n",
    "\n",
    "print('-------Test data--------')\n",
    "print(test_data['sentiment'].value_counts())\n",
    "print(len(test_data))\n",
    "print('-------------------------')\n",
    "\n",
    "print('Train Max Sentence Length :'+str(max_train_sentence_length))\n",
    "print('Test Max Sentence Length :'+str(max_test_sentence_length))\n",
    "\n",
    "#all_sentences = train_data['text'].tolist() + test_data['text'].tolist()"
   ]
  },
  {
   "cell_type": "code",
   "execution_count": 3,
   "metadata": {},
   "outputs": [],
   "source": [
    "corpus = train_data['review'].values.astype('U')\n",
    "# test_data['review'].values.astype('U')"
   ]
  },
  {
   "cell_type": "code",
   "execution_count": 4,
   "metadata": {},
   "outputs": [
    {
     "name": "stdout",
     "output_type": "stream",
     "text": [
      "  (0, 3130)\t0.385099010613826\n",
      "  (0, 11905)\t0.31562236958895257\n",
      "  (0, 11653)\t0.3301784367032046\n",
      "  (0, 2881)\t0.46912777524920823\n",
      "  (0, 10254)\t0.4400195845244474\n",
      "  (0, 3928)\t0.21782448636015125\n",
      "  (0, 10113)\t0.25365869533384494\n",
      "  (0, 13235)\t0.34289229639008195\n",
      "  (1, 2046)\t0.25984490387122927\n",
      "  (1, 11985)\t0.3122997742552879\n",
      "  (1, 11657)\t0.353207178281733\n",
      "  (1, 11843)\t0.2581509397220775\n",
      "  (1, 4802)\t0.7620392922165313\n",
      "  (1, 3928)\t0.250695782934696\n",
      "  (2, 11266)\t0.33712994009249947\n",
      "  (2, 1258)\t0.28381843132304296\n",
      "  (2, 9836)\t0.20099281655506065\n",
      "  (2, 9992)\t0.1880821948555131\n",
      "  (2, 2509)\t0.2860340666116696\n",
      "  (2, 3309)\t0.28381843132304296\n",
      "  (2, 1086)\t0.19643896287211474\n",
      "  (2, 12796)\t0.39083098120516746\n",
      "  (2, 1473)\t0.2049397360931509\n",
      "  (2, 11231)\t0.38895704845583634\n",
      "  (2, 1668)\t0.18185726858610637\n",
      "  :\t:\n",
      "  (8562, 8036)\t0.2308150649862618\n",
      "  (8562, 7355)\t0.15018967939136713\n",
      "  (8562, 3928)\t0.19872917865936657\n",
      "  (8563, 5089)\t0.6105100556351752\n",
      "  (8563, 5556)\t0.36438797115416977\n",
      "  (8563, 7388)\t0.2508669725832493\n",
      "  (8563, 1897)\t0.24381339207751654\n",
      "  (8563, 6674)\t0.36317078645911943\n",
      "  (8563, 11728)\t0.26989741054952926\n",
      "  (8563, 13194)\t0.24486852973596857\n",
      "  (8563, 1258)\t0.32775210318672604\n",
      "  (8564, 5899)\t0.36281452707699235\n",
      "  (8564, 6256)\t0.3143347360161769\n",
      "  (8564, 4157)\t0.30511553795708457\n",
      "  (8564, 12820)\t0.39603279536837144\n",
      "  (8564, 7231)\t0.22870941097098493\n",
      "  (8564, 9014)\t0.31580943178358556\n",
      "  (8564, 10743)\t0.22107926702614375\n",
      "  (8564, 8434)\t0.25663574689626917\n",
      "  (8564, 7332)\t0.17345579114094806\n",
      "  (8564, 8310)\t0.19863275420460058\n",
      "  (8564, 10268)\t0.226568536506682\n",
      "  (8564, 11954)\t0.13932466037425473\n",
      "  (8564, 4506)\t0.28899049937631055\n",
      "  (8564, 11671)\t0.1704060780172888\n"
     ]
    }
   ],
   "source": [
    "vec = TfidfVectorizer(stop_words='english')\n",
    "resp = vec.fit_transform(corpus)\n",
    "print(resp)\n",
    "# print(train_data['review'])"
   ]
  },
  {
   "cell_type": "code",
   "execution_count": 5,
   "metadata": {},
   "outputs": [],
   "source": [
    "num_words = 20000\n",
    "train_max_len = 1500\n",
    "test_max_len = 450\n",
    "\n",
    "tokenizer = Tokenizer(num_words=num_words,oov_token=\"unk\")\n",
    "tokenizer.fit_on_texts(corpus.tolist())\n",
    "\n",
    "# integer encode the documents\n",
    "sequences = tokenizer.texts_to_sequences(corpus)\n",
    "# X_test  = tokenizer.texts_to_sequences(test_data['review'])\n",
    "\n",
    "# pad documents to a max length \n",
    "X = pad_sequences(sequences, maxlen=train_max_len)\n",
    "# X_test = pad_sequences(X_test, maxlen=test_max_len)\n",
    "\n",
    "# print(str(tokenizer.texts_to_sequences(['nice spot hang friend see also sunset amazing beside many option restaurant choose along'])))"
   ]
  },
  {
   "cell_type": "code",
   "execution_count": 6,
   "metadata": {},
   "outputs": [
    {
     "name": "stdout",
     "output_type": "stream",
     "text": [
      "(8565, 1500)\n"
     ]
    }
   ],
   "source": [
    "print(X.shape)\n",
    "# print(X_test.shape)"
   ]
  },
  {
   "cell_type": "code",
   "execution_count": 7,
   "metadata": {},
   "outputs": [],
   "source": [
    "# define pipeline\n",
    "# over = SMOTE()\n",
    "under = RandomUnderSampler()\n",
    "# steps = [('o', over)]\n",
    "# pipeline = Pipeline(steps=steps)\n",
    "\n",
    "\n",
    "# transform the dataset\n",
    "X, y = under.fit_resample(X, train_data['sentiment'])"
   ]
  },
  {
   "cell_type": "code",
   "execution_count": 8,
   "metadata": {},
   "outputs": [
    {
     "name": "stdout",
     "output_type": "stream",
     "text": [
      "Counter({0: 1134, 1: 1134})\n"
     ]
    }
   ],
   "source": [
    "counter = Counter(y)\n",
    "print(counter)"
   ]
  },
  {
   "cell_type": "code",
   "execution_count": 9,
   "metadata": {},
   "outputs": [],
   "source": [
    "# One-hot encoding of labels\n",
    "\n",
    "# y_test = tf.keras.utils.to_categorical(test_data['sentiment'])\n",
    "y = tf.keras.utils.to_categorical(y)"
   ]
  },
  {
   "cell_type": "code",
   "execution_count": 10,
   "metadata": {},
   "outputs": [
    {
     "data": {
      "text/plain": [
       "(2268, 1500)"
      ]
     },
     "execution_count": 10,
     "metadata": {},
     "output_type": "execute_result"
    }
   ],
   "source": [
    "X.shape"
   ]
  },
  {
   "cell_type": "code",
   "execution_count": 11,
   "metadata": {},
   "outputs": [
    {
     "data": {
      "text/plain": [
       "(2268, 2)"
      ]
     },
     "execution_count": 11,
     "metadata": {},
     "output_type": "execute_result"
    }
   ],
   "source": [
    "y.shape"
   ]
  },
  {
   "cell_type": "code",
   "execution_count": 12,
   "metadata": {},
   "outputs": [],
   "source": [
    "X_train, X_valid, y_train, y_valid = train_test_split(X,\\\n",
    "                                                      y,\\\n",
    "                                                      test_size=0.2,\\\n",
    "                                                      stratify = y,\\\n",
    "                                                      random_state=0)\n",
    "\n",
    "# print('Train data len:'+str(len(X_train)))\n",
    "# print('Class distribution'+str(Counter(y_train)))\n",
    "# print('Valid data len:'+str(len(X_valid)))\n",
    "# print('Class distribution'+ str(Counter(y_valid)))\n",
    "\n",
    "\n",
    "# x_train = np.array( tokenizer.texts_to_sequences(X_train) )\n",
    "# x_valid = np.array( tokenizer.texts_to_sequences(X_valid) )\n",
    "# x_test  = np.array( tokenizer.texts_to_sequences(X.tolist()) )\n",
    "\n",
    "# #Normal\n",
    "# # x_train = pad_sequences(x_train, padding='post', maxlen=1210)\n",
    "# # x_valid = pad_sequences(x_valid, padding='post', maxlen=1210)\n",
    "# # x_test = pad_sequences(x_test, padding='post', maxlen=390)\n",
    "\n",
    "# #Undersampling\n",
    "# x_train = pad_sequences(x_train, padding='post', maxlen=1210)\n",
    "# x_valid = pad_sequences(x_valid, padding='post', maxlen=1210)\n",
    "# x_test = pad_sequences(x_test, padding='post', maxlen=390)\n",
    "\n",
    "# print(x_train[0])\n",
    "\n",
    "# le = LabelEncoder()\n",
    "\n",
    "# train_labels = le.fit_transform(y_train)\n",
    "# train_labels = np.asarray( tf.keras.utils.to_categorical(train_labels))\n",
    "# #print(train_labels)\n",
    "# valid_labels = le.transform(y_valid)\n",
    "# valid_labels = np.asarray( tf.keras.utils.to_categorical(valid_labels))\n",
    "\n",
    "# test_labels = le.transform(test_data['sentiment'].tolist())\n",
    "# test_labels = np.asarray(tf.keras.utils.to_categorical(test_labels))\n",
    "# list(le.classes_)\n",
    "\n",
    "\n",
    "# train_ds = tf.data.Dataset.from_tensor_slices((x_train,train_labels))\n",
    "# valid_ds = tf.data.Dataset.from_tensor_slices((x_valid,valid_labels))\n",
    "# test_ds = tf.data.Dataset.from_tensor_slices((x_test,test_labels))"
   ]
  },
  {
   "cell_type": "code",
   "execution_count": 13,
   "metadata": {},
   "outputs": [
    {
     "name": "stdout",
     "output_type": "stream",
     "text": [
      "-----TRAIN SHAPE---\n",
      "x_train:  (1814, 1500)\n",
      "y_train:  (1814, 2)\n",
      "\n",
      "-----VALID SHAPE---\n",
      "x_valid:  (454, 1500)\n",
      "y_valid:  (454, 2)\n"
     ]
    }
   ],
   "source": [
    "print('-----TRAIN SHAPE---')\n",
    "print('x_train: ',X_train.shape)\n",
    "print('y_train: ',y_train.shape)\n",
    "print('')\n",
    "print('-----VALID SHAPE---')\n",
    "print('x_valid: ',X_valid.shape)\n",
    "print('y_valid: ',y_valid.shape)"
   ]
  },
  {
   "cell_type": "code",
   "execution_count": 14,
   "metadata": {},
   "outputs": [],
   "source": [
    "# print(y_train[:10])\n",
    "# train_labels = le.fit_transform(y_train)\n",
    "# print('Text to number')\n",
    "# print(train_labels[:10])\n",
    "# train_labels = np.asarray( tf.keras.utils.to_categorical(train_labels))\n",
    "# print('Number to category')\n",
    "# print(train_labels[:10])"
   ]
  },
  {
   "cell_type": "code",
   "execution_count": 15,
   "metadata": {},
   "outputs": [],
   "source": [
    "# count =0\n",
    "# print('======Train dataset ====')\n",
    "# for value,label in train_ds:\n",
    "#     count += 1\n",
    "#     print(value,label)\n",
    "#     if count==2:\n",
    "#         break\n",
    "# count =0\n",
    "# print('======Validation dataset ====')\n",
    "# for value,label in valid_ds:\n",
    "#     count += 1\n",
    "#     print(value,label)\n",
    "#     if count==2:\n",
    "#         break\n",
    "# print('======Test dataset ====')\n",
    "# for value,label in test_ds:\n",
    "#     count += 1\n",
    "#     print(value,label)\n",
    "#     if count==2:\n",
    "#         break"
   ]
  },
  {
   "cell_type": "code",
   "execution_count": 16,
   "metadata": {},
   "outputs": [
    {
     "name": "stdout",
     "output_type": "stream",
     "text": [
      "Model: \"sequential\"\n",
      "_________________________________________________________________\n",
      "Layer (type)                 Output Shape              Param #   \n",
      "=================================================================\n",
      "embedding (Embedding)        (None, 1210, 64)          1280064   \n",
      "_________________________________________________________________\n",
      "conv1d (Conv1D)              (None, 1209, 64)          8256      \n",
      "_________________________________________________________________\n",
      "global_max_pooling1d (Global (None, 64)                0         \n",
      "_________________________________________________________________\n",
      "flatten (Flatten)            (None, 64)                0         \n",
      "_________________________________________________________________\n",
      "dense (Dense)                (None, 64)                4160      \n",
      "_________________________________________________________________\n",
      "dense_1 (Dense)              (None, 2)                 130       \n",
      "=================================================================\n",
      "Total params: 1,292,610\n",
      "Trainable params: 1,292,610\n",
      "Non-trainable params: 0\n",
      "_________________________________________________________________\n"
     ]
    }
   ],
   "source": [
    "max_features =20000\n",
    "embedding_dim =64\n",
    "sequence_length = 1210\n",
    "\n",
    "model = tf.keras.Sequential()\n",
    "model.add(tf.keras.layers.Embedding(max_features +1, embedding_dim, input_length=sequence_length,\\\n",
    "                                    embeddings_regularizer = regularizers.l2(0.0005)))                                    \n",
    "\n",
    "model.add(tf.keras.layers.Conv1D(64,2, padding='valid', activation='relu',\\\n",
    "                                 kernel_regularizer = regularizers.l2(0.0005),\\\n",
    "                                 bias_regularizer = regularizers.l2(0.0005)))                               \n",
    "\n",
    "\n",
    "model.add(tf.keras.layers.GlobalMaxPooling1D())\n",
    "\n",
    "# model.add(tf.keras.layers.Dropout(0.5))\n",
    "\n",
    "model.add(tf.keras.layers.Flatten())\n",
    "\n",
    "# model.add(tf.keras.layers.Dropout(0.3))\n",
    "\n",
    "model.add(tf.keras.layers.Dense(64, activation='relu',\\\n",
    "                                kernel_regularizer=regularizers.l2(0.001),\\\n",
    "                                bias_regularizer=regularizers.l2(0.001)))\n",
    "\n",
    "# model.add(tf.keras.layers.Dropout(0.5))\n",
    "\n",
    "# model.add(tf.keras.layers.Dense(32, activation='relu',\\\n",
    "#                                 kernel_regularizer=regularizers.l2(0.001),\\\n",
    "#                                 bias_regularizer=regularizers.l2(0.001)))\n",
    "\n",
    "model.add(tf.keras.layers.Dense(2, activation='sigmoid',\\\n",
    "                                kernel_regularizer=regularizers.l2(0.001),\\\n",
    "                                bias_regularizer=regularizers.l2(0.001)))\n",
    "\n",
    "# custom_early_stopping = EarlyStopping(\n",
    "#     monitor='val_loss', \n",
    "#     patience=1, \n",
    "#     min_delta=0.001, \n",
    "#     mode='auto'\n",
    "# )\n",
    "\n",
    "\n",
    "\n",
    "model.summary()\n",
    "model.compile(loss=tf.keras.losses.CategoricalCrossentropy(from_logits=True), optimizer='adam', metrics=[\"CategoricalAccuracy\"])"
   ]
  },
  {
   "cell_type": "code",
   "execution_count": 17,
   "metadata": {},
   "outputs": [],
   "source": [
    "import graphviz"
   ]
  },
  {
   "cell_type": "code",
   "execution_count": 18,
   "metadata": {},
   "outputs": [
    {
     "data": {
      "image/png": "[encoded data removed]",
      "text/plain": [
       "<IPython.core.display.Image object>"
      ]
     },
     "execution_count": 18,
     "metadata": {},
     "output_type": "execute_result"
    }
   ],
   "source": [
    "tf.keras.utils.plot_model(model, \"multi_input_and_output_model.png\", show_shapes=True)"
   ]
  },
  {
   "cell_type": "code",
   "execution_count": 19,
   "metadata": {},
   "outputs": [
    {
     "name": "stdout",
     "output_type": "stream",
     "text": [
      "Epoch 1/4\n",
      "WARNING:tensorflow:Model was constructed with shape (None, 1210) for input KerasTensor(type_spec=TensorSpec(shape=(None, 1210), dtype=tf.float32, name='embedding_input'), name='embedding_input', description=\"created by layer 'embedding_input'\"), but it was called on an input with incompatible shape (None, 1500).\n"
     ]
    },
    {
     "name": "stderr",
     "output_type": "stream",
     "text": [
      "E:\\Anaconda3\\lib\\site-packages\\tensorflow\\python\\keras\\backend.py:4870: UserWarning: \"`categorical_crossentropy` received `from_logits=True`, but the `output` argument was produced by a sigmoid or softmax activation and thus does not represent logits. Was this intended?\"\n",
      "  '\"`categorical_crossentropy` received `from_logits=True`, but '\n"
     ]
    },
    {
     "name": "stdout",
     "output_type": "stream",
     "text": [
      "WARNING:tensorflow:Model was constructed with shape (None, 1210) for input KerasTensor(type_spec=TensorSpec(shape=(None, 1210), dtype=tf.float32, name='embedding_input'), name='embedding_input', description=\"created by layer 'embedding_input'\"), but it was called on an input with incompatible shape (None, 1500).\n",
      "29/29 [==============================] - ETA: 0s - loss: 1.0411 - categorical_accuracy: 0.6455WARNING:tensorflow:Model was constructed with shape (None, 1210) for input KerasTensor(type_spec=TensorSpec(shape=(None, 1210), dtype=tf.float32, name='embedding_input'), name='embedding_input', description=\"created by layer 'embedding_input'\"), but it was called on an input with incompatible shape (None, 1500).\n",
      "29/29 [==============================] - 6s 178ms/step - loss: 1.0411 - categorical_accuracy: 0.6455 - val_loss: 0.8379 - val_categorical_accuracy: 0.7335\n",
      "Epoch 2/4\n",
      "29/29 [==============================] - 5s 170ms/step - loss: 0.7193 - categorical_accuracy: 0.8341 - val_loss: 0.6564 - val_categorical_accuracy: 0.7687\n",
      "Epoch 3/4\n",
      "29/29 [==============================] - 5s 163ms/step - loss: 0.5082 - categorical_accuracy: 0.8804 - val_loss: 0.5338 - val_categorical_accuracy: 0.8084\n",
      "Epoch 4/4\n",
      "29/29 [==============================] - 5s 164ms/step - loss: 0.3629 - categorical_accuracy: 0.9118 - val_loss: 0.4946 - val_categorical_accuracy: 0.8194\n"
     ]
    }
   ],
   "source": [
    "epochs = 4\n",
    "\n",
    "# Fit the model using the train and test datasets.\n",
    "#history = model.fit(x_train, train_labels,validation_data= (x_test,test_labels),epochs=epochs )\n",
    "history = model.fit(X_train, \n",
    "                    y_train, \n",
    "                    epochs=epochs, \n",
    "                    batch_size=64,\n",
    "                    validation_data=(X_valid,y_valid),\n",
    "                    verbose=1)\n",
    "\n",
    "# ,\n",
    "#                     callbacks=[custom_early_stopping]"
   ]
  },
  {
   "cell_type": "code",
   "execution_count": 20,
   "metadata": {},
   "outputs": [
    {
     "data": {
      "text/plain": [
       "4"
      ]
     },
     "execution_count": 20,
     "metadata": {},
     "output_type": "execute_result"
    }
   ],
   "source": [
    "len(history.history['loss'])"
   ]
  },
  {
   "cell_type": "code",
   "execution_count": 21,
   "metadata": {},
   "outputs": [
    {
     "data": {
      "image/png": "[encoded data removed]",
      "text/plain": [
       "<Figure size 432x288 with 1 Axes>"
      ]
     },
     "metadata": {
      "needs_background": "light"
     },
     "output_type": "display_data"
    }
   ],
   "source": [
    "plt.plot(history.history['loss'], label=' training data')\n",
    "plt.plot(history.history['val_loss'], label='validation data)')\n",
    "plt.title('Loss for Text Classification')\n",
    "plt.ylabel('Loss value')\n",
    "plt.xlabel('No. epoch')\n",
    "plt.legend(loc=\"upper left\")\n",
    "plt.show()"
   ]
  },
  {
   "cell_type": "code",
   "execution_count": 22,
   "metadata": {},
   "outputs": [
    {
     "data": {
      "image/png": "[encoded data removed]",
      "text/plain": [
       "<Figure size 432x288 with 1 Axes>"
      ]
     },
     "metadata": {
      "needs_background": "light"
     },
     "output_type": "display_data"
    }
   ],
   "source": [
    "plt.plot(history.history['categorical_accuracy'], label=' (training data)')\n",
    "plt.plot(history.history['val_categorical_accuracy'], label='CategoricalCrossentropy (validation data)')\n",
    "plt.title('CategoricalAccuracy for Text Classification')\n",
    "plt.ylabel('CategoricalAccuracy value')\n",
    "plt.xlabel('No. epoch')\n",
    "plt.legend(loc=\"upper left\")\n",
    "plt.show()"
   ]
  },
  {
   "cell_type": "code",
   "execution_count": 23,
   "metadata": {},
   "outputs": [],
   "source": [
    "import pickle\n",
    "\n",
    "model.save('FIX\\\\Model38020\\\\tf_cnnmodel.hdf5') \n",
    "\n",
    "with open('tokenizer.pickle', 'wb') as handle:\n",
    "    pickle.dump(tokenizer, handle, protocol=pickle.HIGHEST_PROTOCOL)"
   ]
  },
  {
   "cell_type": "code",
   "execution_count": 24,
   "metadata": {
    "scrolled": true
   },
   "outputs": [
    {
     "name": "stdout",
     "output_type": "stream",
     "text": [
      "Model: \"sequential\"\n",
      "_________________________________________________________________\n",
      "Layer (type)                 Output Shape              Param #   \n",
      "=================================================================\n",
      "embedding (Embedding)        (None, 1210, 64)          1280064   \n",
      "_________________________________________________________________\n",
      "conv1d (Conv1D)              (None, 1209, 64)          8256      \n",
      "_________________________________________________________________\n",
      "global_max_pooling1d (Global (None, 64)                0         \n",
      "_________________________________________________________________\n",
      "flatten (Flatten)            (None, 64)                0         \n",
      "_________________________________________________________________\n",
      "dense (Dense)                (None, 64)                4160      \n",
      "_________________________________________________________________\n",
      "dense_1 (Dense)              (None, 2)                 130       \n",
      "=================================================================\n",
      "Total params: 1,292,610\n",
      "Trainable params: 1,292,610\n",
      "Non-trainable params: 0\n",
      "_________________________________________________________________\n"
     ]
    }
   ],
   "source": [
    "new_model = tf.keras.models.load_model('FIX\\\\Model38020\\\\tf_cnnmodel.hdf5')\n",
    "new_model.summary()"
   ]
  },
  {
   "cell_type": "code",
   "execution_count": 46,
   "metadata": {},
   "outputs": [
    {
     "data": {
      "text/html": [
       "<div>\n",
       "<style scoped>\n",
       "    .dataframe tbody tr th:only-of-type {\n",
       "        vertical-align: middle;\n",
       "    }\n",
       "\n",
       "    .dataframe tbody tr th {\n",
       "        vertical-align: top;\n",
       "    }\n",
       "\n",
       "    .dataframe thead th {\n",
       "        text-align: right;\n",
       "    }\n",
       "</style>\n",
       "<table border=\"1\" class=\"dataframe\">\n",
       "  <thead>\n",
       "    <tr style=\"text-align: right;\">\n",
       "      <th></th>\n",
       "      <th>review</th>\n",
       "      <th>sentiment</th>\n",
       "    </tr>\n",
       "  </thead>\n",
       "  <tbody>\n",
       "    <tr>\n",
       "      <td>111</td>\n",
       "      <td>must visit postcard location local say call tr...</td>\n",
       "      <td>1</td>\n",
       "    </tr>\n",
       "    <tr>\n",
       "      <td>101</td>\n",
       "      <td>dangerously ever see climb 2000 foot raw cliff...</td>\n",
       "      <td>0</td>\n",
       "    </tr>\n",
       "    <tr>\n",
       "      <td>99</td>\n",
       "      <td>must visit fit please tho bottom swim serene w...</td>\n",
       "      <td>1</td>\n",
       "    </tr>\n",
       "    <tr>\n",
       "      <td>42</td>\n",
       "      <td>top long way path steep dangerous didnt</td>\n",
       "      <td>0</td>\n",
       "    </tr>\n",
       "    <tr>\n",
       "      <td>89</td>\n",
       "      <td>eyeopening ive ever visit balithe landscape lo...</td>\n",
       "      <td>1</td>\n",
       "    </tr>\n",
       "  </tbody>\n",
       "</table>\n",
       "</div>"
      ],
      "text/plain": [
       "                                                review  sentiment\n",
       "111  must visit postcard location local say call tr...          1\n",
       "101  dangerously ever see climb 2000 foot raw cliff...          0\n",
       "99   must visit fit please tho bottom swim serene w...          1\n",
       "42             top long way path steep dangerous didnt          0\n",
       "89   eyeopening ive ever visit balithe landscape lo...          1"
      ]
     },
     "execution_count": 46,
     "metadata": {},
     "output_type": "execute_result"
    }
   ],
   "source": [
    "test_data = pd.read_csv('Data Test (5 Pantai)\\\\canggu_test_8020.csv', converters={'reviews' : str})\n",
    "# test_data.drop([\"Date\", \"Content\"], axis=1, inplace=True)\n",
    "# test_data.fillna(0)\n",
    "# test_data = test_data.fillna(\"\")\n",
    "test_data.sample(5)"
   ]
  },
  {
   "cell_type": "code",
   "execution_count": 47,
   "metadata": {},
   "outputs": [
    {
     "name": "stderr",
     "output_type": "stream",
     "text": [
      "E:\\Anaconda3\\lib\\site-packages\\ipykernel_launcher.py:2: VisibleDeprecationWarning: Creating an ndarray from ragged nested sequences (which is a list-or-tuple of lists-or-tuples-or ndarrays with different lengths or shapes) is deprecated. If you meant to do this, you must specify 'dtype=object' when creating the ndarray\n",
      "  \n"
     ]
    }
   ],
   "source": [
    "try:\n",
    "    x_test  = np.array( tokenizer.texts_to_sequences(test_data['review'].tolist()) )\n",
    "    # x_test = tokenizer\n",
    "    x_test = pad_sequences(x_test, padding='post', maxlen=1210)\n",
    "except AttributeError:\n",
    "    pass"
   ]
  },
  {
   "cell_type": "code",
   "execution_count": 48,
   "metadata": {},
   "outputs": [
    {
     "name": "stdout",
     "output_type": "stream",
     "text": [
      "Generate predictions for all samples\n",
      "[[0.32492372 0.77397037]\n",
      " [0.49385437 0.57364714]\n",
      " [0.5555891  0.520275  ]\n",
      " [0.7555977  0.23788765]\n",
      " [0.5240655  0.5007936 ]\n",
      " [0.5962327  0.48922986]\n",
      " [0.38317508 0.6703946 ]\n",
      " [0.47726664 0.60413396]\n",
      " [0.4709413  0.6143917 ]\n",
      " [0.54709834 0.50092256]\n",
      " [0.46730527 0.60192066]\n",
      " [0.38552842 0.737397  ]\n",
      " [0.2005221  0.8800633 ]\n",
      " [0.11016917 0.9480563 ]\n",
      " [0.7703835  0.24762693]\n",
      " [0.40040886 0.7088518 ]\n",
      " [0.19807282 0.87989926]\n",
      " [0.49089828 0.5824539 ]\n",
      " [0.18367171 0.88750905]\n",
      " [0.4772052  0.5588723 ]\n",
      " [0.31011945 0.79011023]\n",
      " [0.47822234 0.6551688 ]\n",
      " [0.41127852 0.676537  ]\n",
      " [0.63021344 0.44433948]\n",
      " [0.787614   0.20846426]\n",
      " [0.12079376 0.94329727]\n",
      " [0.61366093 0.43346307]\n",
      " [0.21192172 0.88005316]\n",
      " [0.374053   0.71857846]\n",
      " [0.32607913 0.7409253 ]\n",
      " [0.10227275 0.95240724]\n",
      " [0.38931355 0.71289635]\n",
      " [0.6440153  0.39612818]\n",
      " [0.41968602 0.6480513 ]\n",
      " [0.6311337  0.4206627 ]\n",
      " [0.3404565  0.7753811 ]\n",
      " [0.27755088 0.80780184]\n",
      " [0.26769257 0.83177584]\n",
      " [0.34702218 0.7804901 ]\n",
      " [0.26707557 0.81519973]\n",
      " [0.27895215 0.8268129 ]\n",
      " [0.3202411  0.7819207 ]\n",
      " [0.81425154 0.17695042]\n",
      " [0.2960971  0.81343067]\n",
      " [0.26718676 0.8198619 ]\n",
      " [0.48063973 0.64754355]\n",
      " [0.38709423 0.7231557 ]\n",
      " [0.63125217 0.39233336]\n",
      " [0.55735147 0.4869382 ]\n",
      " [0.16515788 0.911544  ]\n",
      " [0.2616194  0.8294016 ]\n",
      " [0.67582643 0.3348987 ]\n",
      " [0.4384596  0.65013134]\n",
      " [0.76939046 0.22258899]\n",
      " [0.5540267  0.47134933]\n",
      " [0.37105653 0.73938847]\n",
      " [0.55083543 0.5647347 ]\n",
      " [0.82336617 0.18292773]\n",
      " [0.33841628 0.761042  ]\n",
      " [0.3329913  0.8068593 ]\n",
      " [0.50762254 0.5400432 ]\n",
      " [0.48200577 0.58957446]\n",
      " [0.34615245 0.74252504]\n",
      " [0.6966243  0.32199118]\n",
      " [0.693963   0.29723233]\n",
      " [0.27992475 0.8156855 ]\n",
      " [0.44864503 0.648305  ]\n",
      " [0.46837634 0.6146799 ]\n",
      " [0.18320456 0.9073312 ]\n",
      " [0.82976687 0.16761899]\n",
      " [0.41880098 0.63989997]\n",
      " [0.47635895 0.57465434]\n",
      " [0.2625188  0.85425204]\n",
      " [0.2339209  0.8533649 ]\n",
      " [0.3796739  0.73056257]\n",
      " [0.25851452 0.8453493 ]\n",
      " [0.31129932 0.77674615]\n",
      " [0.49097463 0.5776955 ]\n",
      " [0.15360752 0.91200316]\n",
      " [0.4914815  0.54888326]\n",
      " [0.34180093 0.7401622 ]\n",
      " [0.25527316 0.8323325 ]\n",
      " [0.51334155 0.5218348 ]\n",
      " [0.43674588 0.6135358 ]\n",
      " [0.45920956 0.60936725]\n",
      " [0.5413761  0.509626  ]\n",
      " [0.15577278 0.9258749 ]\n",
      " [0.28401715 0.8243073 ]\n",
      " [0.41697758 0.6636468 ]\n",
      " [0.21700913 0.86639225]\n",
      " [0.4212227  0.69797933]\n",
      " [0.494092   0.5354679 ]\n",
      " [0.15945446 0.9104726 ]\n",
      " [0.34463352 0.7564528 ]\n",
      " [0.36618716 0.74453306]\n",
      " [0.5134693  0.55198884]\n",
      " [0.35507149 0.6939837 ]\n",
      " [0.25469542 0.8421427 ]\n",
      " [0.1261032  0.93628836]\n",
      " [0.44403535 0.6027762 ]\n",
      " [0.6568426  0.36293262]\n",
      " [0.62150604 0.39391637]\n",
      " [0.6342096  0.4162621 ]\n",
      " [0.61093986 0.50994694]\n",
      " [0.50136566 0.527899  ]\n",
      " [0.36834037 0.72606885]\n",
      " [0.40907514 0.7163326 ]\n",
      " [0.5707707  0.5105674 ]\n",
      " [0.39286384 0.7262839 ]\n",
      " [0.5300229  0.52539164]\n",
      " [0.77819824 0.23151323]\n",
      " [0.3954403  0.68538916]\n",
      " [0.39436334 0.6934723 ]\n",
      " [0.27278024 0.7994588 ]\n",
      " [0.1187878  0.9476235 ]\n",
      " [0.49419883 0.5581582 ]\n",
      " [0.45417526 0.670343  ]\n",
      " [0.45164505 0.61200964]\n",
      " [0.21796888 0.87092185]\n",
      " [0.5709077  0.46180427]\n",
      " [0.6356129  0.47885975]\n",
      " [0.16427305 0.9031181 ]\n",
      " [0.32606435 0.7734091 ]\n",
      " [0.18445796 0.9015727 ]\n",
      " [0.19772917 0.9019563 ]\n",
      " [0.3734647  0.7575928 ]\n",
      " [0.3852569  0.7203801 ]\n",
      " [0.24710965 0.851277  ]\n",
      " [0.8267863  0.1744237 ]\n",
      " [0.508784   0.52674043]\n",
      " [0.3894782  0.66951656]\n",
      " [0.11495334 0.9512142 ]\n",
      " [0.5560881  0.5169313 ]\n",
      " [0.5504781  0.5342015 ]\n",
      " [0.5668555  0.50540894]\n",
      " [0.47433206 0.61034113]\n",
      " [0.5358063  0.4907345 ]\n",
      " [0.7094399  0.2851792 ]\n",
      " [0.1710692  0.9078851 ]\n",
      " [0.32679898 0.7445023 ]\n",
      " [0.29125232 0.80970454]\n",
      " [0.20582929 0.8755084 ]\n",
      " [0.7363079  0.26012892]\n",
      " [0.52479124 0.5240799 ]\n",
      " [0.34946454 0.7478454 ]\n",
      " [0.49729237 0.605077  ]\n",
      " [0.16640294 0.9028709 ]\n",
      " [0.42870295 0.6680965 ]\n",
      " [0.17299613 0.8978487 ]\n",
      " [0.51349604 0.52469224]\n",
      " [0.6100274  0.48349974]]\n"
     ]
    }
   ],
   "source": [
    "# Generate predictions (probabilities -- the output of the last layer)\n",
    "# on test  data using `predict`\n",
    "print(\"Generate predictions for all samples\")\n",
    "predictions = new_model.predict(x_test)\n",
    "print(predictions)\n",
    "predict_results = predictions.argmax(axis=1)"
   ]
  },
  {
   "cell_type": "code",
   "execution_count": 49,
   "metadata": {},
   "outputs": [],
   "source": [
    "test_data['pred_sentiment'] = predict_results\n",
    "test_data['pred_sentiment'] = np.where((test_data.pred_sentiment == 0),'0',test_data.pred_sentiment)\n",
    "test_data['pred_sentiment'] = np.where((test_data.pred_sentiment == '1'),'1',test_data.pred_sentiment)"
   ]
  },
  {
   "cell_type": "code",
   "execution_count": 50,
   "metadata": {},
   "outputs": [
    {
     "name": "stdout",
     "output_type": "stream",
     "text": [
      "              precision    recall  f1-score   support\n",
      "\n",
      "           0       0.33      0.76      0.46        17\n",
      "           1       0.96      0.80      0.87       134\n",
      "\n",
      "    accuracy                           0.79       151\n",
      "   macro avg       0.64      0.78      0.66       151\n",
      "weighted avg       0.89      0.79      0.83       151\n",
      "\n"
     ]
    }
   ],
   "source": [
    "labels = ['0', '1']\n",
    "    \n",
    "print(classification_report(test_data['sentiment'].values.astype(str),test_data['pred_sentiment'].values,labels=labels))"
   ]
  },
  {
   "cell_type": "code",
   "execution_count": 51,
   "metadata": {},
   "outputs": [
    {
     "name": "stdout",
     "output_type": "stream",
     "text": [
      "Predicted   0    1\n",
      "Actual            \n",
      "0          13    4\n",
      "1          27  107\n"
     ]
    }
   ],
   "source": [
    "# df = pd.DataFrame(data, columns=['y_Actual','y_Predicted'])\n",
    "\n",
    "confusion_matrix = pd.crosstab(test_data['sentiment'], test_data['pred_sentiment'], rownames=['Actual'], colnames=['Predicted'])\n",
    "print (confusion_matrix)"
   ]
  },
  {
   "cell_type": "code",
   "execution_count": 52,
   "metadata": {},
   "outputs": [
    {
     "name": "stdout",
     "output_type": "stream",
     "text": [
      "ROC AUC Score\n",
      "0.7816066725197541\n"
     ]
    }
   ],
   "source": [
    "roc_auc = roc_auc_score(test_data['sentiment'], test_data['pred_sentiment'])\n",
    "\n",
    "print(\"ROC AUC Score\")\n",
    "print(roc_auc)"
   ]
  },
  {
   "cell_type": "code",
   "execution_count": 53,
   "metadata": {},
   "outputs": [
    {
     "name": "stdout",
     "output_type": "stream",
     "text": [
      "WARNING:tensorflow:Model was constructed with shape (None, 1210) for input KerasTensor(type_spec=TensorSpec(shape=(None, 1210), dtype=tf.float32, name='embedding_input'), name='embedding_input', description=\"created by layer 'embedding_input'\"), but it was called on an input with incompatible shape (None, 5).\n"
     ]
    },
    {
     "data": {
      "text/plain": [
       "'1'"
      ]
     },
     "execution_count": 53,
     "metadata": {},
     "output_type": "execute_result"
    }
   ],
   "source": [
    "sequence20 = tokenizer.texts_to_sequences(['perfect morning walk amazing sunrise'])\n",
    "\n",
    "\n",
    "test20 = pad_sequences(sequence20, padding=\"post\")\n",
    "labels[np.around(new_model.predict(test20)).argmax(axis=1)[0]]"
   ]
  },
  {
   "cell_type": "code",
   "execution_count": 54,
   "metadata": {},
   "outputs": [
    {
     "data": {
      "text/plain": [
       "'0'"
      ]
     },
     "execution_count": 54,
     "metadata": {},
     "output_type": "execute_result"
    }
   ],
   "source": [
    "sequence30 = tokenizer.texts_to_sequences(['dirty beach'])\n",
    "\n",
    "\n",
    "test30 = pad_sequences(sequence30, padding=\"post\")\n",
    "labels[np.around(new_model.predict(test30)).argmax(axis=1)[0]]"
   ]
  },
  {
   "cell_type": "code",
   "execution_count": null,
   "metadata": {},
   "outputs": [],
   "source": []
  }
 ],
 "metadata": {
  "kernelspec": {
   "display_name": "Python 3",
   "language": "python",
   "name": "python3"
  },
  "language_info": {
   "codemirror_mode": {
    "name": "ipython",
    "version": 3
   },
   "file_extension": ".py",
   "mimetype": "text/x-python",
   "name": "python",
   "nbconvert_exporter": "python",
   "pygments_lexer": "ipython3",
   "version": "3.7.4"
  }
 },
 "nbformat": 4,
 "nbformat_minor": 2
}
