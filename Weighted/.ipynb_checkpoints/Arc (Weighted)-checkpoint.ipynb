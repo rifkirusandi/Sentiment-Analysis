{
 "cells": [
  {
   "cell_type": "code",
   "execution_count": 1,
   "metadata": {},
   "outputs": [],
   "source": [
    "import matplotlib.pyplot as plt\n",
    "import os\n",
    "import re\n",
    "import shutil\n",
    "import string\n",
    "import tensorflow as tf\n",
    "import warnings\n",
    "import imblearn\n",
    "\n",
    "from collections import Counter\n",
    "\n",
    "from imblearn.over_sampling import SMOTE, RandomOverSampler\n",
    "from imblearn.under_sampling import RandomUnderSampler\n",
    "from imblearn.pipeline import Pipeline\n",
    "\n",
    "from tensorflow.keras import regularizers\n",
    "from tensorflow.keras.callbacks import EarlyStopping\n",
    "\n",
    "from tensorflow.keras import layers\n",
    "from tensorflow.keras import losses\n",
    "\n",
    "from keras.utils.np_utils import to_categorical\n",
    "from keras.callbacks import ModelCheckpoint\n",
    "from keras.callbacks import ReduceLROnPlateau\n",
    "\n",
    "import pandas as pd\n",
    "import numpy as np\n",
    "\n",
    "from sklearn.feature_extraction.text import TfidfVectorizer\n",
    "\n",
    "from sklearn.preprocessing import LabelEncoder\n",
    "from sklearn.model_selection import train_test_split\n",
    "from sklearn.metrics import classification_report\n",
    "from sklearn.metrics import f1_score\n",
    "from sklearn.metrics import roc_auc_score\n",
    "from sklearn.metrics import roc_curve\n",
    "\n",
    "from tensorflow.keras import preprocessing\n",
    "from tensorflow.keras.preprocessing.text import Tokenizer\n",
    "from tensorflow.keras.preprocessing.sequence import pad_sequences\n",
    "\n",
    "import pydot"
   ]
  },
  {
   "cell_type": "code",
   "execution_count": 2,
   "metadata": {},
   "outputs": [
    {
     "name": "stdout",
     "output_type": "stream",
     "text": [
      "-------Train data--------\n",
      "1    7431\n",
      "0    1134\n",
      "Name: sentiment, dtype: int64\n",
      "8565\n",
      "-------Test data--------\n",
      "1    1842\n",
      "0     301\n",
      "Name: sentiment, dtype: int64\n",
      "2143\n",
      "-------------------------\n",
      "Train Max Sentence Length :1175\n",
      "Test Max Sentence Length :433\n"
     ]
    }
   ],
   "source": [
    "train_data= pd.read_csv('Data Train\\\\data_train_8020.csv')\n",
    "train_data.dropna(axis = 0, how ='any',inplace=True) \n",
    "\n",
    "\n",
    "train_data['Num_words_text'] = train_data['review'].apply(lambda x:len(str(x).split())) \n",
    "mask = train_data['Num_words_text'] >2\n",
    "train_data = train_data[mask]\n",
    "\n",
    "print('-------Train data--------')\n",
    "print(train_data['sentiment'].value_counts())\n",
    "print(len(train_data))\n",
    "max_train_sentence_length  = train_data['Num_words_text'].max()\n",
    "\n",
    "test_data= pd.read_csv('Data Test\\\\data_test_8020.csv')\n",
    "test_data.dropna(axis = 0, how ='any',inplace=True) \n",
    "test_data['Num_words_text'] = test_data['review'].apply(lambda x:len(str(x).split())) \n",
    "\n",
    "max_test_sentence_length  = test_data['Num_words_text'].max()\n",
    "\n",
    "mask = test_data['Num_words_text'] >2\n",
    "test_data = test_data[mask]\n",
    "\n",
    "print('-------Test data--------')\n",
    "print(test_data['sentiment'].value_counts())\n",
    "print(len(test_data))\n",
    "print('-------------------------')\n",
    "\n",
    "print('Train Max Sentence Length :'+str(max_train_sentence_length))\n",
    "print('Test Max Sentence Length :'+str(max_test_sentence_length))\n",
    "\n",
    "#all_sentences = train_data['text'].tolist() + test_data['text'].tolist()"
   ]
  },
  {
   "cell_type": "code",
   "execution_count": 3,
   "metadata": {},
   "outputs": [],
   "source": [
    "corpus = train_data['review'].values.astype('U')\n",
    "# test_data['review'].values.astype('U')"
   ]
  },
  {
   "cell_type": "code",
   "execution_count": 4,
   "metadata": {},
   "outputs": [
    {
     "name": "stdout",
     "output_type": "stream",
     "text": [
      "  (0, 3130)\t0.385099010613826\n",
      "  (0, 11905)\t0.31562236958895257\n",
      "  (0, 11653)\t0.3301784367032046\n",
      "  (0, 2881)\t0.46912777524920823\n",
      "  (0, 10254)\t0.4400195845244474\n",
      "  (0, 3928)\t0.21782448636015125\n",
      "  (0, 10113)\t0.25365869533384494\n",
      "  (0, 13235)\t0.34289229639008195\n",
      "  (1, 2046)\t0.25984490387122927\n",
      "  (1, 11985)\t0.3122997742552879\n",
      "  (1, 11657)\t0.353207178281733\n",
      "  (1, 11843)\t0.2581509397220775\n",
      "  (1, 4802)\t0.7620392922165313\n",
      "  (1, 3928)\t0.250695782934696\n",
      "  (2, 11266)\t0.33712994009249947\n",
      "  (2, 1258)\t0.28381843132304296\n",
      "  (2, 9836)\t0.20099281655506065\n",
      "  (2, 9992)\t0.1880821948555131\n",
      "  (2, 2509)\t0.2860340666116696\n",
      "  (2, 3309)\t0.28381843132304296\n",
      "  (2, 1086)\t0.19643896287211474\n",
      "  (2, 12796)\t0.39083098120516746\n",
      "  (2, 1473)\t0.2049397360931509\n",
      "  (2, 11231)\t0.38895704845583634\n",
      "  (2, 1668)\t0.18185726858610637\n",
      "  :\t:\n",
      "  (8562, 8036)\t0.2308150649862618\n",
      "  (8562, 7355)\t0.15018967939136713\n",
      "  (8562, 3928)\t0.19872917865936657\n",
      "  (8563, 5089)\t0.6105100556351752\n",
      "  (8563, 5556)\t0.36438797115416977\n",
      "  (8563, 7388)\t0.2508669725832493\n",
      "  (8563, 1897)\t0.24381339207751654\n",
      "  (8563, 6674)\t0.36317078645911943\n",
      "  (8563, 11728)\t0.26989741054952926\n",
      "  (8563, 13194)\t0.24486852973596857\n",
      "  (8563, 1258)\t0.32775210318672604\n",
      "  (8564, 5899)\t0.36281452707699235\n",
      "  (8564, 6256)\t0.3143347360161769\n",
      "  (8564, 4157)\t0.30511553795708457\n",
      "  (8564, 12820)\t0.39603279536837144\n",
      "  (8564, 7231)\t0.22870941097098493\n",
      "  (8564, 9014)\t0.31580943178358556\n",
      "  (8564, 10743)\t0.22107926702614375\n",
      "  (8564, 8434)\t0.25663574689626917\n",
      "  (8564, 7332)\t0.17345579114094806\n",
      "  (8564, 8310)\t0.19863275420460058\n",
      "  (8564, 10268)\t0.226568536506682\n",
      "  (8564, 11954)\t0.13932466037425473\n",
      "  (8564, 4506)\t0.28899049937631055\n",
      "  (8564, 11671)\t0.1704060780172888\n"
     ]
    }
   ],
   "source": [
    "vec = TfidfVectorizer(stop_words='english')\n",
    "resp = vec.fit_transform(corpus)\n",
    "print(resp)\n",
    "# print(train_data['review'])"
   ]
  },
  {
   "cell_type": "code",
   "execution_count": 5,
   "metadata": {},
   "outputs": [],
   "source": [
    "num_words = 20000\n",
    "train_max_len = 1500\n",
    "test_max_len = 450\n",
    "\n",
    "tokenizer = Tokenizer(num_words=num_words,oov_token=\"unk\")\n",
    "tokenizer.fit_on_texts(corpus.tolist())\n",
    "\n",
    "# integer encode the documents\n",
    "sequences = tokenizer.texts_to_sequences(corpus)\n",
    "# X_test  = tokenizer.texts_to_sequences(test_data['review'])\n",
    "\n",
    "# pad documents to a max length \n",
    "X = pad_sequences(sequences, maxlen=train_max_len)\n",
    "# X_test = pad_sequences(X_test, maxlen=test_max_len)\n",
    "\n",
    "# print(str(tokenizer.texts_to_sequences(['nice spot hang friend see also sunset amazing beside many option restaurant choose along'])))"
   ]
  },
  {
   "cell_type": "code",
   "execution_count": 6,
   "metadata": {},
   "outputs": [
    {
     "name": "stdout",
     "output_type": "stream",
     "text": [
      "(8565, 1500)\n"
     ]
    }
   ],
   "source": [
    "print(X.shape)\n",
    "# print(X_test.shape)"
   ]
  },
  {
   "cell_type": "code",
   "execution_count": 7,
   "metadata": {},
   "outputs": [],
   "source": [
    "# define pipeline\n",
    "# over = SMOTE()\n",
    "under = RandomUnderSampler()\n",
    "# steps = [('o', over)]\n",
    "# pipeline = Pipeline(steps=steps)\n",
    "\n",
    "\n",
    "# transform the dataset\n",
    "X, y = under.fit_resample(X, train_data['sentiment'])"
   ]
  },
  {
   "cell_type": "code",
   "execution_count": 8,
   "metadata": {},
   "outputs": [
    {
     "name": "stdout",
     "output_type": "stream",
     "text": [
      "Counter({0: 1134, 1: 1134})\n"
     ]
    }
   ],
   "source": [
    "counter = Counter(y)\n",
    "print(counter)"
   ]
  },
  {
   "cell_type": "code",
   "execution_count": 9,
   "metadata": {},
   "outputs": [],
   "source": [
    "# One-hot encoding of labels\n",
    "\n",
    "# y_test = tf.keras.utils.to_categorical(test_data['sentiment'])\n",
    "y = tf.keras.utils.to_categorical(y)"
   ]
  },
  {
   "cell_type": "code",
   "execution_count": 10,
   "metadata": {},
   "outputs": [
    {
     "data": {
      "text/plain": [
       "(2268, 1500)"
      ]
     },
     "execution_count": 10,
     "metadata": {},
     "output_type": "execute_result"
    }
   ],
   "source": [
    "X.shape"
   ]
  },
  {
   "cell_type": "code",
   "execution_count": 11,
   "metadata": {},
   "outputs": [
    {
     "data": {
      "text/plain": [
       "(2268, 2)"
      ]
     },
     "execution_count": 11,
     "metadata": {},
     "output_type": "execute_result"
    }
   ],
   "source": [
    "y.shape"
   ]
  },
  {
   "cell_type": "code",
   "execution_count": 12,
   "metadata": {},
   "outputs": [],
   "source": [
    "X_train, X_valid, y_train, y_valid = train_test_split(X,\\\n",
    "                                                      y,\\\n",
    "                                                      test_size=0.2,\\\n",
    "                                                      stratify = y,\\\n",
    "                                                      random_state=0)\n",
    "\n",
    "# print('Train data len:'+str(len(X_train)))\n",
    "# print('Class distribution'+str(Counter(y_train)))\n",
    "# print('Valid data len:'+str(len(X_valid)))\n",
    "# print('Class distribution'+ str(Counter(y_valid)))\n",
    "\n",
    "\n",
    "# x_train = np.array( tokenizer.texts_to_sequences(X_train) )\n",
    "# x_valid = np.array( tokenizer.texts_to_sequences(X_valid) )\n",
    "# x_test  = np.array( tokenizer.texts_to_sequences(X.tolist()) )\n",
    "\n",
    "# #Normal\n",
    "# # x_train = pad_sequences(x_train, padding='post', maxlen=1210)\n",
    "# # x_valid = pad_sequences(x_valid, padding='post', maxlen=1210)\n",
    "# # x_test = pad_sequences(x_test, padding='post', maxlen=390)\n",
    "\n",
    "# #Undersampling\n",
    "# x_train = pad_sequences(x_train, padding='post', maxlen=1210)\n",
    "# x_valid = pad_sequences(x_valid, padding='post', maxlen=1210)\n",
    "# x_test = pad_sequences(x_test, padding='post', maxlen=390)\n",
    "\n",
    "# print(x_train[0])\n",
    "\n",
    "# le = LabelEncoder()\n",
    "\n",
    "# train_labels = le.fit_transform(y_train)\n",
    "# train_labels = np.asarray( tf.keras.utils.to_categorical(train_labels))\n",
    "# #print(train_labels)\n",
    "# valid_labels = le.transform(y_valid)\n",
    "# valid_labels = np.asarray( tf.keras.utils.to_categorical(valid_labels))\n",
    "\n",
    "# test_labels = le.transform(test_data['sentiment'].tolist())\n",
    "# test_labels = np.asarray(tf.keras.utils.to_categorical(test_labels))\n",
    "# list(le.classes_)\n",
    "\n",
    "\n",
    "# train_ds = tf.data.Dataset.from_tensor_slices((x_train,train_labels))\n",
    "# valid_ds = tf.data.Dataset.from_tensor_slices((x_valid,valid_labels))\n",
    "# test_ds = tf.data.Dataset.from_tensor_slices((x_test,test_labels))"
   ]
  },
  {
   "cell_type": "code",
   "execution_count": 13,
   "metadata": {},
   "outputs": [
    {
     "name": "stdout",
     "output_type": "stream",
     "text": [
      "-----TRAIN SHAPE---\n",
      "x_train:  (1814, 1500)\n",
      "y_train:  (1814, 2)\n",
      "\n",
      "-----VALID SHAPE---\n",
      "x_valid:  (454, 1500)\n",
      "y_valid:  (454, 2)\n"
     ]
    }
   ],
   "source": [
    "print('-----TRAIN SHAPE---')\n",
    "print('x_train: ',X_train.shape)\n",
    "print('y_train: ',y_train.shape)\n",
    "print('')\n",
    "print('-----VALID SHAPE---')\n",
    "print('x_valid: ',X_valid.shape)\n",
    "print('y_valid: ',y_valid.shape)"
   ]
  },
  {
   "cell_type": "code",
   "execution_count": 14,
   "metadata": {},
   "outputs": [],
   "source": [
    "# print(y_train[:10])\n",
    "# train_labels = le.fit_transform(y_train)\n",
    "# print('Text to number')\n",
    "# print(train_labels[:10])\n",
    "# train_labels = np.asarray( tf.keras.utils.to_categorical(train_labels))\n",
    "# print('Number to category')\n",
    "# print(train_labels[:10])"
   ]
  },
  {
   "cell_type": "code",
   "execution_count": 15,
   "metadata": {},
   "outputs": [],
   "source": [
    "# count =0\n",
    "# print('======Train dataset ====')\n",
    "# for value,label in train_ds:\n",
    "#     count += 1\n",
    "#     print(value,label)\n",
    "#     if count==2:\n",
    "#         break\n",
    "# count =0\n",
    "# print('======Validation dataset ====')\n",
    "# for value,label in valid_ds:\n",
    "#     count += 1\n",
    "#     print(value,label)\n",
    "#     if count==2:\n",
    "#         break\n",
    "# print('======Test dataset ====')\n",
    "# for value,label in test_ds:\n",
    "#     count += 1\n",
    "#     print(value,label)\n",
    "#     if count==2:\n",
    "#         break"
   ]
  },
  {
   "cell_type": "code",
   "execution_count": 16,
   "metadata": {},
   "outputs": [
    {
     "name": "stdout",
     "output_type": "stream",
     "text": [
      "Model: \"sequential\"\n",
      "_________________________________________________________________\n",
      "Layer (type)                 Output Shape              Param #   \n",
      "=================================================================\n",
      "embedding (Embedding)        (None, 1210, 64)          1280064   \n",
      "_________________________________________________________________\n",
      "conv1d (Conv1D)              (None, 1209, 64)          8256      \n",
      "_________________________________________________________________\n",
      "global_max_pooling1d (Global (None, 64)                0         \n",
      "_________________________________________________________________\n",
      "flatten (Flatten)            (None, 64)                0         \n",
      "_________________________________________________________________\n",
      "dense (Dense)                (None, 64)                4160      \n",
      "_________________________________________________________________\n",
      "dense_1 (Dense)              (None, 2)                 130       \n",
      "=================================================================\n",
      "Total params: 1,292,610\n",
      "Trainable params: 1,292,610\n",
      "Non-trainable params: 0\n",
      "_________________________________________________________________\n"
     ]
    }
   ],
   "source": [
    "max_features =20000\n",
    "embedding_dim =64\n",
    "sequence_length = 1210\n",
    "\n",
    "model = tf.keras.Sequential()\n",
    "model.add(tf.keras.layers.Embedding(max_features +1, embedding_dim, input_length=sequence_length,\\\n",
    "                                    embeddings_regularizer = regularizers.l2(0.0005)))                                    \n",
    "\n",
    "model.add(tf.keras.layers.Conv1D(64,2, padding='valid', activation='relu',\\\n",
    "                                 kernel_regularizer = regularizers.l2(0.0005),\\\n",
    "                                 bias_regularizer = regularizers.l2(0.0005)))                               \n",
    "\n",
    "\n",
    "model.add(tf.keras.layers.GlobalMaxPooling1D())\n",
    "\n",
    "# model.add(tf.keras.layers.Dropout(0.5))\n",
    "\n",
    "model.add(tf.keras.layers.Flatten())\n",
    "\n",
    "# model.add(tf.keras.layers.Dropout(0.3))\n",
    "\n",
    "model.add(tf.keras.layers.Dense(64, activation='relu',\\\n",
    "                                kernel_regularizer=regularizers.l2(0.001),\\\n",
    "                                bias_regularizer=regularizers.l2(0.001)))\n",
    "\n",
    "# model.add(tf.keras.layers.Dropout(0.5))\n",
    "\n",
    "# model.add(tf.keras.layers.Dense(32, activation='relu',\\\n",
    "#                                 kernel_regularizer=regularizers.l2(0.001),\\\n",
    "#                                 bias_regularizer=regularizers.l2(0.001)))\n",
    "\n",
    "model.add(tf.keras.layers.Dense(2, activation='sigmoid',\\\n",
    "                                kernel_regularizer=regularizers.l2(0.001),\\\n",
    "                                bias_regularizer=regularizers.l2(0.001)))\n",
    "\n",
    "# custom_early_stopping = EarlyStopping(\n",
    "#     monitor='val_loss', \n",
    "#     patience=1, \n",
    "#     min_delta=0.001, \n",
    "#     mode='auto'\n",
    "# )\n",
    "\n",
    "\n",
    "\n",
    "model.summary()\n",
    "model.compile(loss=tf.keras.losses.CategoricalCrossentropy(from_logits=True), optimizer='adam', metrics=[\"CategoricalAccuracy\"])"
   ]
  },
  {
   "cell_type": "code",
   "execution_count": 17,
   "metadata": {},
   "outputs": [],
   "source": [
    "import graphviz"
   ]
  },
  {
   "cell_type": "code",
   "execution_count": 18,
   "metadata": {},
   "outputs": [
    {
     "data": {
      "image/png": "[encoded data removed]",
      "text/plain": [
       "<IPython.core.display.Image object>"
      ]
     },
     "execution_count": 18,
     "metadata": {},
     "output_type": "execute_result"
    }
   ],
   "source": [
    "tf.keras.utils.plot_model(model, \"multi_input_and_output_model.png\", show_shapes=True)"
   ]
  },
  {
   "cell_type": "code",
   "execution_count": 19,
   "metadata": {},
   "outputs": [
    {
     "name": "stdout",
     "output_type": "stream",
     "text": [
      "Epoch 1/3\n",
      "WARNING:tensorflow:Model was constructed with shape (None, 1210) for input KerasTensor(type_spec=TensorSpec(shape=(None, 1210), dtype=tf.float32, name='embedding_input'), name='embedding_input', description=\"created by layer 'embedding_input'\"), but it was called on an input with incompatible shape (None, 1500).\n"
     ]
    },
    {
     "name": "stderr",
     "output_type": "stream",
     "text": [
      "E:\\Anaconda3\\lib\\site-packages\\tensorflow\\python\\keras\\backend.py:4870: UserWarning: \"`categorical_crossentropy` received `from_logits=True`, but the `output` argument was produced by a sigmoid or softmax activation and thus does not represent logits. Was this intended?\"\n",
      "  '\"`categorical_crossentropy` received `from_logits=True`, but '\n"
     ]
    },
    {
     "name": "stdout",
     "output_type": "stream",
     "text": [
      "WARNING:tensorflow:Model was constructed with shape (None, 1210) for input KerasTensor(type_spec=TensorSpec(shape=(None, 1210), dtype=tf.float32, name='embedding_input'), name='embedding_input', description=\"created by layer 'embedding_input'\"), but it was called on an input with incompatible shape (None, 1500).\n",
      "29/29 [==============================] - ETA: 0s - loss: 1.0474 - categorical_accuracy: 0.5447WARNING:tensorflow:Model was constructed with shape (None, 1210) for input KerasTensor(type_spec=TensorSpec(shape=(None, 1210), dtype=tf.float32, name='embedding_input'), name='embedding_input', description=\"created by layer 'embedding_input'\"), but it was called on an input with incompatible shape (None, 1500).\n",
      "29/29 [==============================] - 7s 187ms/step - loss: 1.0474 - categorical_accuracy: 0.5447 - val_loss: 0.8484 - val_categorical_accuracy: 0.6652\n",
      "Epoch 2/3\n",
      "29/29 [==============================] - 5s 185ms/step - loss: 0.7564 - categorical_accuracy: 0.8324 - val_loss: 0.6999 - val_categorical_accuracy: 0.7731\n",
      "Epoch 3/3\n",
      "29/29 [==============================] - 5s 181ms/step - loss: 0.5520 - categorical_accuracy: 0.8578 - val_loss: 0.5585 - val_categorical_accuracy: 0.7863\n"
     ]
    }
   ],
   "source": [
    "epochs = 3\n",
    "\n",
    "# Fit the model using the train and test datasets.\n",
    "#history = model.fit(x_train, train_labels,validation_data= (x_test,test_labels),epochs=epochs )\n",
    "history = model.fit(X_train, \n",
    "                    y_train, \n",
    "                    epochs=epochs, \n",
    "                    batch_size=64,\n",
    "                    validation_data=(X_valid,y_valid),\n",
    "                    verbose=1)\n",
    "\n",
    "# ,\n",
    "#                     callbacks=[custom_early_stopping]"
   ]
  },
  {
   "cell_type": "code",
   "execution_count": 20,
   "metadata": {},
   "outputs": [
    {
     "data": {
      "text/plain": [
       "3"
      ]
     },
     "execution_count": 20,
     "metadata": {},
     "output_type": "execute_result"
    }
   ],
   "source": [
    "len(history.history['loss'])"
   ]
  },
  {
   "cell_type": "code",
   "execution_count": 21,
   "metadata": {},
   "outputs": [
    {
     "data": {
      "image/png": "[encoded data removed]",
      "text/plain": [
       "<Figure size 432x288 with 1 Axes>"
      ]
     },
     "metadata": {
      "needs_background": "light"
     },
     "output_type": "display_data"
    }
   ],
   "source": [
    "plt.plot(history.history['loss'], label=' training data')\n",
    "plt.plot(history.history['val_loss'], label='validation data)')\n",
    "plt.title('Loss for Text Classification')\n",
    "plt.ylabel('Loss value')\n",
    "plt.xlabel('No. epoch')\n",
    "plt.legend(loc=\"upper left\")\n",
    "plt.show()"
   ]
  },
  {
   "cell_type": "code",
   "execution_count": 22,
   "metadata": {},
   "outputs": [
    {
     "data": {
      "image/png": "[encoded data removed]",
      "text/plain": [
       "<Figure size 432x288 with 1 Axes>"
      ]
     },
     "metadata": {
      "needs_background": "light"
     },
     "output_type": "display_data"
    }
   ],
   "source": [
    "plt.plot(history.history['categorical_accuracy'], label=' (training data)')\n",
    "plt.plot(history.history['val_categorical_accuracy'], label='CategoricalCrossentropy (validation data)')\n",
    "plt.title('CategoricalAccuracy for Text Classification')\n",
    "plt.ylabel('CategoricalAccuracy value')\n",
    "plt.xlabel('No. epoch')\n",
    "plt.legend(loc=\"upper left\")\n",
    "plt.show()"
   ]
  },
  {
   "cell_type": "code",
   "execution_count": 23,
   "metadata": {},
   "outputs": [],
   "source": [
    "import pickle\n",
    "\n",
    "model.save('FIX\\\\Model1\\\\tf_cnnmodel.hdf5') \n",
    "\n",
    "with open('tokenizer.pickle', 'wb') as handle:\n",
    "    pickle.dump(tokenizer, handle, protocol=pickle.HIGHEST_PROTOCOL)"
   ]
  },
  {
   "cell_type": "code",
   "execution_count": 24,
   "metadata": {
    "scrolled": true
   },
   "outputs": [
    {
     "name": "stdout",
     "output_type": "stream",
     "text": [
      "Model: \"sequential\"\n",
      "_________________________________________________________________\n",
      "Layer (type)                 Output Shape              Param #   \n",
      "=================================================================\n",
      "embedding (Embedding)        (None, 1210, 64)          1280064   \n",
      "_________________________________________________________________\n",
      "conv1d (Conv1D)              (None, 1209, 64)          8256      \n",
      "_________________________________________________________________\n",
      "global_max_pooling1d (Global (None, 64)                0         \n",
      "_________________________________________________________________\n",
      "flatten (Flatten)            (None, 64)                0         \n",
      "_________________________________________________________________\n",
      "dense (Dense)                (None, 64)                4160      \n",
      "_________________________________________________________________\n",
      "dense_1 (Dense)              (None, 2)                 130       \n",
      "=================================================================\n",
      "Total params: 1,292,610\n",
      "Trainable params: 1,292,610\n",
      "Non-trainable params: 0\n",
      "_________________________________________________________________\n"
     ]
    }
   ],
   "source": [
    "new_model = tf.keras.models.load_model('FIX\\\\Model1\\\\tf_cnnmodel.hdf5')\n",
    "new_model.summary()"
   ]
  },
  {
   "cell_type": "code",
   "execution_count": 52,
   "metadata": {},
   "outputs": [
    {
     "data": {
      "text/html": [
       "<div>\n",
       "<style scoped>\n",
       "    .dataframe tbody tr th:only-of-type {\n",
       "        vertical-align: middle;\n",
       "    }\n",
       "\n",
       "    .dataframe tbody tr th {\n",
       "        vertical-align: top;\n",
       "    }\n",
       "\n",
       "    .dataframe thead th {\n",
       "        text-align: right;\n",
       "    }\n",
       "</style>\n",
       "<table border=\"1\" class=\"dataframe\">\n",
       "  <thead>\n",
       "    <tr style=\"text-align: right;\">\n",
       "      <th></th>\n",
       "      <th>review</th>\n",
       "      <th>sentiment</th>\n",
       "    </tr>\n",
       "  </thead>\n",
       "  <tbody>\n",
       "    <tr>\n",
       "      <td>266</td>\n",
       "      <td>amazing sunsetnice beanbag sun sand sea wave k...</td>\n",
       "      <td>1</td>\n",
       "    </tr>\n",
       "    <tr>\n",
       "      <td>172</td>\n",
       "      <td>chill bintangs watch plenty front bar</td>\n",
       "      <td>1</td>\n",
       "    </tr>\n",
       "    <tr>\n",
       "      <td>56</td>\n",
       "      <td>wave learn surf well avid surfer sand isnt whi...</td>\n",
       "      <td>1</td>\n",
       "    </tr>\n",
       "    <tr>\n",
       "      <td>119</td>\n",
       "      <td>scattered bar reasonable beer price live music...</td>\n",
       "      <td>1</td>\n",
       "    </tr>\n",
       "    <tr>\n",
       "      <td>174</td>\n",
       "      <td>location close city enjoy buy coconut water wa...</td>\n",
       "      <td>1</td>\n",
       "    </tr>\n",
       "  </tbody>\n",
       "</table>\n",
       "</div>"
      ],
      "text/plain": [
       "                                                review  sentiment\n",
       "266  amazing sunsetnice beanbag sun sand sea wave k...          1\n",
       "172              chill bintangs watch plenty front bar          1\n",
       "56   wave learn surf well avid surfer sand isnt whi...          1\n",
       "119  scattered bar reasonable beer price live music...          1\n",
       "174  location close city enjoy buy coconut water wa...          1"
      ]
     },
     "execution_count": 52,
     "metadata": {},
     "output_type": "execute_result"
    }
   ],
   "source": [
    "test_data = pd.read_csv('Data Test (5 Pantai)\\\\doublesix_test_8020.csv', converters={'reviews' : str})\n",
    "# test_data.drop([\"Date\", \"Content\"], axis=1, inplace=True)\n",
    "# test_data.fillna(0)\n",
    "# test_data = test_data.fillna(\"\")\n",
    "test_data.sample(5)"
   ]
  },
  {
   "cell_type": "code",
   "execution_count": 53,
   "metadata": {},
   "outputs": [
    {
     "name": "stderr",
     "output_type": "stream",
     "text": [
      "E:\\Anaconda3\\lib\\site-packages\\ipykernel_launcher.py:2: VisibleDeprecationWarning: Creating an ndarray from ragged nested sequences (which is a list-or-tuple of lists-or-tuples-or ndarrays with different lengths or shapes) is deprecated. If you meant to do this, you must specify 'dtype=object' when creating the ndarray\n",
      "  \n"
     ]
    }
   ],
   "source": [
    "try:\n",
    "    x_test  = np.array( tokenizer.texts_to_sequences(test_data['review'].tolist()) )\n",
    "    # x_test = tokenizer\n",
    "    x_test = pad_sequences(x_test, padding='post', maxlen=1210)\n",
    "except AttributeError:\n",
    "    pass"
   ]
  },
  {
   "cell_type": "code",
   "execution_count": 54,
   "metadata": {},
   "outputs": [
    {
     "name": "stdout",
     "output_type": "stream",
     "text": [
      "Generate predictions for all samples\n",
      "[[0.29071635 0.6779107 ]\n",
      " [0.37237114 0.59255993]\n",
      " [0.17716873 0.78689915]\n",
      " [0.35627127 0.6051986 ]\n",
      " [0.21130401 0.7731701 ]\n",
      " [0.52889663 0.43608922]\n",
      " [0.5166434  0.42729974]\n",
      " [0.32157406 0.64267063]\n",
      " [0.3231248  0.6683351 ]\n",
      " [0.5510226  0.4018529 ]\n",
      " [0.27468023 0.71172446]\n",
      " [0.1779699  0.8046852 ]\n",
      " [0.54264647 0.41080874]\n",
      " [0.5391489  0.42468876]\n",
      " [0.1480422  0.8111063 ]\n",
      " [0.49602866 0.4881138 ]\n",
      " [0.5111411  0.44974136]\n",
      " [0.26730043 0.719796  ]\n",
      " [0.22034448 0.7668293 ]\n",
      " [0.3369726  0.6358752 ]\n",
      " [0.29780883 0.6376599 ]\n",
      " [0.7264097  0.23843643]\n",
      " [0.32679853 0.65018755]\n",
      " [0.21671712 0.7686477 ]\n",
      " [0.31087357 0.66235846]\n",
      " [0.3520832  0.6222948 ]\n",
      " [0.25642842 0.73292565]\n",
      " [0.6100881  0.3227357 ]\n",
      " [0.33087015 0.65230906]\n",
      " [0.54059756 0.4152065 ]\n",
      " [0.27797434 0.70002663]\n",
      " [0.3018154  0.6769658 ]\n",
      " [0.22010148 0.73402274]\n",
      " [0.39762157 0.57014656]\n",
      " [0.6192863  0.34632108]\n",
      " [0.76743543 0.19091186]\n",
      " [0.36681473 0.6136382 ]\n",
      " [0.48257858 0.47762644]\n",
      " [0.47091615 0.48964328]\n",
      " [0.3586811  0.62297755]\n",
      " [0.35644412 0.62031686]\n",
      " [0.27175725 0.6924979 ]\n",
      " [0.17830396 0.80583155]\n",
      " [0.5753022  0.33781618]\n",
      " [0.56528187 0.37145025]\n",
      " [0.45141667 0.51087993]\n",
      " [0.31473482 0.6563459 ]\n",
      " [0.3183121  0.6587591 ]\n",
      " [0.6819579  0.2827767 ]\n",
      " [0.39677924 0.58098453]\n",
      " [0.3520907  0.61150295]\n",
      " [0.16365111 0.81968474]\n",
      " [0.3128532  0.6613254 ]\n",
      " [0.4806978  0.4863442 ]\n",
      " [0.6607769  0.27778414]\n",
      " [0.28788283 0.70134985]\n",
      " [0.46176717 0.49605405]\n",
      " [0.22099292 0.75866115]\n",
      " [0.44217846 0.52689767]\n",
      " [0.5113662  0.45612887]\n",
      " [0.56227505 0.3984737 ]\n",
      " [0.64947635 0.30856422]\n",
      " [0.16709027 0.7993897 ]\n",
      " [0.4133714  0.5485892 ]\n",
      " [0.7620301  0.21330634]\n",
      " [0.47166803 0.49709257]\n",
      " [0.47263235 0.46998632]\n",
      " [0.40271932 0.5751745 ]\n",
      " [0.21087977 0.78143847]\n",
      " [0.27210754 0.69945633]\n",
      " [0.5897733  0.36180145]\n",
      " [0.21579498 0.7671862 ]\n",
      " [0.4313115  0.541985  ]\n",
      " [0.6361929  0.32322127]\n",
      " [0.2545575  0.72287345]\n",
      " [0.4914873  0.4728373 ]\n",
      " [0.300547   0.69085646]\n",
      " [0.6544153  0.30053172]\n",
      " [0.46209553 0.49678227]\n",
      " [0.42533314 0.5534065 ]\n",
      " [0.62216944 0.33745053]\n",
      " [0.33283383 0.63718307]\n",
      " [0.17673919 0.80771494]\n",
      " [0.30349576 0.6680564 ]\n",
      " [0.43668136 0.53234726]\n",
      " [0.48102468 0.48667705]\n",
      " [0.81652665 0.15617499]\n",
      " [0.24711147 0.73705095]\n",
      " [0.47609875 0.48980206]\n",
      " [0.59849244 0.3680247 ]\n",
      " [0.39194643 0.5801639 ]\n",
      " [0.17483553 0.8083109 ]\n",
      " [0.3918666  0.5792465 ]\n",
      " [0.37518367 0.5912177 ]\n",
      " [0.73857427 0.21412349]\n",
      " [0.3635884  0.61487055]\n",
      " [0.21632934 0.7645146 ]\n",
      " [0.21843413 0.76552564]\n",
      " [0.21041536 0.74786866]\n",
      " [0.53193265 0.4303583 ]\n",
      " [0.53449756 0.4131096 ]\n",
      " [0.20090884 0.7903539 ]\n",
      " [0.225299   0.75749385]\n",
      " [0.33776033 0.63180965]\n",
      " [0.46590737 0.50715894]\n",
      " [0.35483342 0.6226903 ]\n",
      " [0.32285804 0.6530767 ]\n",
      " [0.484058   0.45562834]\n",
      " [0.22927028 0.7492761 ]\n",
      " [0.39339694 0.5706018 ]\n",
      " [0.26488808 0.722767  ]\n",
      " [0.2749269  0.7031622 ]\n",
      " [0.4115215  0.5584395 ]\n",
      " [0.3519426  0.6269139 ]\n",
      " [0.1961996  0.77030456]\n",
      " [0.33418095 0.6516205 ]\n",
      " [0.6479169  0.30655718]\n",
      " [0.67396843 0.28798008]\n",
      " [0.40446985 0.57321   ]\n",
      " [0.2264786  0.7597751 ]\n",
      " [0.16346449 0.81975436]\n",
      " [0.6133204  0.35765246]\n",
      " [0.5728037  0.3766572 ]\n",
      " [0.24446374 0.7449953 ]\n",
      " [0.40341002 0.5711267 ]\n",
      " [0.32247406 0.65532476]\n",
      " [0.38350153 0.59188086]\n",
      " [0.3929845  0.56951576]\n",
      " [0.33756143 0.61229324]\n",
      " [0.5184677  0.4210325 ]\n",
      " [0.22733131 0.75732803]\n",
      " [0.4872879  0.48065364]\n",
      " [0.3382321  0.6275127 ]\n",
      " [0.18806902 0.7795542 ]\n",
      " [0.25040358 0.7372755 ]\n",
      " [0.18723935 0.78951705]\n",
      " [0.21806714 0.771121  ]\n",
      " [0.383166   0.57637405]\n",
      " [0.32039195 0.6597736 ]\n",
      " [0.27566707 0.69986826]\n",
      " [0.3142256  0.65124667]\n",
      " [0.30444428 0.67456615]\n",
      " [0.3034411  0.6761758 ]\n",
      " [0.2523644  0.73423946]\n",
      " [0.18786949 0.796335  ]\n",
      " [0.47627375 0.47530127]\n",
      " [0.41516364 0.558738  ]\n",
      " [0.28538626 0.66680765]\n",
      " [0.1820158  0.80290264]\n",
      " [0.50918555 0.4671233 ]\n",
      " [0.74873245 0.20803097]\n",
      " [0.6527147  0.28480253]\n",
      " [0.2613397  0.7182615 ]\n",
      " [0.772915   0.16654342]\n",
      " [0.3968878  0.54471433]\n",
      " [0.29892913 0.6973306 ]\n",
      " [0.71897805 0.20962787]\n",
      " [0.78522897 0.18085852]\n",
      " [0.33217227 0.63929427]\n",
      " [0.36782348 0.60350037]\n",
      " [0.25173432 0.692085  ]\n",
      " [0.29828975 0.67699105]\n",
      " [0.23489827 0.75209063]\n",
      " [0.22796196 0.75801843]\n",
      " [0.56151193 0.39891222]\n",
      " [0.2947134  0.6810881 ]\n",
      " [0.20794871 0.77572155]\n",
      " [0.1969271  0.78136134]\n",
      " [0.2137678  0.76981115]\n",
      " [0.3636429  0.59935457]\n",
      " [0.701507   0.25604343]\n",
      " [0.2786662  0.6998712 ]\n",
      " [0.40855718 0.5684599 ]\n",
      " [0.20455688 0.76670927]\n",
      " [0.18883193 0.796077  ]\n",
      " [0.4606093  0.50747365]\n",
      " [0.30925506 0.6748372 ]\n",
      " [0.52187693 0.4359713 ]\n",
      " [0.17587727 0.8048903 ]\n",
      " [0.43124792 0.53293365]\n",
      " [0.24616632 0.75149196]\n",
      " [0.3521235  0.62895805]\n",
      " [0.58318543 0.38674727]\n",
      " [0.27829894 0.6952884 ]\n",
      " [0.1877791  0.796435  ]\n",
      " [0.21224403 0.7600672 ]\n",
      " [0.3482647  0.6234041 ]\n",
      " [0.3430603  0.62597144]\n",
      " [0.1861864  0.79712   ]\n",
      " [0.37574747 0.6056094 ]\n",
      " [0.42672905 0.53817385]\n",
      " [0.33363423 0.6430819 ]\n",
      " [0.4823003  0.48760295]\n",
      " [0.45910028 0.5153501 ]\n",
      " [0.25282508 0.724989  ]\n",
      " [0.31243998 0.6566945 ]\n",
      " [0.25523713 0.7226279 ]\n",
      " [0.7981336  0.17380741]\n",
      " [0.32039002 0.655915  ]\n",
      " [0.28150123 0.6849048 ]\n",
      " [0.67932093 0.27949262]\n",
      " [0.3522191  0.60543376]\n",
      " [0.19658518 0.7898672 ]\n",
      " [0.22136512 0.7404071 ]\n",
      " [0.7366913  0.21872813]\n",
      " [0.367298   0.60400885]\n",
      " [0.37622374 0.5910009 ]\n",
      " [0.3408509  0.6311377 ]\n",
      " [0.17794546 0.8083002 ]\n",
      " [0.5738281  0.370871  ]\n",
      " [0.29793715 0.6668009 ]\n",
      " [0.39981776 0.5762666 ]\n",
      " [0.2330426  0.7438296 ]\n",
      " [0.25309205 0.73225015]\n",
      " [0.27139324 0.7208245 ]\n",
      " [0.34787697 0.62493694]\n",
      " [0.2732643  0.70603704]\n",
      " [0.6293955  0.31302056]\n",
      " [0.4779687  0.48112953]\n",
      " [0.34379333 0.61765295]\n",
      " [0.5783278  0.3850374 ]\n",
      " [0.56410354 0.3933681 ]\n",
      " [0.4379518  0.53505427]\n",
      " [0.22077078 0.76318455]\n",
      " [0.64664423 0.31112695]\n",
      " [0.66682494 0.29045382]\n",
      " [0.31480026 0.65672344]\n",
      " [0.2659067  0.720634  ]\n",
      " [0.44954726 0.52679425]\n",
      " [0.15886772 0.82297   ]\n",
      " [0.23520273 0.75463176]\n",
      " [0.43218327 0.54255223]\n",
      " [0.22988304 0.76010436]\n",
      " [0.2465907  0.7357682 ]\n",
      " [0.28855968 0.6905894 ]\n",
      " [0.26079407 0.7313917 ]\n",
      " [0.490516   0.46436256]\n",
      " [0.6180625  0.3436064 ]\n",
      " [0.39324114 0.5824398 ]\n",
      " [0.25012928 0.73824847]\n",
      " [0.34988976 0.62758875]\n",
      " [0.18541008 0.78116393]\n",
      " [0.24385789 0.7359704 ]\n",
      " [0.37679315 0.59948254]\n",
      " [0.24612114 0.73941827]\n",
      " [0.32318962 0.65358394]\n",
      " [0.3027857  0.6820079 ]\n",
      " [0.49907243 0.44339487]\n",
      " [0.30987853 0.65331566]\n",
      " [0.51554406 0.42630512]\n",
      " [0.41416806 0.54913634]\n",
      " [0.4999746  0.46467042]\n",
      " [0.5148812  0.42756957]\n",
      " [0.29077676 0.68795055]\n",
      " [0.21496853 0.74898624]\n",
      " [0.39632997 0.57498807]\n",
      " [0.20284721 0.7838348 ]\n",
      " [0.29013604 0.69231474]\n",
      " [0.16618758 0.8130665 ]\n",
      " [0.27999884 0.66300327]\n",
      " [0.23450378 0.74957   ]\n",
      " [0.7768746  0.17023003]\n",
      " [0.3260776  0.6457604 ]\n",
      " [0.6055908  0.35622114]\n",
      " [0.49232855 0.45851335]\n",
      " [0.24542022 0.74224806]\n",
      " [0.555483   0.4052162 ]\n",
      " [0.33504114 0.63774574]\n",
      " [0.54114974 0.42840695]\n",
      " [0.29376733 0.6995275 ]\n",
      " [0.6672741  0.2589068 ]\n",
      " [0.14948422 0.8395519 ]\n",
      " [0.28953212 0.69971395]\n",
      " [0.19006068 0.79256284]\n",
      " [0.3313821  0.63779795]\n",
      " [0.2959115  0.695986  ]\n",
      " [0.38708776 0.58868164]\n",
      " [0.4186455  0.5591247 ]\n",
      " [0.48162165 0.47548673]\n",
      " [0.34963804 0.62234694]\n",
      " [0.4183368  0.55238163]\n",
      " [0.14804697 0.8302045 ]\n",
      " [0.3514684  0.61427295]\n",
      " [0.72332007 0.21040273]\n",
      " [0.22806612 0.7371025 ]\n",
      " [0.6152515  0.32987824]\n",
      " [0.30594504 0.6717939 ]\n",
      " [0.53953457 0.38171118]\n",
      " [0.3986588  0.57961106]\n",
      " [0.32586765 0.6489748 ]\n",
      " [0.8120649  0.15870574]\n",
      " [0.22389245 0.76440746]\n",
      " [0.23059028 0.73207605]\n",
      " [0.2302616  0.7555042 ]\n",
      " [0.17198929 0.8018832 ]\n",
      " [0.1618905  0.8210062 ]\n",
      " [0.2279076  0.7599184 ]\n",
      " [0.38672465 0.5925741 ]\n",
      " [0.31884658 0.6710635 ]\n",
      " [0.26425618 0.7230435 ]\n",
      " [0.5186831  0.4429054 ]\n",
      " [0.20464775 0.7767761 ]\n",
      " [0.29550582 0.668245  ]\n",
      " [0.2022993  0.7847445 ]\n",
      " [0.29717845 0.67900175]\n",
      " [0.27785617 0.69681424]]\n"
     ]
    }
   ],
   "source": [
    "# Generate predictions (probabilities -- the output of the last layer)\n",
    "# on test  data using `predict`\n",
    "print(\"Generate predictions for all samples\")\n",
    "predictions = new_model.predict(x_test)\n",
    "print(predictions)\n",
    "predict_results = predictions.argmax(axis=1)"
   ]
  },
  {
   "cell_type": "code",
   "execution_count": 55,
   "metadata": {},
   "outputs": [],
   "source": [
    "test_data['pred_sentiment'] = predict_results\n",
    "test_data['pred_sentiment'] = np.where((test_data.pred_sentiment == 0),'0',test_data.pred_sentiment)\n",
    "test_data['pred_sentiment'] = np.where((test_data.pred_sentiment == '1'),'1',test_data.pred_sentiment)"
   ]
  },
  {
   "cell_type": "code",
   "execution_count": 56,
   "metadata": {},
   "outputs": [
    {
     "name": "stdout",
     "output_type": "stream",
     "text": [
      "              precision    recall  f1-score   support\n",
      "\n",
      "           0       0.35      0.71      0.47        38\n",
      "           1       0.95      0.81      0.88       268\n",
      "\n",
      "    accuracy                           0.80       306\n",
      "   macro avg       0.65      0.76      0.67       306\n",
      "weighted avg       0.88      0.80      0.83       306\n",
      "\n"
     ]
    }
   ],
   "source": [
    "labels = ['0', '1']\n",
    "    \n",
    "print(classification_report(test_data['sentiment'].values.astype(int).astype(str),test_data['pred_sentiment'].values,labels=labels))"
   ]
  },
  {
   "cell_type": "code",
   "execution_count": 57,
   "metadata": {},
   "outputs": [
    {
     "name": "stdout",
     "output_type": "stream",
     "text": [
      "Predicted   0    1\n",
      "Actual            \n",
      "0          27   11\n",
      "1          50  218\n"
     ]
    }
   ],
   "source": [
    "# df = pd.DataFrame(data, columns=['y_Actual','y_Predicted'])\n",
    "\n",
    "confusion_matrix = pd.crosstab(test_data['sentiment'], test_data['pred_sentiment'], rownames=['Actual'], colnames=['Predicted'])\n",
    "print (confusion_matrix)"
   ]
  },
  {
   "cell_type": "code",
   "execution_count": 58,
   "metadata": {},
   "outputs": [
    {
     "name": "stdout",
     "output_type": "stream",
     "text": [
      "ROC AUC Score\n",
      "0.7619795758051846\n"
     ]
    }
   ],
   "source": [
    "roc_auc = roc_auc_score(test_data['sentiment'], test_data['pred_sentiment'])\n",
    "\n",
    "print(\"ROC AUC Score\")\n",
    "print(roc_auc)"
   ]
  },
  {
   "cell_type": "code",
   "execution_count": 59,
   "metadata": {},
   "outputs": [
    {
     "data": {
      "text/plain": [
       "'1'"
      ]
     },
     "execution_count": 59,
     "metadata": {},
     "output_type": "execute_result"
    }
   ],
   "source": [
    "sequence20 = tokenizer.texts_to_sequences(['perfect morning walk amazing sunrise'])\n",
    "\n",
    "\n",
    "test20 = pad_sequences(sequence20, padding=\"post\")\n",
    "labels[np.around(new_model.predict(test20)).argmax(axis=1)[0]]"
   ]
  },
  {
   "cell_type": "code",
   "execution_count": 60,
   "metadata": {},
   "outputs": [
    {
     "data": {
      "text/plain": [
       "'0'"
      ]
     },
     "execution_count": 60,
     "metadata": {},
     "output_type": "execute_result"
    }
   ],
   "source": [
    "sequence30 = tokenizer.texts_to_sequences(['dirty beach'])\n",
    "\n",
    "\n",
    "test30 = pad_sequences(sequence30, padding=\"post\")\n",
    "labels[np.around(new_model.predict(test30)).argmax(axis=1)[0]]"
   ]
  },
  {
   "cell_type": "code",
   "execution_count": null,
   "metadata": {},
   "outputs": [],
   "source": []
  }
 ],
 "metadata": {
  "kernelspec": {
   "display_name": "Python 3",
   "language": "python",
   "name": "python3"
  },
  "language_info": {
   "codemirror_mode": {
    "name": "ipython",
    "version": 3
   },
   "file_extension": ".py",
   "mimetype": "text/x-python",
   "name": "python",
   "nbconvert_exporter": "python",
   "pygments_lexer": "ipython3",
   "version": "3.7.4"
  }
 },
 "nbformat": 4,
 "nbformat_minor": 2
}
