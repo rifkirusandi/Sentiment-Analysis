{
 "cells": [
  {
   "cell_type": "code",
   "execution_count": 5,
   "metadata": {},
   "outputs": [],
   "source": [
    "from collections import Counter\n",
    "from imblearn.under_sampling import RandomUnderSampler\n",
    "import pandas as pd"
   ]
  },
  {
   "cell_type": "code",
   "execution_count": 6,
   "metadata": {},
   "outputs": [
    {
     "data": {
      "text/html": [
       "<div>\n",
       "<style scoped>\n",
       "    .dataframe tbody tr th:only-of-type {\n",
       "        vertical-align: middle;\n",
       "    }\n",
       "\n",
       "    .dataframe tbody tr th {\n",
       "        vertical-align: top;\n",
       "    }\n",
       "\n",
       "    .dataframe thead th {\n",
       "        text-align: right;\n",
       "    }\n",
       "</style>\n",
       "<table border=\"1\" class=\"dataframe\">\n",
       "  <thead>\n",
       "    <tr style=\"text-align: right;\">\n",
       "      <th></th>\n",
       "      <th>Date</th>\n",
       "      <th>Content</th>\n",
       "      <th>review</th>\n",
       "      <th>scores</th>\n",
       "      <th>compound</th>\n",
       "      <th>sentiment</th>\n",
       "    </tr>\n",
       "  </thead>\n",
       "  <tbody>\n",
       "    <tr>\n",
       "      <td>0</td>\n",
       "      <td>17-Aug</td>\n",
       "      <td>Best American Cheese Burger with oldies milksh...</td>\n",
       "      <td>best american cheese burger oldie milkshake va...</td>\n",
       "      <td>{'neg': 0.0, 'neu': 0.569, 'pos': 0.431, 'comp...</td>\n",
       "      <td>0.8908</td>\n",
       "      <td>1</td>\n",
       "    </tr>\n",
       "    <tr>\n",
       "      <td>1</td>\n",
       "      <td>15-Dec</td>\n",
       "      <td>One of the beaches that are not full of touris...</td>\n",
       "      <td>one beach full tourist sure usually empty come...</td>\n",
       "      <td>{'neg': 0.053, 'neu': 0.534, 'pos': 0.412, 'co...</td>\n",
       "      <td>0.9022</td>\n",
       "      <td>1</td>\n",
       "    </tr>\n",
       "    <tr>\n",
       "      <td>2</td>\n",
       "      <td>12-Jul</td>\n",
       "      <td>the beach is clear and not so crowded, and als...</td>\n",
       "      <td>clear crowd people tide horse seller always bo...</td>\n",
       "      <td>{'neg': 0.218, 'neu': 0.545, 'pos': 0.236, 'co...</td>\n",
       "      <td>0.0516</td>\n",
       "      <td>1</td>\n",
       "    </tr>\n",
       "    <tr>\n",
       "      <td>3</td>\n",
       "      <td>14-Nov</td>\n",
       "      <td>Crowded beach but worth to be out there to cat...</td>\n",
       "      <td>crowd worth catch wave best time sunset totall...</td>\n",
       "      <td>{'neg': 0.0, 'neu': 0.541, 'pos': 0.459, 'comp...</td>\n",
       "      <td>0.8797</td>\n",
       "      <td>1</td>\n",
       "    </tr>\n",
       "    <tr>\n",
       "      <td>4</td>\n",
       "      <td>19-Dec</td>\n",
       "      <td>If you’re looking for the idyllic, white sand ...</td>\n",
       "      <td>youre look idyllic white sand turquoise blue w...</td>\n",
       "      <td>{'neg': 0.081, 'neu': 0.734, 'pos': 0.186, 'co...</td>\n",
       "      <td>0.5116</td>\n",
       "      <td>1</td>\n",
       "    </tr>\n",
       "  </tbody>\n",
       "</table>\n",
       "</div>"
      ],
      "text/plain": [
       "     Date                                            Content  \\\n",
       "0  17-Aug  Best American Cheese Burger with oldies milksh...   \n",
       "1  15-Dec  One of the beaches that are not full of touris...   \n",
       "2  12-Jul  the beach is clear and not so crowded, and als...   \n",
       "3  14-Nov  Crowded beach but worth to be out there to cat...   \n",
       "4  19-Dec  If you’re looking for the idyllic, white sand ...   \n",
       "\n",
       "                                              review  \\\n",
       "0  best american cheese burger oldie milkshake va...   \n",
       "1  one beach full tourist sure usually empty come...   \n",
       "2  clear crowd people tide horse seller always bo...   \n",
       "3  crowd worth catch wave best time sunset totall...   \n",
       "4  youre look idyllic white sand turquoise blue w...   \n",
       "\n",
       "                                              scores  compound  sentiment  \n",
       "0  {'neg': 0.0, 'neu': 0.569, 'pos': 0.431, 'comp...    0.8908          1  \n",
       "1  {'neg': 0.053, 'neu': 0.534, 'pos': 0.412, 'co...    0.9022          1  \n",
       "2  {'neg': 0.218, 'neu': 0.545, 'pos': 0.236, 'co...    0.0516          1  \n",
       "3  {'neg': 0.0, 'neu': 0.541, 'pos': 0.459, 'comp...    0.8797          1  \n",
       "4  {'neg': 0.081, 'neu': 0.734, 'pos': 0.186, 'co...    0.5116          1  "
      ]
     },
     "execution_count": 6,
     "metadata": {},
     "output_type": "execute_result"
    }
   ],
   "source": [
    "df= pd.read_csv('Undersampled\\\\data_train.csv')\n",
    "\n",
    "X, y = \n",
    "\n",
    "df.head()"
   ]
  },
  {
   "cell_type": "code",
   "execution_count": 8,
   "metadata": {},
   "outputs": [],
   "source": [
    "undersample = RandomUnderSampler(sampling_strategy='majority')\n",
    "\n",
    "\n",
    "# X_res, y_res = rus.fit_resample(X, y)"
   ]
  },
  {
   "cell_type": "code",
   "execution_count": null,
   "metadata": {},
   "outputs": [],
   "source": []
  }
 ],
 "metadata": {
  "kernelspec": {
   "display_name": "Python 3",
   "language": "python",
   "name": "python3"
  },
  "language_info": {
   "codemirror_mode": {
    "name": "ipython",
    "version": 3
   },
   "file_extension": ".py",
   "mimetype": "text/x-python",
   "name": "python",
   "nbconvert_exporter": "python",
   "pygments_lexer": "ipython3",
   "version": "3.7.4"
  }
 },
 "nbformat": 4,
 "nbformat_minor": 2
}
